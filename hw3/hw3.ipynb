{
 "cells": [
  {
   "cell_type": "markdown",
   "id": "9c7c2837",
   "metadata": {
    "pycharm": {
     "name": "#%% md\n"
    }
   },
   "source": [
    "#### Advanced Statistics for Data Science (Spring 2022)\n",
    "# Home Assignment 3\n",
    "#### Topics:\n",
    "- Statistical Estimation\n",
    "- Hypothesis Testing in one and two samples\n",
    "\n",
    "#### Due: 26/04/2022 by 18:30\n",
    "\n",
    "#### Instructions:\n",
    "- Write your name, Student ID, and date in the cell below. \n",
    "- Submit a copy of this notebook with code filled in the relevant places as the solution of coding excercises.\n",
    "- For theoretic excercises, you can either write your solution in the notebook using $\\LaTeX$ or submit additional notes.\n",
    "\n",
    "<hr>\n",
    "<hr>"
   ]
  },
  {
   "cell_type": "markdown",
   "id": "972793a2",
   "metadata": {
    "pycharm": {
     "name": "#%% md\n"
    }
   },
   "source": [
    "**Name**: Ofir Nesher\n",
    "\n",
    "**Student ID**: 204502926\n",
    "\n",
    "**Date**: 16/04/2022\n",
    "\n",
    "$\n",
    "\\newcommand{\\Id}{{\\mathbf{I}}}\n",
    "\\newcommand{\\SSE}{\\mathsf{SSE}}\n",
    "\\newcommand{\\SSR}{\\mathsf{SSR}}\n",
    "\\newcommand{\\MSE}{\\mathsf{MSE}}\n",
    "\\newcommand{\\simiid}{\\overset{iid}{\\sim}}\n",
    "\\newcommand{\\ex}{\\mathbb E}\n",
    "\\newcommand{\\var}{\\mathrm{Var}}\n",
    "\\newcommand{\\Cov}[2]{{\\mathrm{Cov}  \\left(#1, #2 \\right)}}\n",
    "\\newcommand{\\one}[1]{\\mathbf 1 {\\left\\{#1\\right\\}}}\n",
    "\\newcommand{\\SE}[1]{\\mathrm{SE} \\left[#1\\right]}\n",
    "\\newcommand{\\reals}{\\mathbb R}\n",
    "\\newcommand{\\Ncal}{\\mathcal N}\n",
    "\\newcommand{\\abs}[1]{\\ensuremath{\\left\\vert#1\\right\\vert}}\n",
    "\\newcommand{\\rank}{\\operatorname{rank}}\n",
    "\\newcommand{\\tr}{\\operatorname{Tr}}\n",
    "\\newcommand{\\diag}{\\operatorname{diag}}\n",
    "\\newcommand{\\sign}{\\operatorname{sign}}\n",
    "$"
   ]
  },
  {
   "cell_type": "markdown",
   "id": "e50517ab",
   "metadata": {
    "pycharm": {
     "name": "#%% md\n"
    }
   },
   "source": [
    "<hr>\n",
    "<hr>"
   ]
  },
  {
   "cell_type": "markdown",
   "id": "93acbbf2",
   "metadata": {
    "tags": [],
    "pycharm": {
     "name": "#%% md\n"
    }
   },
   "source": [
    "## Problem 1 (Variance Estimation)\n",
    "\n",
    "Consider the variance estimate\n",
    "$$\n",
    "s^2 = \\frac{1}{n-1} \\sum_{i=1}^n(y_i - \\bar{y})^2. \n",
    "$$\n",
    "If $Y_i \\simiid \\Ncal(\\mu,\\sigma^2)$, then \n",
    "$$\n",
    "\\frac{n-1}{\\sigma^2}s^2 \\sim \\chi^2_{n-1}.\n",
    "$$\n",
    "1. Use this information to derive a $1-\\alpha$ confidence interval for $\\sigma^2$ (express $L$ and $U$ in terms of $s^2$, $n$, and the relevant quantiles of the $\\chi^2$ distribution).\n",
    "2. For $n = 2,\\ldots,10$ and $\\alpha=0.05$, report on the lower ($L$) and upper ($U$) values of the confidence interval in terms of $s^2$.\n",
    "3. How large $n$ must be to obtain a $0.95$ confidence interval of size $0.1s^2$?\n",
    "\n",
    "The point: the number of degrees of freedom needed for a reasonable ($10\\%$ range) estimate of the variance can be very large. Sometimes, much larger than our data permits."
   ]
  },
  {
   "cell_type": "markdown",
   "id": "b0b133ac-2c30-40cd-a2e3-8060008a475e",
   "metadata": {
    "jp-MarkdownHeadingCollapsed": true,
    "tags": [],
    "pycharm": {
     "name": "#%% md\n"
    }
   },
   "source": [
    "### **Answers**:"
   ]
  },
  {
   "cell_type": "markdown",
   "id": "5a84fd30-e131-41f7-b377-8c62b25dc2ea",
   "metadata": {
    "tags": [],
    "pycharm": {
     "name": "#%% md\n"
    }
   },
   "source": [
    "#### 1.\n",
    "Denote $T = \\frac{n-1}{\\sigma^2}s^2$ --> $T \\sim \\chi^2_{n-1}$\n",
    "\n",
    "Derive a $1-\\alpha$ confidence interval for $\\sigma^2$:\n",
    "\n",
    "$$\n",
    "(1-\\alpha) = Pr(|T| < {\\chi^2_{n-1}}^{(\\frac{\\alpha}{2})}) =\n",
    "$$\n",
    "$$\n",
    "Pr({\\chi^2_{n-1}}^{(1-\\frac{\\alpha}{2})} < T < {\\chi^2_{n-1}}^{(\\frac{\\alpha}{2})}) = \n",
    "$$\n",
    "$$\n",
    "Pr({\\chi^2_{n-1}}^{(1-\\frac{\\alpha}{2})} < \\frac{n-1}{\\sigma^2}s^2 < {\\chi^2_{n-1}}^{(\\frac{\\alpha}{2})}) =\n",
    "$$\n",
    "\n",
    "getting the inverse:\n",
    "$$\n",
    "Pr(\\frac{1}{{\\chi^2_{n-1}}^{(1-\\frac{\\alpha}{2})}} > \\frac{\\sigma^2}{(n-1) s^2} > \\frac{1}{{\\chi^2_{n-1}}^{2}}) =\n",
    "$$\n",
    "\n",
    "arranging sides\n",
    "$$\n",
    "Pr(\\frac{1}{{\\chi^2_{n-1}}^{(\\frac{\\alpha}{2})}} < \\frac{\\sigma^2}{(n-1) s^2} < \\frac{1}{{\\chi^2_{n-1}}^{(1-\\frac{\\alpha}{2})}}) =\n",
    "$$\n",
    "\n",
    "$$\n",
    "Pr(\\frac{(n-1) s^2}{{\\chi^2_{n-1}}^{(\\frac{\\alpha}{2})}} < \\sigma^2 < \\frac{(n-1) s^2}{{\\chi^2_{n-1}}^{(1-\\frac{\\alpha}{2})}})\n",
    "$$\n",
    "\n",
    "Where $L=\\frac{(n-1) s^2}{{\\chi^2_{n-1}}^{(\\frac{\\alpha}{2})}}$ and $U=\\frac{(n-1) s^2}{{\\chi^2_{n-1}}^{(1-\\frac{\\alpha}{2})}}$"
   ]
  },
  {
   "cell_type": "markdown",
   "id": "792fc6bf-13ae-410a-b4e1-8ea4946d9e9f",
   "metadata": {
    "pycharm": {
     "name": "#%% md\n"
    }
   },
   "source": [
    "#### 2.\n",
    "We need to plug each n into the distribution's `isf` and find $L$ & $U$."
   ]
  },
  {
   "cell_type": "code",
   "execution_count": 13,
   "id": "cdbdf647-6c58-4472-87d1-0de433ffab24",
   "metadata": {
    "tags": [],
    "pycharm": {
     "name": "#%%\n"
    }
   },
   "outputs": [
    {
     "name": "stdout",
     "output_type": "stream",
     "text": [
      "n = 2: L = 0.199 * s^2, U = 1018.258 * s^2\n",
      "n = 3: L = 0.271 * s^2, U = 39.498 * s^2\n",
      "n = 4: L = 0.321 * s^2, U = 13.902 * s^2\n",
      "n = 5: L = 0.359 * s^2, U = 8.257 * s^2\n",
      "n = 6: L = 0.39 * s^2, U = 6.015 * s^2\n",
      "n = 7: L = 0.415 * s^2, U = 4.849 * s^2\n",
      "n = 8: L = 0.437 * s^2, U = 4.142 * s^2\n",
      "n = 9: L = 0.456 * s^2, U = 3.67 * s^2\n",
      "n = 10: L = 0.473 * s^2, U = 3.333 * s^2\n"
     ]
    }
   ],
   "source": [
    "# https://docs.scipy.org/doc/scipy/reference/generated/scipy.stats.chi2.html\n",
    "# https://faculty.elgin.edu/dkernler/statistics/ch09/9-3.html#:~:text=a%20couple%20examples.-,Example%203,-Suppose%20a%20sample\n",
    "from typing import Tuple, Union, Any\n",
    "\n",
    "import scipy.stats as stats\n",
    "\n",
    "alpha = 0.05\n",
    "\n",
    "for n in range(2, 11):\n",
    "    degrees_of_freedom = n - 1\n",
    "    L = round(degrees_of_freedom / stats.chi2.isf((alpha / 2), df=degrees_of_freedom), 3)\n",
    "    U = round(degrees_of_freedom / stats.chi2.isf(1 - (alpha / 2), df=degrees_of_freedom), 3)\n",
    "    print(f'n = {n}: L = {L} * s^2, U = {U} * s^2')"
   ]
  },
  {
   "cell_type": "markdown",
   "id": "1b851873-5f93-4aac-9b69-d323285f5eb1",
   "metadata": {
    "tags": [],
    "pycharm": {
     "name": "#%% md\n"
    }
   },
   "source": [
    "#### 3.\n"
   ]
  },
  {
   "cell_type": "code",
   "execution_count": 28,
   "id": "b92c2eea-24ad-4c31-acb6-8644a27aa56e",
   "metadata": {
    "tags": [],
    "pycharm": {
     "name": "#%%\n"
    }
   },
   "outputs": [
    {
     "name": "stdout",
     "output_type": "stream",
     "text": [
      "n = 3082: U-L = 0.1\n",
      "n must be 3082 to obtain a 0.95 confidence interval of size 0.1 s^2\n"
     ]
    }
   ],
   "source": [
    "degrees_of_freedom = 0\n",
    "U = 1\n",
    "L = 0\n",
    "\n",
    "while (U - L) > 0.1:\n",
    "    degrees_of_freedom = degrees_of_freedom + 1\n",
    "    L = degrees_of_freedom / stats.chi2.isf((alpha / 2), df=degrees_of_freedom)\n",
    "    U = degrees_of_freedom / stats.chi2.isf(1 - (alpha / 2), df=degrees_of_freedom)\n",
    "\n",
    "print(f'n = {degrees_of_freedom + 1}: U-L = {round(U - L, 3)}')\n",
    "print(f'n must be {degrees_of_freedom + 1} to obtain a 0.95 confidence interval of size 0.1 s^2')"
   ]
  },
  {
   "cell_type": "markdown",
   "id": "f1e3f051",
   "metadata": {
    "pycharm": {
     "name": "#%% md\n"
    }
   },
   "source": [
    "---\n",
    "## Problem 2 (Correlated Data)\n",
    "\n",
    "Suppose that $Y_1,\\ldots,Y_n$ has each mean $\\mu$ and variance $\\sigma^2$, but \n",
    "$$\n",
    "\\rho_{ij} := \\mathrm{Corr}(Y_i,Y_j) = \\begin{cases}\n",
    "1 & i=j \\\\\n",
    "\\rho & |i-j| = 1 \\\\\n",
    "0 & |i-j| > 1\n",
    "\\end{cases}.\n",
    "$$\n",
    "This situation arises when an observation $i$ may depend to some extent on only the previous observation’s white noise: a one-lag \"holdeover effect\". This is also known as the \"lag-1 moving average\" model (MA(1)).\n",
    "\n",
    "1. Show that:\n",
    "  - $$\\mathrm{Var}(\\bar{Y}) = \\frac{\\sigma^2}{n}(1+ 2\\rho \\frac{n-1}{n})$$\n",
    "Namely, positive correlation increases variance. Hint: use that $\\mathrm{Var}(U+V) = \\mathrm{Var}(U) + \\mathrm{Var}(V) + 2 \\mathrm{Cov}(U,V)$ and induction or recursive computation over $n$. Another option is to write $Y = \\Sigma^{1/2}Z$ where $Z\\sim \\Ncal(0,I)$ and $\\Sigma^{1/2}$ is symmetric with  $\\Sigma^{1/2}\\Sigma^{1/2} = \\Sigma$ has the desired covariance structure.\n",
    "\n",
    "  - $$\\qquad \\ex[{s^2}] = \\sigma^2(1 - 2\\rho/n)$$\n",
    "  where $s^2$ is the standard variance estimate.\n",
    "Namely, with positive correlation the \"variety\" in the data is smaller. \n",
    "\n",
    "  - **(Bonus)** The t-statistic satisfies\n",
    "$$\n",
    "t = \\sqrt{n} \\frac{\\bar{Y}-\\mu}{s} \\to \\Ncal(0,1 + 2 \\rho),\\quad n \\to \\infty\n",
    "$$\n",
    "Hint: you may use the following version of Slutsky's Theorem: for two sequences of RV U_n and V_n, if $U_n \\overset{D}{\\to} U$ and $V_n \\overset{p}{\\to} c$ (constant), then $ V_n U_n \\overset{D}{\\to} cU$\n",
    "\n",
    "\n",
    "2. Verify your answer to the first two items in 1 using simulations. Use `nMonte = 10000` problem instances. In each instance, use a sample size of `n = 10` with $\\sigma=1$ and $\\rho \\in \\{\\pm 0.1, \\pm 0.3, \\pm0.5\\}$. The function `generate_correlated_data` below generates normally distributed data satisfying the correlation model above.\n",
    "\n",
    "\n",
    "3. Suppose $\\rho>0$\n",
    " - Derive a $1-\\alpha$ confidence interval based on $s$ and the $t$-distribution with $n-1$ DoF. Does your interval \n",
    " contain the value of $\\mu$ more or less often than $1-\\alpha$? Verify using a simulation with `nMonte = 10000` problem instances of samples size `n=100`. Also use $\\alpha=0.05$, $\\rho=.25$, $\\sigma =1$, and $\\mu_0=2$.\n",
    " \n",
    " - Suppose that we reject $H_0\\,:\\,\\mu = \\mu_0$ whenever $t$ exceeds the critical value $t_{n-1}^{1-\\alpha/2}$. Would our P-value be too small or too large? Would we reject more or less often then $\\alpha$ if the null $\\mu = \\mu_0$ is true? Verify using a simulation with `nMonte = 10000` problem instances of sampes size `n=100`. Also use $\\alpha=0.05$, $\\rho=.25$, $\\sigma =1$, and $\\mu_0=2$. \n",
    " \n",
    " - Would your answer to the previous two items change if $\\rho < 0$? how?\n",
    "\n",
    "The point: correlation in our data is bad because it makes us make wrong decisions. The effect of correlation is much worse than non-normality since the latter diminishes with $n$ due to the CLT."
   ]
  },
  {
   "cell_type": "code",
   "execution_count": 3,
   "id": "210ea7bf",
   "metadata": {
    "tags": [],
    "pycharm": {
     "name": "#%%\n"
    }
   },
   "outputs": [],
   "source": [
    "import numpy as np\n",
    "\n",
    "\n",
    "def generate_correlated_data(n: int, rho: float, mu: float, sigma: float) -> np.ndarray:\n",
    "    \"\"\"\n",
    "    Generate samples from the model:\n",
    "    Yi ~ N(mu, sigma^2) and Corr(Yi,Yj) = ( i == j ) + rho * ( abs( i - j ) == 1 )\n",
    "    \n",
    "    Args:\n",
    "    -----\n",
    "    :n:     sample size\n",
    "    :rho:   desired one lag correlation between samples\n",
    "    :mu:    mean\n",
    "    :sigma: standard deviation\n",
    "    \"\"\"\n",
    "    assert sigma > 0\n",
    "\n",
    "    # build desired covariance matrix\n",
    "    Sig = np.zeros((n, n))\n",
    "\n",
    "    for i in range(n):\n",
    "        for j in range(n):\n",
    "            if i == j:\n",
    "                Sig[i, j] = 1\n",
    "            if np.abs(i - j) == 1:\n",
    "                Sig[i, j] = rho\n",
    "                Sig[j, i] = rho\n",
    "\n",
    "    # get matrix square root of covariance matrix:\n",
    "    Sig_sqrt = np.linalg.cholesky(sigma ** 2 * Sig)\n",
    "\n",
    "    # sample from the standard normal dist. and transform \n",
    "    # so that the result is a normal vector with the desired \n",
    "    # covariance structure\n",
    "    return mu + Sig_sqrt @ np.random.randn(n)"
   ]
  },
  {
   "cell_type": "markdown",
   "id": "4ade0c59-4940-49cf-b17f-1357bd3a35ce",
   "metadata": {
    "tags": [],
    "pycharm": {
     "name": "#%% md\n"
    }
   },
   "source": [
    "### **Answers**:"
   ]
  },
  {
   "cell_type": "markdown",
   "id": "00f9ddc2-e1fc-4ea4-bcb9-e856a1dfc710",
   "metadata": {
    "jupyter": {
     "source_hidden": true
    },
    "tags": [],
    "pycharm": {
     "name": "#%% md\n"
    }
   },
   "source": [
    "#### 1a.\n",
    "$\\bar{Y} = \\frac{1}{n}\\sum_{i=1}^{n} Y_i$\n",
    "\n",
    "Hence, $$\\mathrm{Var}(\\bar{Y}) = \\mathrm{Var}(\\frac{1}{n}\\sum_{i=1}^{n} Y_i) = \\frac{1}{n^2} \\mathrm{Var}(\\sum_{i=1}^{n} Y_i)$$\n",
    "\n",
    "We expend the term $\\mathrm{Var}(\\sum_{i=1}^{n} Y_i)$:\n",
    "$$\\mathrm{Var}(\\sum_{i=1}^{n} Y_i) =$$\n",
    "$$\\mathrm{Var}(Y_1 + Y_2 + \\dots + Y_n) =$$\n",
    "$$\\mathrm{Var}(Y_1) + \\mathrm{Var}(Y_2 + Y_3 + \\dots + Y_n)  + 2 \\mathrm{Cov}(Y_1, Y_2 + Y_3 + \\dots + Y_n) =$$\n",
    "$$\\mathrm{Var}(Y_1) + \\mathrm{Var}(Y_2) + \\mathrm{Var}(Y_3 + Y_4 + \\dots + Y_n) + 2 \\mathrm{Cov}(Y_1, Y_2 + Y_3 + \\dots + Y_n)  + 2 \\mathrm{Cov}(Y_2, Y_3 + Y_4 + \\dots + Y_n) =$$\n",
    "$$\\sum_{i=1}^{n} \\mathrm{Var}(Y_i) + \\sum_{i=1}^{n-1} [2 \\mathrm{Cov}(Y_i, Y_{i+1} + Y_{i+2} \\dots + Y_n)] =$$\n",
    "$$\\sum_{i=1}^{n} \\mathrm{Var}(Y_i) + 2 \\sum_{i=1}^{n-1} \\mathrm{Cov}(Y_i, Y_{i+1} + Y_{i+2} \\dots + Y_n)$$\n",
    "\n",
    "LHS: $\\sum_{i=1}^{n} \\mathrm{Var}(Y_i) = n\\sigma^2$\n",
    "\n",
    "RHS: $2 \\sum_{i=1}^{n-1} \\mathrm{Cov}(Y_i, Y_{i+1} + Y_{i+2} \\dots + Y_n) = 2 \\sum_{i=1}^{n-1} \\mathrm{Cov}(Y_i, Y_{i+1})$ because \"an observation $i$ may depend to some extent on only the previous observation’s white noise\" (MA(1)).<br>\n",
    "Also, $\\mathrm{Cov}(Y_i, Y_{i+1}) = \\mathrm{Corr}(Y_i, Y_{i+1}) \\sigma_{Y_i} \\sigma_{Y_{i+1}} = \\rho \\sigma \\sigma = \\rho \\sigma^2$<br>\n",
    "And so, RHS == $2 (n-1) \\rho \\sigma^2$\n",
    "\n",
    "Putting it all together:\n",
    "$$\\mathrm{Var}(\\bar{Y}) =$$\n",
    "$$\\frac{1}{n^2} \\mathrm{Var}(\\sum_{i=1}^{n} Y_i) =$$\n",
    "$$\\frac{1}{n^2} [\\sum_{i=1}^{n} \\mathrm{Var}(Y_i) + 2 \\sum_{i=1}^{n-1} \\mathrm{Cov}(Y_i, Y_{i+1} + Y_{i+2} \\dots + Y_n)] =$$\n",
    "$$\\frac{1}{n^2} [n\\sigma^2 + 2 \\sum_{i=1}^{n-1} \\mathrm{Cov}(Y_i, Y_{i+1}] =$$\n",
    "$$\\frac{1}{n^2} [n\\sigma^2 + (n-1) 2 \\rho \\sigma^2] =$$\n",
    "$$\\frac{n \\sigma^2}{n^2} + \\frac{(n-1) 2 \\rho \\sigma^2}{n^2} =$$\n",
    "$$\\frac{\\sigma^2}{n} + \\frac{(n-1) 2 \\rho \\sigma^2}{n^2} =$$\n",
    "$$\\frac{\\sigma^2}{n}(1+ 2\\rho \\frac{n-1}{n})$$"
   ]
  },
  {
   "cell_type": "markdown",
   "id": "34a7d20b-3143-4baf-847e-77820e5259f1",
   "metadata": {
    "pycharm": {
     "name": "#%% md\n"
    }
   },
   "source": [
    "#### 1b.\n",
    "$s^2 = \\frac{1}{n-1} \\sum_{i=1}^{n} (Y_i - \\bar{Y})^2$\n",
    "$$\\qquad \\ex[{s^2}] = \\ex[\\frac{1}{n-1} \\sum_{i=1}^{n} (Y_i - \\bar{Y})^2] = \\frac{1}{n-1} \\ex[\\sum_{i=1}^{n} (Y_i - \\bar{Y})^2]$$\n",
    "\n",
    "$\\sigma^2(1 - 2\\rho/n)$"
   ]
  },
  {
   "cell_type": "markdown",
   "id": "5a1837bd-9e2d-4f47-b117-4e824e6a7327",
   "metadata": {
    "pycharm": {
     "name": "#%% md\n"
    }
   },
   "source": [
    "#### 2."
   ]
  },
  {
   "cell_type": "code",
   "execution_count": 4,
   "id": "0a8ed74a-055a-4c8f-933d-9a7a70b031fb",
   "metadata": {
    "pycharm": {
     "name": "#%%\n"
    }
   },
   "outputs": [
    {
     "name": "stdout",
     "output_type": "stream",
     "text": [
      "rho = 0.1:\n",
      "\tVar(Y-bar)         = 0.11967612992642655\n",
      "\tVar(Y-bar) formula = 0.118\n",
      "\tE(s^2)             = 0.979965162637056\n",
      "\tE(s^2) formula     = 0.98\n",
      "\n",
      "rho = -0.1:\n",
      "\tVar(Y-bar)         = 0.07919641043478304\n",
      "\tVar(Y-bar) formula = 0.08200000000000002\n",
      "\tE(s^2)             = 1.0186818934022976\n",
      "\tE(s^2) formula     = 1.02\n",
      "\n",
      "rho = 0.3:\n",
      "\tVar(Y-bar)         = 0.15608983076250002\n",
      "\tVar(Y-bar) formula = 0.15400000000000003\n",
      "\tE(s^2)             = 0.9409241194836679\n",
      "\tE(s^2) formula     = 0.94\n",
      "\n",
      "rho = -0.3:\n",
      "\tVar(Y-bar)         = 0.045737425899662114\n",
      "\tVar(Y-bar) formula = 0.04600000000000001\n",
      "\tE(s^2)             = 1.0552988471879998\n",
      "\tE(s^2) formula     = 1.06\n",
      "\n",
      "rho = 0.5:\n",
      "\tVar(Y-bar)         = 0.19047350143145134\n",
      "\tVar(Y-bar) formula = 0.19\n",
      "\tE(s^2)             = 0.9062367041499676\n",
      "\tE(s^2) formula     = 0.9\n",
      "\n",
      "rho = -0.5:\n",
      "\tVar(Y-bar)         = 0.009758675632465231\n",
      "\tVar(Y-bar) formula = 0.009999999999999998\n",
      "\tE(s^2)             = 1.096920967718292\n",
      "\tE(s^2) formula     = 1.1\n",
      "\n"
     ]
    }
   ],
   "source": [
    "nMonte = 10000\n",
    "n = 10\n",
    "std = 1\n",
    "rho_list = [0.1, -0.1, 0.3, -0.3, 0.5, -0.5]\n",
    "\n",
    "for rho in rho_list:\n",
    "    instances = [generate_correlated_data(n=n, rho=rho, mu=0, sigma=std) for i in range(nMonte)]\n",
    "\n",
    "    # bullet 1\n",
    "    y_bar = [np.mean(x) for x in instances]\n",
    "    var_y_bar_formula = (std ** 2 / n) * (1 + (2 * rho * (n - 1) / n))\n",
    "\n",
    "    # bullet 2\n",
    "    s = [np.sum(np.square(instances[i] - y_bar[i])) / (n - 1) for i in range(len(y_bar))]\n",
    "    exp_s_squared_formula = std ** 2 * (1 - (2 * rho / n))\n",
    "\n",
    "    print(f'rho = {rho}:\\n\\t'\n",
    "          f'Var(Y-bar)         = {np.var(y_bar)}\\n\\t'\n",
    "          f'Var(Y-bar) formula = {var_y_bar_formula}\\n\\t'\n",
    "          f'E(s^2)             = {np.mean(s)}\\n\\t'\n",
    "          f'E(s^2) formula     = {exp_s_squared_formula}\\n')"
   ]
  },
  {
   "cell_type": "markdown",
   "source": [
    "### 3."
   ],
   "metadata": {
    "collapsed": false,
    "pycharm": {
     "name": "#%% md\n"
    }
   }
  },
  {
   "cell_type": "code",
   "execution_count": 62,
   "outputs": [],
   "source": [
    "def q_3(nMonte: int, n: int, alpha: float, std: float, mu: float, rho: float) -> [int, int]:\n",
    "    mu_in_interval_counter = 0  # a\n",
    "    t_statistic_exceeds_critical_value_counter = 0  # b\n",
    "\n",
    "    for i in range(nMonte):\n",
    "        y = generate_correlated_data(n=n, rho=rho, mu=mu, sigma=std)\n",
    "        mu_hat = np.mean(y)\n",
    "        s = np.sqrt(np.sum((mu_hat - y) ** 2) / (n - 1))\n",
    "\n",
    "        # a\n",
    "        interval = stats.t.interval(alpha=1 - (alpha / 2), df=(n - 1), loc=mu, scale=(s / np.sqrt(n)))\n",
    "\n",
    "        if interval[0] <= mu_hat <= interval[1]:\n",
    "            mu_in_interval_counter = mu_in_interval_counter + 1\n",
    "\n",
    "        # b\n",
    "        t_statistic = (mu_hat - mu) / (s / np.sqrt(n))\n",
    "        t_critical_value = stats.t.ppf(1 - (alpha / 2), df=n - 1)\n",
    "\n",
    "        if t_statistic > t_critical_value:\n",
    "            t_statistic_exceeds_critical_value_counter = t_statistic_exceeds_critical_value_counter + 1\n",
    "\n",
    "    return mu_in_interval_counter, t_statistic_exceeds_critical_value_counter"
   ],
   "metadata": {
    "collapsed": false,
    "pycharm": {
     "name": "#%%\n"
    }
   }
  },
  {
   "cell_type": "code",
   "execution_count": null,
   "outputs": [],
   "source": [
    "nMonte = 10000\n",
    "n = 100\n",
    "alpha = 0.05\n",
    "std = 1\n",
    "mu = 2"
   ],
   "metadata": {
    "collapsed": false,
    "pycharm": {
     "name": "#%%\n"
    }
   }
  },
  {
   "cell_type": "code",
   "execution_count": 67,
   "outputs": [],
   "source": [
    "positive_rho_mu_in_interval_counter, positive_rho_t_statistic_exceeds_critical_value_counter = q_3(nMonte, n, alpha,\n",
    "                                                                                                   std, mu, rho=0.25)"
   ],
   "metadata": {
    "collapsed": false,
    "pycharm": {
     "name": "#%%\n"
    }
   }
  },
  {
   "cell_type": "code",
   "execution_count": 68,
   "outputs": [
    {
     "name": "stdout",
     "output_type": "stream",
     "text": [
      "The interval contained mu 0.9325% of the times.\n",
      "So less often than 1-alpha (0.95)\n"
     ]
    }
   ],
   "source": [
    "# 3a. Does your interval contain the value of mu more or less often than 1-alpha?\n",
    "if (positive_rho_mu_in_interval_counter / nMonte) >= (1 - alpha):\n",
    "    result_a = 'more'\n",
    "else:\n",
    "    result_a = 'less'\n",
    "\n",
    "print(f'The interval contained mu {positive_rho_mu_in_interval_counter / nMonte}% of the times.')\n",
    "print(f'So {result_a} often than 1-alpha ({1 - alpha})')"
   ],
   "metadata": {
    "collapsed": false,
    "pycharm": {
     "name": "#%%\n"
    }
   }
  },
  {
   "cell_type": "code",
   "execution_count": 69,
   "outputs": [
    {
     "name": "stdout",
     "output_type": "stream",
     "text": [
      "We reject the null hypothesis 0.0551% of the times.\n",
      "So more often than alpha (0.05)\n"
     ]
    }
   ],
   "source": [
    "# 3b. Would we reject more or less often than alpha if the null mu = mu_0 is true?\n",
    "if (positive_rho_t_statistic_exceeds_critical_value_counter / nMonte) >= alpha:\n",
    "    result_b = 'more'\n",
    "else:\n",
    "    result_b = 'less'\n",
    "\n",
    "print(\n",
    "    f'We reject the null hypothesis {positive_rho_t_statistic_exceeds_critical_value_counter / nMonte}% of the times.')\n",
    "print(f'So {result_b} often than alpha ({alpha})')"
   ],
   "metadata": {
    "collapsed": false,
    "pycharm": {
     "name": "#%%\n"
    }
   }
  },
  {
   "cell_type": "code",
   "execution_count": 70,
   "outputs": [],
   "source": [
    "# 3c\n",
    "negative_rho_mu_in_interval_counter, negative_rho_t_statistic_exceeds_critical_value_counter = q_3(nMonte, n, alpha,\n",
    "                                                                                                 std, mu, rho=-0.25)"
   ],
   "metadata": {
    "collapsed": false,
    "pycharm": {
     "name": "#%%\n"
    }
   }
  },
  {
   "cell_type": "code",
   "execution_count": 73,
   "outputs": [
    {
     "name": "stdout",
     "output_type": "stream",
     "text": [
      "The interval contained mu 0.9986% of the times.\n",
      "So more often than 1-alpha (0.95)\n"
     ]
    }
   ],
   "source": [
    "# 3a. Does your interval contain the value of mu more or less often than 1-alpha?\n",
    "if (negative_rho_mu_in_interval_counter / nMonte) >= (1 - alpha):\n",
    "    result_a = 'more'\n",
    "else:\n",
    "    result_a = 'less'\n",
    "\n",
    "print(f'The interval contained mu {negative_rho_mu_in_interval_counter / nMonte}% of the times.')\n",
    "print(f'So {result_a} often than 1-alpha ({1 - alpha})')"
   ],
   "metadata": {
    "collapsed": false,
    "pycharm": {
     "name": "#%%\n"
    }
   }
  },
  {
   "cell_type": "code",
   "execution_count": 74,
   "outputs": [
    {
     "name": "stdout",
     "output_type": "stream",
     "text": [
      "We reject the null hypothesis 0.0031% of the times.\n",
      "So less often than alpha (0.05)\n"
     ]
    }
   ],
   "source": [
    "# 3b. Would we reject more or less often than alpha if the null mu = mu_0 is true?\n",
    "if (negative_rho_t_statistic_exceeds_critical_value_counter / nMonte) >= alpha:\n",
    "    result_b = 'more'\n",
    "else:\n",
    "    result_b = 'less'\n",
    "\n",
    "print(\n",
    "    f'We reject the null hypothesis {negative_rho_t_statistic_exceeds_critical_value_counter / nMonte}% of the times.')\n",
    "print(f'So {result_b} often than alpha ({alpha})')"
   ],
   "metadata": {
    "collapsed": false,
    "pycharm": {
     "name": "#%%\n"
    }
   }
  },
  {
   "cell_type": "markdown",
   "id": "5581e1ca",
   "metadata": {
    "jp-MarkdownHeadingCollapsed": true,
    "tags": [],
    "pycharm": {
     "name": "#%% md\n"
    }
   },
   "source": [
    "---\n",
    "## Problem 3 (Regression and Hypothesis Testing)\n",
    "\n",
    "The dataset for this problem is available in the file temp_TLV_beach.csv, which was taken directly from the meteorological service website (https://ims.data.gov.il/ims/1).\n",
    "\n",
    "We consider monitoring changes in rainfall/precipitation over the years at Station 136320 located at Tel-Aviv beach area. \n",
    "To do so, we will set up a standard linear model with $p = 3$ features, where for dates (times) $t \\in \\{0,1,\\ldots,366\\}$ (we have 366 for leap years) we set\n",
    "$$\n",
    "y_t = \\beta_0 + \\beta_1 \\cos( 2\\pi(t/365)) + \\beta_2 \\sin( 2\\pi(t/365)) + \\epsilon_t,\\qquad t=1,\\ldots,n. \n",
    "\\label{eq:model} \\tag{2}\n",
    "$$\n",
    "(note that the dataset does not contain measurements from all days in the range)"
   ]
  },
  {
   "cell_type": "markdown",
   "id": "53c92dbd",
   "metadata": {
    "pycharm": {
     "name": "#%% md\n"
    }
   },
   "source": [
    "1) Set $y_t = \\texttt{Rainfall}$. \n",
    " - Plot $y_t$ versus $t=$`Date` and identify winter times.\n",
    "\n",
    "- Find the LS regression coefficients $\\beta$; plot the fitted response $\\hat{y}_t$ over time along with the original response $y_t$. \n",
    "\n",
    " - Test whether the fitted model significantly improves on the trivial model $y_t = \\beta'_0 + \\epsilon_t$.\n",
    " \n",
    " - For each parameter $p$, report the P-value for testing $H_0\\,:\\,\\hat{\\beta}_p = 0$ and indicate whether this parameter is \n",
    "significantly different than $0$ at level $\\alpha = 0.01$. \n",
    "(for this item, you can either evaluate everything from the formulas provided in class or use a statistical package like `statsmodels`)\n",
    "\n",
    "You may use the code below to format the `Date` column correctly and extract other relevant information from it. "
   ]
  },
  {
   "cell_type": "code",
   "execution_count": 75,
   "id": "0dde4de2",
   "metadata": {
    "pycharm": {
     "name": "#%%\n"
    }
   },
   "outputs": [],
   "source": [
    "import pandas as pd\n",
    "\n",
    "path_to_data_file = \"rainfall_TLV_beach.csv\"\n",
    "data = pd.read_csv(path_to_data_file)\n",
    "\n",
    "data['Date'] = pd.to_datetime(data.Date, format=\"%d-%m-%Y\")\n",
    "data['DayOfYear'] = data.Date.dt.day_of_year\n",
    "data['Month'] = data.Date.dt.month\n",
    "data['Year'] = data.Date.dt.year"
   ]
  },
  {
   "cell_type": "markdown",
   "id": "a7343c68",
   "metadata": {
    "pycharm": {
     "name": "#%% md\n"
    }
   },
   "source": [
    "2) We would like to test whether future data follows a similar distribution to past data. Consider two datasets modeled by\n",
    "$$\n",
    "\\begin{equation}\n",
    "y = Z \\beta + \\epsilon,\\qquad y_{new} = Z_{new} \\beta + \\epsilon_{new}\n",
    "\\label{eq:model} \\tag{2}\n",
    "\\end{equation}\n",
    "$$\n",
    "where $Z \\in \\reals^{m\\times p}$ and $Z_{new} \\in \\reals^{n\\times p}$ are the given design matrices which both assume to have rank $p$. We also assume that $\\epsilon$ and $\\epsilon_{new}$ are independent. We will think of $(Z, y)$ as the initial data pair and $(Z_{new},y_{new})$ as the new data.\n",
    "\n",
    "Let $\\hat{\\beta} = (Z \\top Z)^{-1}Z^\\top y$ be the usual least-squares (LS) estimate on the initial data. Define the predicted values as\n",
    " $$\n",
    " \\hat{y}_{new} := Z_{new} \\hat{\\beta}\n",
    " $$\n",
    " (note that $\\hat{y}_{new}$ is not the LS estimate of $y_{new}$ from $Z_{new}$)\n",
    " \n",
    " - Show that $\\mathrm{Cov}(y-\\hat{y},y_{new} - \\hat{y}_{new})=0$\n",
    " \n",
    " - Assume $\\epsilon_{new} \\sim \\Ncal(0,\\sigma^2 I_n)$. Find a (symmetric, positive definite) matrix $M \\in \\reals^{n \\times n}$ so that\n",
    " $$\n",
    " M(y_{new} - \\hat{y}_{new}) \\sim \\Ncal(0, \\sigma^2 I_n).\n",
    " $$\n",
    " \n",
    "- Give the distribution of the ratio\n",
    "$$\n",
    "\\begin{equation}\n",
    "A:= \\frac{\\frac{1}{n}\\left\\| M(Y_{new} - \\hat{Y}_{new})\\right\\|^2}{\\frac{1}{m-d} \\left\\| Y  - \\hat{Y} \\right\\|^2 }\n",
    "\\label{eq:A} \\tag{3}\n",
    "\\end{equation}\n",
    "$$\n",
    "under the null hypothesis:\n",
    "$$\n",
    "H_0\\,:\\,\\begin{cases} Y = Z \\beta + \\epsilon,\\qquad Y_{new} = Z_{new} \\beta + \\epsilon_{new} \\\\\n",
    "\\epsilon \\sim \\Ncal(0, \\sigma^2 I_m),\\qquad \\epsilon_{new} \\sim \\Ncal(0, \\sigma^2 I_n) \\\\\n",
    "\\text{$\\epsilon$ and $\\epsilon_{new}$ are independent}\n",
    "\\end{cases}\n",
    "$$\n",
    "\n",
    "We now consider implementing a series of hypothesis tests about whether daily rainfall is remaining consistent over the years or whether it is changing in some meaningful way. \n",
    "\n",
    "- For each of the years 2010, 2011,...,2021, repeat the following. Define a data matrix $Z$ using the features in $\\eqref{eq:model}$ consisting of all dates prior to that year (so that for 2010, $Z$ will be\n",
    "a data matrix for the years 2005–2009, for 2011, $Z$ will be the data for years 2005-2011, and\n",
    "so on). Define the responses $y$ to consist of rainfall for the given years. Define the new data matrix $Z_{new} \\in \\reals^{n \\times p}$ to consist of the $n$ days of measurements in the given year ($n\\leq 366$) and the responses $y_{new}$ to be the rainfall in those days. For this data, compute the statistic $A$ in $\\eqref{eq:A}$ and its p-value, that is, conditional on\n",
    "$A = a$, report\n",
    "$$\n",
    "p := \\Pr[A \\geq a] \\quad \\text{under $H_0$}\n",
    "$$\n",
    "Plot the P-values for each of the years and also print their values. Discuss briefly. \n",
    "- Suppose that you obtained a very small p-value of some year, say $p \\approx 10^{-5}$. Does rejecting the null hypothesis necessarily mean that the distribution of rainfall is changing over time? explain in 2-3 sentences. "
   ]
  },
  {
   "cell_type": "markdown",
   "id": "47fb1005",
   "metadata": {
    "pycharm": {
     "name": "#%% md\n"
    }
   },
   "source": [
    "3) Consider the total amount of rainfall within each month. Suppose that we assume that there is no change in the distribution over time across years, but we suspect that December is usually rainier than February. Design a test procedure that checks whether this is true. Use two approaches:\n",
    " - Two-sample t-test \n",
    " - Paired t-test \n",
    " - Which approach seems more appropriate here?"
   ]
  },
  {
   "cell_type": "markdown",
   "source": [
    "### **Answers**:"
   ],
   "metadata": {
    "collapsed": false,
    "pycharm": {
     "name": "#%% md\n"
    }
   }
  },
  {
   "cell_type": "markdown",
   "source": [
    "#### 1."
   ],
   "metadata": {
    "collapsed": false,
    "pycharm": {
     "name": "#%% md\n"
    }
   }
  },
  {
   "cell_type": "code",
   "execution_count": 76,
   "id": "4a71df9e",
   "metadata": {
    "pycharm": {
     "name": "#%%\n"
    }
   },
   "outputs": [],
   "source": [
    "y_t = data['Rainfall'].values"
   ]
  },
  {
   "cell_type": "code",
   "execution_count": 77,
   "outputs": [
    {
     "data": {
      "text/plain": "<Figure size 1440x720 with 1 Axes>",
      "image/png": "[encoded data removed]"
     },
     "metadata": {
      "needs_background": "light"
     },
     "output_type": "display_data"
    }
   ],
   "source": [
    "# Plot y_t versus t=`Date` and identify winter times\n",
    "import matplotlib.pyplot as plt\n",
    "\n",
    "plt.figure(figsize=(20, 10))\n",
    "plt.scatter(data['Date'].values, y_t)\n",
    "plt.xlabel('Date', fontsize=17)\n",
    "plt.ylabel('Rainfall', fontsize=17)\n",
    "plt.title('Rainfall vs. Date', fontsize=21)\n",
    "plt.show()"
   ],
   "metadata": {
    "collapsed": false,
    "pycharm": {
     "name": "#%%\n"
    }
   }
  },
  {
   "cell_type": "markdown",
   "source": [
    "It's easy to see at every year when there is rainfall (a bit before every x-tick and more after it). This makes sense as December to March are the Winter months in Israel."
   ],
   "metadata": {
    "collapsed": false,
    "pycharm": {
     "name": "#%% md\n"
    }
   }
  },
  {
   "cell_type": "markdown",
   "source": [
    "$$\n",
    "y_t = \\beta_0 + \\beta_1 \\cos( 2\\pi(t/365)) + \\beta_2 \\sin( 2\\pi(t/365)) + \\epsilon_t,\\qquad t=1,\\ldots,n.\n",
    "\\label{eq:model} \\tag{2}\n",
    "$$"
   ],
   "metadata": {
    "collapsed": false,
    "pycharm": {
     "name": "#%% md\n"
    }
   }
  },
  {
   "cell_type": "code",
   "execution_count": 9,
   "outputs": [],
   "source": [
    "# Find the LS regression coefficients beta\n",
    "import numpy as np\n",
    "\n",
    "\n",
    "def least_squares(df, y):\n",
    "    intercept = np.ones(len(df))\n",
    "    Z = np.column_stack([intercept, df.values])  # assemble matrix Z\n",
    "    y = y.values.reshape(-1, 1)  # turn y into a column vector\n",
    "    betas = np.dot((np.dot(np.linalg.inv(np.dot(Z.T, Z)), Z.T)), y)\n",
    "    y_hat = np.dot(Z, betas)\n",
    "    return betas, y, y_hat, Z"
   ],
   "metadata": {
    "collapsed": false,
    "pycharm": {
     "name": "#%%\n"
    }
   }
  },
  {
   "cell_type": "code",
   "execution_count": 10,
   "outputs": [],
   "source": [
    "tt = data['DayOfYear'].values\n",
    "data['x1'] = np.cos(2 * np.pi * (tt / 365))\n",
    "data['x2'] = np.sin(2 * np.pi * (tt / 365))\n",
    "betas, y, y_hat, Z = least_squares(df=data[['x1', 'x2']], y=data['Rainfall'])"
   ],
   "metadata": {
    "collapsed": false,
    "pycharm": {
     "name": "#%%\n"
    }
   }
  },
  {
   "cell_type": "code",
   "execution_count": 11,
   "outputs": [
    {
     "name": "stdout",
     "output_type": "stream",
     "text": [
      "beta_0 (Intercept) = 4.550862239310406\n",
      "beta_1 (x1) = 5.872224437626491\n",
      "beta_2 (x2) = -0.913057504726331\n"
     ]
    }
   ],
   "source": [
    "for i, feature in enumerate(['Intercept'] + ['x1', 'x2']):\n",
    "    print(f'beta_{i} ({feature}) = {betas[i][0]}')"
   ],
   "metadata": {
    "collapsed": false,
    "pycharm": {
     "name": "#%%\n"
    }
   }
  },
  {
   "cell_type": "code",
   "execution_count": 12,
   "outputs": [
    {
     "ename": "SyntaxError",
     "evalue": "invalid syntax (<ipython-input-12-8efe072f2a7b>, line 2)",
     "output_type": "error",
     "traceback": [
      "\u001B[1;36m  File \u001B[1;32m\"<ipython-input-12-8efe072f2a7b>\"\u001B[1;36m, line \u001B[1;32m2\u001B[0m\n\u001B[1;33m    plt.figure(figsize=(20, 10))1\u001B[0m\n\u001B[1;37m                                ^\u001B[0m\n\u001B[1;31mSyntaxError\u001B[0m\u001B[1;31m:\u001B[0m invalid syntax\n"
     ]
    }
   ],
   "source": [
    "# plot the fitted response \\hat{y}_t over time along with the original response y_t\n",
    "plt.figure(figsize=(20, 10))\n",
    "1\n",
    "plt.plot(data['Date'].values, y_t)\n",
    "plt.plot(data['Date'].values, y_hat)\n",
    "plt.xlabel('Date', fontsize=17)\n",
    "plt.ylabel('Rainfall', fontsize=17)\n",
    "plt.title('Rainfall vs. Date', fontsize=21)\n",
    "plt.show()"
   ],
   "metadata": {
    "collapsed": false,
    "pycharm": {
     "name": "#%%\n"
    }
   }
  },
  {
   "cell_type": "markdown",
   "source": [
    "-- Test whether the fitted model significantly improves on the trivial model $y_t = \\beta '_0 + \\epsilon_t$:"
   ],
   "metadata": {
    "collapsed": false,
    "pycharm": {
     "name": "#%% md\n"
    }
   }
  },
  {
   "cell_type": "code",
   "execution_count": null,
   "outputs": [],
   "source": [
    "residuals_hat = y - y_hat\n",
    "squared_residuals = np.dot(residuals_hat.T, residuals_hat)  # or sum(residuals_hat**2)\n",
    "print(squared_residuals[0][0])"
   ],
   "metadata": {
    "collapsed": false,
    "pycharm": {
     "name": "#%%\n"
    }
   }
  },
  {
   "cell_type": "code",
   "execution_count": null,
   "outputs": [],
   "source": [
    "betas_trivial, y_trivial, y_hat_trivial, Z_trivial = least_squares(df=data[['x1']], y=data['Rainfall'])"
   ],
   "metadata": {
    "collapsed": false,
    "pycharm": {
     "name": "#%%\n"
    }
   }
  },
  {
   "cell_type": "code",
   "execution_count": null,
   "outputs": [],
   "source": [
    "for i, feature in enumerate(['Intercept']):\n",
    "    print(f'beta_{i} ({feature}) = {betas_trivial[i][0]}')"
   ],
   "metadata": {
    "collapsed": false,
    "pycharm": {
     "name": "#%%\n"
    }
   }
  },
  {
   "cell_type": "code",
   "execution_count": null,
   "outputs": [],
   "source": [
    "residuals_hat_trivial = y_trivial - y_hat_trivial\n",
    "squared_residuals_trivial = np.dot(residuals_hat_trivial.T, residuals_hat_trivial)\n",
    "print(squared_residuals_trivial[0][0])"
   ],
   "metadata": {
    "collapsed": false,
    "pycharm": {
     "name": "#%%\n"
    }
   }
  },
  {
   "cell_type": "markdown",
   "source": [
    "We can see that the fitted model does **NOT** significantly improve on the trivial model, as the sum of squares residuals is quite similar and in the same order of magnitude."
   ],
   "metadata": {
    "collapsed": false,
    "pycharm": {
     "name": "#%% md\n"
    }
   }
  },
  {
   "cell_type": "markdown",
   "source": [
    "-- For each parameter $p$, report the P-value for testing $H_0\\,:\\,\\hat{\\beta}_p = 0$ and indicate whether this parameter is significantly different than $0$ at level $\\alpha = 0.01$.\n",
    "(for this item, you can either evaluate everything from the formulas provided in class or use a statistical package like `statsmodels`)"
   ],
   "metadata": {
    "collapsed": false,
    "pycharm": {
     "name": "#%% md\n"
    }
   }
  },
  {
   "cell_type": "code",
   "execution_count": null,
   "outputs": [],
   "source": [],
   "metadata": {
    "collapsed": false,
    "pycharm": {
     "name": "#%%\n"
    }
   }
  }
 ],
 "metadata": {
  "kernelspec": {
   "display_name": "Python 3 (ipykernel)",
   "language": "python",
   "name": "python3"
  },
  "language_info": {
   "codemirror_mode": {
    "name": "ipython",
    "version": 3
   },
   "file_extension": ".py",
   "mimetype": "text/x-python",
   "name": "python",
   "nbconvert_exporter": "python",
   "pygments_lexer": "ipython3",
   "version": "3.8.10"
  }
 },
 "nbformat": 4,
 "nbformat_minor": 5
}