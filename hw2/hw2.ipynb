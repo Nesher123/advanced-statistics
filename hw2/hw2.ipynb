{
 "cells": [
  {
   "cell_type": "markdown",
   "id": "e6447ca2",
   "metadata": {},
   "source": [
    "#### Advanced Statistics for Data Science (Spring 2022)\n",
    "# Home Assignment 2\n",
    "#### Topics:\n",
    "- Probability review\n",
    "- Distributional Properties of the Linear Model\n",
    "\n",
    "\n",
    "#### Due: 05/04/2022 by 18:30\n",
    "\n",
    "#### Instructions:\n",
    "- Write your name, Student ID, and date in the cell below. \n",
    "- Submit a copy of this notebook with code filled in the relevant places as the solution of coding excercises.\n",
    "- For theoretic excercises, you can either write your solution in the notebook using $\\LaTeX$ or submit additional notes.\n",
    "\n",
    "<hr>\n",
    "<hr>"
   ]
  },
  {
   "cell_type": "markdown",
   "id": "4dc6a671",
   "metadata": {},
   "source": [
    "**Name**: Ofir Nesher\n",
    "\n",
    "**Student ID**: 204502926\n",
    "\n",
    "**Date**: 26/03/22\n",
    "\n",
    "$\n",
    "\\newcommand{\\Id}{{\\mathbf{I}}}  \n",
    "\\newcommand{\\SSE}{\\mathsf{SSE}}\n",
    "\\newcommand{\\SSR}{\\mathsf{SSR}}\n",
    "\\newcommand{\\MSE}{\\mathsf{MSE}}\n",
    "\\newcommand{\\simiid}{\\overset{iid}{\\sim}}\n",
    "\\newcommand{\\ex}{\\mathbb E}\n",
    "\\newcommand{\\var}{\\mathrm{Var}}\n",
    "\\newcommand{\\Cov}[2]{{\\mathrm{Cov}  \\left(#1, #2 \\right)}}\n",
    "\\newcommand{\\one}[1]{\\mathbf 1 {\\left\\{#1\\right\\}}}\n",
    "\\newcommand{\\SE}[1]{\\mathrm{SE} \\left[#1\\right]}\n",
    "\\newcommand{\\reals}{\\mathbb R}\n",
    "\\newcommand{\\Ncal}{\\mathcal N}\n",
    "\\newcommand{\\abs}[1]{\\ensuremath{\\left\\vert#1\\right\\vert}}\n",
    "\\newcommand{\\rank}{\\operatorname{rank}}\n",
    "\\newcommand{\\tr}{\\operatorname{Tr}}\n",
    "\\newcommand{\\diag}{\\operatorname{diag}}\n",
    "\\newcommand{\\sign}{\\operatorname{sign}}\n",
    "$"
   ]
  },
  {
   "cell_type": "markdown",
   "id": "ca313178",
   "metadata": {},
   "source": [
    "<hr>\n",
    "<hr>"
   ]
  },
  {
   "cell_type": "markdown",
   "id": "ec1bca5c",
   "metadata": {
    "tags": []
   },
   "source": [
    "## Problem 1 (The Normal Distribution)\n",
    "\n",
    "1. Let $Z = (Z_1,\\ldots,Z_9)^\\top \\sim \\Ncal(\\mu, I_9)$ where $\\mu \\in \\reals^9$. Show that $Z_1+Z_2+Z_3+Z_4$ is independent of $Z_1 + Z_2 - Z_3 - Z_4 - Z_5$.\n",
    "\n",
    "2. Suppose that $Z \\sim \\Ncal(\\mu, I_n)$ and let $X = AZ$ and $Y = BZ$ for non-random matrices $A$ and $B$. Find conditions on $A$ and $B$ such that $X$ independent of $Y$.\n",
    "\n",
    "3. Suppose that $Z_{ij} \\simiid \\Ncal(0, 1)$ for $i= 1,\\ldots,I$ and $j=1,\\ldots,J$. Define \n",
    "$$\n",
    "\\bar{Z}_{i\\bullet} := \\frac{1}{J} \\sum_{j=1}^J Z_{ij},\\qquad \\bar{Z}_{\\bullet j} := \\frac{1}{I} \\sum_{i=1}^I Z_{ij}, \\qquad \\bar{Z}_{\\bullet \\bullet} := \\frac{1}{IJ} \\sum_{j=1}^J \\sum_{i=1}^I Z_{ij}\n",
    "$$\n",
    "    - Is $\\bar{Z}_{i\\bullet}$ independent of $\\bar{Z}_{\\bullet j}$ ?\n",
    "    - Is $\\bar{Z}_{1\\bullet}$ independent of $\\bar{Z}_{2\\bullet}$ ?\n",
    "    - Is $\\bar{Z}_{i\\bullet} - \\bar{Z}_{\\bullet \\bullet}$ independent of $\\bar{Z}_{i\\bullet}$ ?\n",
    "\n",
    "4. Consider the variance-covariance matrix \n",
    "$$\n",
    "\\bar{\\Sigma} = \\begin{bmatrix} 1 & .25 \\\\\n",
    ".25 & 1\n",
    "\\end{bmatrix}\n",
    "$$\n",
    "Using as many samples as you need from the standard normal distribution (e.g. ``numpy.random.randn``), generate $N = 1000$ independent samples from the bivaraite normal distribution $\\Ncal(0, \\bar{\\Sigma})$ (you'll get $N$ pairs). Illustrate these samples over a scatter plot. \n",
    "\n",
    "5. Consider the region in $\\reals^2$:\n",
    "$$\n",
    "A = \\{ (x,y)\\,: 0 \\leq x \\leq 1, 0 \\leq y \\leq 2x\\}\n",
    "$$\n",
    "For $(X_1, X_2) \\sim \\Ncal(0, \\bar{\\Sigma})$, estimate \n",
    "$$\n",
    "\\Pr\\left[ (X_1, X_2) \\in A \\right]\n",
    "$$\n",
    "in two ways: \n",
    "    1. By evaluating the integral over the Gaussian density function\n",
    "    2. By estimating the fraction of samples in 4 that falls in the region $A$\n"
   ]
  },
  {
   "cell_type": "markdown",
   "id": "fbd3e7de-92dd-462c-9ba2-3c6e1237b8f8",
   "metadata": {
    "tags": []
   },
   "source": [
    "### **Answers**:"
   ]
  },
  {
   "cell_type": "markdown",
   "id": "e3dc0b9f-7495-4e76-ac77-2c2a21818a3d",
   "metadata": {
    "jp-MarkdownHeadingCollapsed": true,
    "tags": []
   },
   "source": [
    "#### 1.\n",
    "$Z = (Z_1,\\ldots,Z_9)^\\top \\sim \\Ncal(\\mu, I_9)$\n",
    "\n",
    "Let's write it in matrix form:\n",
    "$$\n",
    "Z =\n",
    "\\begin{bmatrix}\n",
    "Z_1 \\\\\n",
    "Z_2 \\\\\n",
    "Z_3 \\\\\n",
    "Z_4 \\\\\n",
    "Z_5 \\\\\n",
    "Z_6 \\\\\n",
    "Z_7 \\\\\n",
    "Z_8 \\\\\n",
    "Z_9\n",
    "\\end{bmatrix} \\sim \\Ncal\\left( \\begin{bmatrix} \n",
    "\\mu_1 \\\\\n",
    "\\mu_2\\\\\n",
    "\\mu_3\\\\\n",
    "\\mu_4\\\\\n",
    "\\mu_5\\\\\n",
    "\\mu_6\\\\\n",
    "\\mu_7\\\\\n",
    "\\mu_8\\\\\n",
    "\\mu_9\n",
    "\\end{bmatrix}, \\begin{bmatrix}\n",
    " 1 & 0 & 0 & 0 & 0 & 0 & 0 & 0 & 0 \\\\\n",
    " 0 & 1 & 0 & 0 & 0 & 0 & 0 & 0 & 0 \\\\\n",
    " 0 & 0 & 1 & 0 & 0 & 0 & 0 & 0 & 0 \\\\\n",
    " 0 & 0 & 0 & 1 & 0 & 0 & 0 & 0 & 0 \\\\\n",
    " 0 & 0 & 0 & 0 & 1 & 0 & 0 & 0 & 0 \\\\\n",
    " 0 & 0 & 0 & 0 & 0 & 1 & 0 & 0 & 0 \\\\\n",
    " 0 & 0 & 0 & 0 & 0 & 0 & 1 & 0 & 0 \\\\\n",
    " 0 & 0 & 0 & 0 & 0 & 0 & 0 & 1 & 0 \\\\\n",
    " 0 & 0 & 0 & 0 & 0 & 0 & 0 & 0 & 1\n",
    "\\end{bmatrix}\n",
    "\\right)\n",
    "$$\n",
    "\n",
    "And as seen in class, $Z_1$ and $Z_2$ are independent if Cov($Z_1$, $Z_2$) = Σ12 = 0<br>\n",
    "Therefore, each pair of $Z_i$ is independent from $Z_j$  (i != j)\n",
    "\n",
    "Each sum $Z_1+Z_2+Z_3+Z_4$ and $Z_1 + Z_2 - Z_3 - Z_4 - Z_5$ is Normal (see [here](https://en.wikipedia.org/wiki/Sum_of_normally_distributed_random_variables#:~:text=the%20sum%20of%20two%20independent%20normally%20distributed%20random%20variables%20is%20normal)).\n",
    "\n",
    "We also know (from class) that $\\operatorname{Cov}(A X, B Y)=A \\operatorname{Cov}(X, Y) B^{\\top}$, and that by linearity of COV:\n",
    "$$\n",
    "Cov(Z_1+Z_2+Z_3+Z_4, Z_1 + Z_2 - Z_3 - Z_4 - Z_5) =\n",
    "$$\n",
    "$$\n",
    "Cov(Z_1,Z_1) + Cov(Z_1,Z_2) - Cov(Z_1,Z_3) - Cov(Z_1,Z_4) - Cov(Z_1,Z_5) + Cov(Z_2,Z_1) + Cov(Z_2,Z_2) - Cov(Z_2,Z_3) - Cov(Z_2,Z_4) - Cov(Z_2,Z_5) + Cov(Z_3,Z_1) + Cov(Z_3,Z_2) - Cov(Z_3,Z_3) - Cov(Z_3,Z_4) - Cov(Z_3,Z_5) + Cov(Z_4,Z_1) + Cov(Z_4,Z_2) - Cov(Z_4,Z_3) - Cov(Z_4,Z_4) - Cov(Z_4,Z_5) =\n",
    "$$\n",
    "$$\n",
    "1 + 0 - 0 - 0 - 0 + 0 + 1 - 0 - 0 - 0 + 0 + 0 - 1 - 0 - 0 + 0 + 0 - 0 - 1 - 0 =\n",
    "$$\n",
    "$$\n",
    "0\n",
    "$$\n",
    "\n",
    "And for normal RVs - uncorrelatedness implies independence.\n",
    "\n",
    "So the sums are independent."
   ]
  },
  {
   "cell_type": "markdown",
   "id": "9b82022d-cf79-41e1-8b10-7ce986abe471",
   "metadata": {
    "jp-MarkdownHeadingCollapsed": true,
    "tags": []
   },
   "source": [
    "#### 2.\n",
    "$Z \\sim \\Ncal(\\mu, I_n)$ and $X = AZ$ and $Y = BZ$<br>\n",
    "$X \\sim \\Ncal(A\\mu, A I_n A^T)$ and $Y \\sim \\Ncal(B\\mu, B I_n B^T)$\n",
    "\n",
    "<!-- In order for X to be independent of Y we want A to be a matrix of size $m_1$ X n and B to be a matrix of size $m_2$ X n such that we get: -->\n",
    "\n",
    "$\n",
    "X \\sim \\Ncal(A\\mu, A I_n A^T) ==> X \\sim \\Ncal(A\\mu, A A^T)\n",
    "$\n",
    "and similarly $Y \\sim \\Ncal(B\\mu, B B^T)$\n",
    "\n",
    "($A_{m_1 X n}$ and $B_{m_2 X n}$)\n",
    "\n",
    "We want X and Y to be independent, and (as stated in section 1 and in class) for normal RVs - **uncorrelatedness implies independence** so we want to show that COV(X,Y) == 0.<br>\n",
    "We also saw in class that for non-random matrices A & B, $\\operatorname{Cov}(A Z, B Z)=A \\operatorname{Cov}(Z, Z) B^{\\top} = A Var(Z) B^{\\top} = A I B^{\\top} = A B^{\\top}$\n",
    "\n",
    "So COV(X,Y) = 0 when $A B^{\\top} = 0$ and that will satisfy X and Y to be independent."
   ]
  },
  {
   "cell_type": "markdown",
   "id": "efc42ebb-ac54-4906-ab9c-9cf758ee8603",
   "metadata": {},
   "source": [
    "#### 3.\n",
    "##### a. Is $\\bar{Z}_{i\\bullet}$ independent of $\\bar{Z}_{\\bullet j}$?\n",
    "\n",
    "$\n",
    "Cov(\\bar{Z}_{i\\bullet}, \\bar{Z}_{\\bullet j}) = \n",
    "Cov(\\frac{1}{J} \\sum_{j=1}^J Z_{ij}, \\frac{1}{I} \\sum_{i=1}^I Z_{ij}) = \n",
    "\\frac{1}{J} Cov(\\sum_{j=1}^J Z_{ij}, \\sum_{i=1}^I Z_{ij})\\frac{1}{I} = \n",
    "\\frac{1}{J} Cov(z_{ij}, z_{ij})\\frac{1}{I} = \n",
    "\\frac{1}{J} Var(z_{ij})\\frac{1}{I} = \n",
    "\\frac{1}{JI} \\neq 0\n",
    "$\n",
    "\n",
    "If they were ind., their Cov would be 0, so they are not ind.\n",
    "\n",
    "\n",
    "##### b. Is $\\bar{Z}_{1\\bullet}$ independent of $\\bar{Z}_{2\\bullet}$?\n",
    "Same as before, \n",
    "\n",
    "$\n",
    "Cov(\\bar{Z}_{1 \\bullet}, \\bar{Z}_{2 \\bullet}) = \n",
    "Cov(\\frac{1}{J} \\sum_{j=1}^J Z_{1j}, \\frac{1}{J} \\sum_{j=1}^J Z_{2j})\n",
    "$\n",
    "\n",
    "Every pair $z_{ij}, z_{i'j'}$ is independent (where $i \\neq i' and j \\neq j'$) - there are no common variables so all covariances cancel out and we get 0 as the final result (again \"for normal RVs - uncorrelatedness implies independence\").\n",
    "\n",
    "\n",
    "##### c. Is $\\bar{Z}_{i\\bullet} - \\bar{Z}_{\\bullet \\bullet}$ independent of $\\bar{Z}_{i\\bullet}$?\n",
    "From $cov(\\bar{Z}{i\\bullet} - \\bar{Z}{\\bullet \\bullet}, \\bar{Z}_{i\\bullet})$ we get no common variables between the 2 terms:<br>\n",
    "On the left, we are left with ALL the terms $\\in \\bar{Z}_{\\bullet \\bullet}$ which are not $\\in \\bar{Z}_{i\\bullet}$ with a negative sign (we take $\\bar{Z}_{i\\bullet}$ and subtract all possible $z_{ij}$ from it).\n",
    "\n",
    "And as in section b, every pair $z_{ij}, z_{i'j'}$ is independent and the Cov have no terms in common so cov == 0 and therefore $(\\bar{Z}_{i\\bullet} - \\bar{Z}_{\\bullet \\bullet})$, $\\bar{Z}_{i\\bullet}$ are independent."
   ]
  },
  {
   "cell_type": "markdown",
   "id": "9435d017-f9bb-40ac-8fab-89fed4b06a33",
   "metadata": {},
   "source": [
    "#### 4."
   ]
  },
  {
   "cell_type": "code",
   "execution_count": 77,
   "id": "9694a170-488a-4d99-8d6c-b8096a89fa12",
   "metadata": {},
   "outputs": [],
   "source": [
    "import matplotlib.pyplot as plt\n",
    "import numpy as np\n",
    "import pandas as pd\n",
    "import statsmodels.api as sm\n",
    "\n",
    "from mpl_toolkits import mplot3d\n",
    "import numpy as np\n",
    "import matplotlib.pyplot as plt\n",
    "\n",
    "np.random.seed(2021)\n",
    "plt.rcParams[\"figure.figsize\"] = (7, 7)\n",
    "plt.rcParams.update({'font.size': 18})\n",
    "%matplotlib inline"
   ]
  },
  {
   "cell_type": "code",
   "execution_count": 78,
   "id": "0606ed4c-7f12-45a7-9f02-9499e26f26e2",
   "metadata": {},
   "outputs": [],
   "source": [
    "mux = 0\n",
    "muy = 0\n",
    "rho = .25\n",
    "sigX = 1\n",
    "sigY = 1\n",
    "mu = np.array([[mux, muy]])\n",
    "Sig = np.array([[sigX ** 2, rho * sigX * sigY],  #desired covariance matrix\n",
    "                [rho * sigX * sigY, sigY ** 2]])\n",
    "A = np.linalg.cholesky(Sig)  # \"matrix square root\" of Sig"
   ]
  },
  {
   "cell_type": "code",
   "execution_count": 79,
   "id": "b3afcb46-cc44-44ee-bed3-41e71abafd3c",
   "metadata": {},
   "outputs": [
    {
     "data": {
      "image/png": "[encoded data removed]",
      "text/plain": [
       "<Figure size 432x288 with 1 Axes>"
      ]
     },
     "metadata": {
      "needs_background": "light"
     },
     "output_type": "display_data"
    }
   ],
   "source": [
    "n = 1000\n",
    "z = np.random.randn(2, n)\n",
    "x, y = mu.T + np.dot(A, z)\n",
    "\n",
    "plt.scatter(x, y)\n",
    "plt.title(\"Samples from non-standard bivaraite normal distribution\")\n",
    "plt.xlabel('x')\n",
    "plt.ylabel('y')\n",
    "plt.xlim((-5, 5))\n",
    "plt.ylim((-5, 5))\n",
    "plt.show()"
   ]
  },
  {
   "cell_type": "markdown",
   "id": "82754ef9-3cfe-4143-8bfa-3c43ec301221",
   "metadata": {},
   "source": [
    "#### 5.\n",
    "\n",
    "I don't understand what should be done here, honestly.<br>\n",
    "Maybe I didn't understand the instructions or we didn't discuss it in class.\n",
    "\n",
    "I assume we need to solve something around this somehow:\n",
    "\n",
    "$\\Pr\\left[ (X_1, X_2) \\in A \\right] = \\int_{A} \\int f_{X_1 X_2}\\left(x_1, x_2\\right) d x_1 d x_2 = \\int_{-\\infty}^{x_1} \\int_{-\\infty}^{x_2} f_{X_{1} X_{2}}(x_1, x_2) d x_1 d x_2$\n",
    "\n",
    "Where $f_{X_{1} X_{2}}(x_1, x_2) = \\frac{1}{(2 \\pi)^{m / 2} \\sqrt{|\\Sigma|}} \\exp \\left(-\\frac{1}{2}(X-\\mu)^{T} \\Sigma^{-1}(X-\\mu)\\right) = $\n",
    "$\\frac{1}{(2 \\pi)^{m / 2} \\sqrt{|\\Sigma|}} \\exp \\left(-\\frac{1}{2}(X)^{T} \\Sigma^{-1}(X)\\right)$"
   ]
  },
  {
   "cell_type": "markdown",
   "id": "040ba69f-4449-4e73-ba60-aad8549425e9",
   "metadata": {},
   "source": [
    "<hr>"
   ]
  },
  {
   "cell_type": "markdown",
   "id": "0a990953",
   "metadata": {},
   "source": [
    "## Problem 2 (Conditional Distribution)\n",
    "$\\newcommand{\\ex}{\\mathbb E}$\n",
    "\n",
    "\n",
    "For\n",
    "$$\n",
    "\\begin{bmatrix}\n",
    "X \\\\\n",
    "Y \\\\\n",
    "Z \n",
    "\\end{bmatrix} \\sim \\Ncal\\left( \\begin{bmatrix} 1 \\\\\n",
    "2\\\\\n",
    "3\n",
    "\\end{bmatrix}, \\begin{bmatrix}\n",
    " 4 & 1 & 3 \\\\\n",
    " 1 & 2 & 3 \\\\\n",
    " 3 & 3 & 8\n",
    "\\end{bmatrix}\n",
    "\\right)\n",
    "$$\n",
    "find (numerically):\n",
    "1. The distribution of $X$ given that $Y = 1$.\n",
    "2. The joint distribution of $X$ and $Y$ given $Z = 1$.\n",
    "3. The distribution of $Y$ given that $Z = 2$ and $X = 3$.\n",
    "4. $Pr(Y \\in [-1,1] | Z=2, X=3)$"
   ]
  },
  {
   "cell_type": "markdown",
   "id": "8c973b80-4940-4beb-ad13-79603f235a92",
   "metadata": {
    "tags": []
   },
   "source": [
    "### **Answers**:"
   ]
  },
  {
   "cell_type": "markdown",
   "id": "db6efc4e-045b-44f1-a7a7-697a9e9b41a7",
   "metadata": {},
   "source": [
    "#### 1.\n",
    "\n",
    "$$\n",
    "\\rho 2 \\sqrt{2} = 1\n",
    "$$\n",
    "\n",
    "$$\n",
    "\\rho = \\frac{1}{2 \\sqrt{2}}\n",
    "$$\n",
    "\n",
    "The conditional distribution of X given Y=1 is:\n",
    "$$\n",
    "\\mathcal{L}(X \\mid Y = 1) \\sim \\mathcal{N}\\left(\\mu_{x}+\\rho \\sigma_{x} \\frac{Y-\\mu_{y}}{\\sigma_{y}}, \\sigma_{x}^{2}\\left(1-\\rho^{2}\\right)\\right)\n",
    "$$\n",
    "\n",
    "$$\n",
    "= \\left(1+\\rho \\sqrt{4} \\frac{1-2}{\\sqrt{2}}, 4\\left(1-\\rho^{2}\\right)\\right)\n",
    "$$\n",
    "\n",
    "$$\n",
    "= \\left(1- \\sqrt{2}\\rho, 4\\left(1-\\rho^{2}\\right)\\right)\n",
    "$$\n",
    "\n",
    "$$\n",
    "=> \\mathcal{L}(X \\mid Y = 1) \\sim \\mathcal{N}\\left(0.5, 3.5 \\right)\n",
    "$$"
   ]
  },
  {
   "cell_type": "markdown",
   "id": "ae1896cf-dbd7-4a00-86fa-8c080feae485",
   "metadata": {},
   "source": [
    "#### 2.\n",
    "$\\mathcal{L}(XY \\mid Z = 1)$\n",
    "\n",
    "$$\\sigma_{xy} = \\begin{bmatrix} \n",
    "2  \\\\\n",
    "\\sqrt 2\n",
    "\\end{bmatrix}$$\n",
    "\n",
    "$$\n",
    "\\rho_{xy,z} \\sigma_{xy} \\sigma_{z} = \\begin{bmatrix} \n",
    "3  \\\\\n",
    "3\n",
    "\\end{bmatrix} \n",
    "$$\n",
    "\n",
    "$$ \\rho_{xy,z} \\begin{bmatrix} \n",
    "2  \\\\\n",
    "\\sqrt 2\n",
    "\\end{bmatrix} = \\begin{bmatrix} \n",
    "3  \\\\\n",
    "3\n",
    "\\end{bmatrix} $$\n",
    "\n",
    "$$ \\rho_{xy,z}  = \\begin{bmatrix} \n",
    "\\frac{3}{2 \\sqrt 8}  \\\\\n",
    "\\frac{3}{4}\n",
    "\\end{bmatrix} $$\n",
    "\n",
    "Similarly as before, plugging in the relevant variables:\n",
    "The conditional distribution of X and Y given Z=z is:\n",
    "$$\n",
    "\\mathcal{L}(XY \\mid Z = z) \\sim \\mathcal{N}\\left(E(XY \\mid Z = z), Var(XY \\mid Z = z)\\right)\n",
    "$$\n",
    "\n",
    "$$E(XY \\mid Z = z) = \\mu_{xy} + \\rho \\sigma_{xy} \\frac{z-\\mu_{z}}{\\sigma_{z}}$$\n",
    "\n",
    "$$\n",
    "= \\begin{bmatrix} \n",
    "1  \\\\\n",
    "2\n",
    "\\end{bmatrix} + \\begin{bmatrix} \n",
    "\\frac{3}{2 \\sqrt 8}  \\\\\n",
    "\\frac{3}{4}\n",
    "\\end{bmatrix} \\begin{bmatrix} \n",
    "2  \\\\\n",
    "\\sqrt 2\n",
    "\\end{bmatrix} \\frac{z-3}{\\sqrt{8}}\n",
    "$$\n",
    "\n",
    "$$\n",
    "= \\begin{bmatrix} \n",
    "1  \\\\\n",
    "2\n",
    "\\end{bmatrix} + \\begin{bmatrix} \n",
    "\\frac{3}{\\sqrt 8}  \\\\\n",
    "\\frac{3}{2 \\sqrt 2}\n",
    "\\end{bmatrix} \\frac{z-3}{\\sqrt{8}}\n",
    "$$\n",
    "\n",
    "$$\n",
    "--> z = 1\n",
    "$$\n",
    "\n",
    "$$\n",
    "= \\begin{bmatrix} \n",
    "1  \\\\\n",
    "2\n",
    "\\end{bmatrix} - \\begin{bmatrix} \n",
    "\\frac{3}{\\sqrt 8}  \\\\\n",
    "\\frac{3}{2 \\sqrt 2}\n",
    "\\end{bmatrix} \\frac{2}{\\sqrt{8}}\n",
    "$$\n",
    "\n",
    "$$\n",
    "= \\begin{bmatrix} \n",
    "1  \\\\\n",
    "2\n",
    "\\end{bmatrix} - \\begin{bmatrix} \n",
    "\\frac{3}{4}  \\\\\n",
    "\\frac{3}{4} \n",
    "\\end{bmatrix}\n",
    "$$\n",
    "\n",
    "\n",
    "$$\n",
    "= \\begin{bmatrix} \n",
    "0.25  \\\\\n",
    "1.25 \n",
    "\\end{bmatrix}\n",
    "$$"
   ]
  },
  {
   "cell_type": "markdown",
   "id": "e1a296ba-8191-4f44-925e-3749a548e379",
   "metadata": {},
   "source": [
    "Now for the Variance:\n",
    "\n",
    "$\\sigma^2_{xy} = \\begin{bmatrix} \n",
    "4 \\\\ 2\n",
    "\\end{bmatrix}^T \\begin{bmatrix} \n",
    "4  \\\\\n",
    "2 \n",
    "\\end{bmatrix} = \n",
    "\\begin{bmatrix} \n",
    "4 & 2\\sqrt 2 \\\\\n",
    "2\\sqrt 2 & 2 \n",
    "\\end{bmatrix}$\n",
    "\n",
    "$$\n",
    "Var(XY \\mid Z = z) = \\sigma^2_{xy} (1 - \\rho^2_{xy,z}) = \\begin{bmatrix} \n",
    "4 & 2\\sqrt 2 \\\\\n",
    "2\\sqrt 2 & 2 \n",
    "\\end{bmatrix} (1 - \\begin{bmatrix} \n",
    "\\frac{3}{2 \\sqrt 8}  \\\\\n",
    "\\frac{3}{4}\n",
    "\\end{bmatrix} \\begin{bmatrix} \n",
    "\\frac{3}{2 \\sqrt 8}  \\\\\n",
    "\\frac{3}{4}\n",
    "\\end{bmatrix}) \n",
    "= \\begin{bmatrix} \n",
    "4 & 2\\sqrt 2 \\\\\n",
    "2\\sqrt 2 & 2 \n",
    "\\end{bmatrix} (1 - \\begin{bmatrix} \n",
    "\\frac{3}{2 \\sqrt 8}  \\\\\n",
    "\\frac{3}{4}\n",
    "\\end{bmatrix})\n",
    "= \\begin{bmatrix} \n",
    "4 & 2\\sqrt 2 \\\\\n",
    "2\\sqrt 2 & 2 \n",
    "\\end{bmatrix} \\begin{bmatrix} \n",
    "\\frac{3}{2 \\sqrt 8}  \\\\\n",
    "\\frac{1}{4}\n",
    "\\end{bmatrix}\n",
    "=\n",
    "..................... = \n",
    "\\begin{pmatrix}\\frac{7}{4}&-\\frac{1}{2\\sqrt{2}}\\\\ \\frac{7}{4\\sqrt{2}}&-\\frac{1}{4}\\end{pmatrix}\n",
    "$$\n",
    "\n",
    "^ With some caclulation errors\n",
    "\n",
    "Eventually,\n",
    "$$\n",
    "=> \\mathcal{L}(XY \\mid Z = 1) \\sim \\mathcal{N}(\\begin{bmatrix} \n",
    "0.25  \\\\\n",
    "1.25 \n",
    "\\end{bmatrix},  \\begin{pmatrix}\\frac{7}{4}&-\\frac{1}{2\\sqrt{2}}\\\\ \\frac{7}{4\\sqrt{2}}&-\\frac{1}{4}\\end{pmatrix} )\n",
    "$$"
   ]
  },
  {
   "cell_type": "markdown",
   "id": "4f0dac96-cfdb-4573-a047-b1440fb2eb45",
   "metadata": {},
   "source": [
    "#### 3.\n",
    "We rearrange the order of the RVs to make it easier to read:\n",
    "$$\n",
    "\\begin{bmatrix}\n",
    "X \\\\\n",
    "Z \\\\\n",
    "Y \n",
    "\\end{bmatrix} \\sim \\Ncal\\left( \\begin{bmatrix} 1 \\\\\n",
    "3 \\\\\n",
    "2\n",
    "\\end{bmatrix}, \\begin{bmatrix}\n",
    " 4 & 3 & 1 \\\\\n",
    " 3 & 3 & 8 \\\\\n",
    " 1 & 3 & 2\n",
    "\\end{bmatrix}\n",
    "\\right)\n",
    "$$\n",
    "\n",
    "Need to find: $\\mathcal{L}(Y \\mid X = 3,Z = 2)$\n",
    "\n",
    "$\n",
    "E(Y \\mid X = 3, Z = 1) \n",
    "= \\mu_{y} + \\rho_{y,xz} \\sigma_{y} \\frac{xz-\\mu_{xz}}{\\sigma_{xz}} \n",
    "= 2 + cov(Y, XZ) \\frac{xz - \\mu_{xz}}{\\sigma_{xz}^2}\n",
    "= 2 + \\begin{bmatrix}\n",
    "1 & 3\n",
    "\\end{bmatrix} \\cdot  \\begin{bmatrix}\n",
    "4 & 3 \\\\\n",
    "3 & 8\n",
    "\\end{bmatrix}^{-1} (\\begin{bmatrix}\n",
    "3 \\\\\n",
    "2\n",
    "\\end{bmatrix} - \\begin{bmatrix}\n",
    "1 \\\\\n",
    "3\n",
    "\\end{bmatrix})\n",
    "= 2 - \\begin{pmatrix}\\frac{11}{23}\\end{pmatrix} = 1.52\n",
    "$\n",
    "\n",
    "^ Using Wolfram alpha [here](https://www.symbolab.com/solver/matrix-multiply-calculator/2%2B%5Cleft%5B%5Cbegin%7Bpmatrix%7D1%263%5Cend%7Bpmatrix%7D%5Ccdot%5Cbegin%7Bpmatrix%7D4%263%5C%5C%20%20%20%20%20%20%20%20%20%203%268%5Cend%7Bpmatrix%7D%5E%7B-1%7D%5Ccdot%5Cbegin%7Bpmatrix%7D2%5C%5C%20%20%20-1%5Cend%7Bpmatrix%7D%5Cright%5D?or=input)\n",
    "\n",
    "$Var(Y \\mid X = 3, Z = 1)\n",
    "= \\sigma_{y}^{2}\\left(1-\\rho_{y,xz}^{2}\\right)\n",
    "= 2 (1 - \\frac{cov(Y, XZ)}{\\sigma_{y} \\sigma_{xz}})\n",
    "= 2 (1 - \\frac{cov(Y, XZ)}{\\sqrt 2 \\begin{bmatrix}\n",
    "3 \\\\\n",
    "2\n",
    "\\end{bmatrix}})\n",
    "= 2 (1 - \\sqrt 2 \\begin{bmatrix}\n",
    "3 \\\\\n",
    "2\n",
    "\\end{bmatrix}^{-1} \\begin{bmatrix}\n",
    "1 &3\n",
    "\\end{bmatrix})\n",
    "= ..... = 1.84\n",
    "$\n",
    "\n",
    "^ With some caclulation errors\n",
    "\n",
    "Eventually,\n",
    "$$\n",
    "=> \\mathcal{L}(Y \\mid X = 3,Z = 2) \\sim \\mathcal{N}(1.52, 1.84)\n",
    "$$"
   ]
  },
  {
   "cell_type": "markdown",
   "id": "230d94f4-3cf1-456f-bb95-d7e0b0c08167",
   "metadata": {},
   "source": [
    "#### 4.\n",
    "Using the previous calculaitons (considering I have some calculation errors), I have found that $(Y \\mid X = 3,Z = 2) \\sim \\mathcal{N}(1.52, 1.84)$\n",
    "\n",
    "So $Pr(Y \\in [-1,1] | Z=2, X=3) = CDF_Y(1) - CDF_Y(-1) = 0.3033$\n",
    "\n",
    "- Calculated using online CDF calculators [like this one](https://onlinestatbook.com/2/calculators/normal_dist.html)"
   ]
  },
  {
   "cell_type": "markdown",
   "id": "2b6aa97e-9e3d-428e-9459-74d67344588a",
   "metadata": {},
   "source": [
    "<hr>"
   ]
  },
  {
   "cell_type": "markdown",
   "id": "3f1d6ca8",
   "metadata": {},
   "source": [
    "## Problem 3 (Distributional Properties of Least Squares)\n",
    "Consider a least squares model with one predcitor $p=1$ without an intercept term, i.e. $y_i = \\beta x_i + \\epsilon_i$, $i=1,\\ldots,n$.\n",
    "1. Write the least squares solution $\\hat{\\beta} \\in \\mathbb R$ in terms of $x = (x_1,\\ldots,x_n)^\\top$ and $y = (y_1,\\ldots,y_n)^\\top$.\n",
    "2. With $\\hat{y}_i = \\hat{\\beta} x_i$ and $\\hat{\\epsilon}_i = y_i - \\hat{y}_i$, show that\n",
    " - $\\sum_{i=1}^n \\hat{y}_i \\hat{\\epsilon}_i = 0$\n",
    " - $\\|\\hat{\\epsilon}\\|^2 = \\|y\\|^2 -  \\|\\hat{y}\\|^2$\n",
    "3. Suppose that $\\epsilon_i \\sim N(0, 1)$. \n",
    " - What is the distribution of the random vector $[ \\hat{\\epsilon}~~ \\hat{y}]^\\top$?\n",
    " - What is the distribution of the random vector $[\\hat{y} ~~ \\hat{\\beta}]^\\top$?\n",
    "4. Set $\\|\\epsilon\\|_{\\infty} := \\max_{i=1}^n |\\epsilon_i|$. What is $Pr( \\|\\hat{\\epsilon}\\|_{\\infty} > 2)$? is it larger or smaller than $Pr(\\|\\epsilon\\|_{\\infty}  > 2)$? (the point, we want to know if the predicted residuals tend to have less or more extreme values than the true ones)"
   ]
  },
  {
   "cell_type": "markdown",
   "id": "de4b554d-2567-4753-8f5b-9972b5ccd1c0",
   "metadata": {
    "tags": []
   },
   "source": [
    "### **Answers**:"
   ]
  },
  {
   "cell_type": "markdown",
   "id": "f24f5bec-07ff-4f48-9a83-776bc3bb73df",
   "metadata": {
    "tags": []
   },
   "source": [
    "#### 1. $\\hat{\\beta} = (x^T x)^{-1} x^T y$"
   ]
  },
  {
   "cell_type": "markdown",
   "id": "e7e2035c-59ea-4e13-8cf4-06d4d2c17a38",
   "metadata": {
    "tags": []
   },
   "source": [
    "#### 2. \n",
    "- $\n",
    "\\sum_{i=1}^n \\hat{y}_i \\hat{\\epsilon}_i =\n",
    "\\sum_{i=1}^n \\hat{\\beta} x_i \\hat{\\epsilon}_i =\n",
    "\\hat{\\beta} \\sum_{i=1}^n x_i \\hat{\\epsilon}_i =\n",
    "\\hat{\\beta} \\sum_{i=1}^n \\hat{\\epsilon}_i x_i\n",
    "$\n",
    "\n",
    "    And we saw in lecture 2 that ($\\hat{\\epsilon}^T x$) is known as the Normal Equation (bc. normal is a synonym to perpendicular) and the result is `0` so the result of the original equation is also `0`.\n",
    "\n",
    "- $\\|\\hat{\\epsilon}\\|^2 = \\epsilon^T \\epsilon = (y - \\hat{y})^T (y - \\hat{y}) = \\|y\\|^2 -  \\|\\hat{y}\\|^2$"
   ]
  },
  {
   "cell_type": "markdown",
   "id": "dfaa8a9e-99c0-4199-9b8c-5b52f1a0390f",
   "metadata": {},
   "source": [
    "#### 3. $\\epsilon_i \\sim N(0, 1)$\n",
    "- $y = x \\beta + \\epsilon = \\epsilon + x \\beta$\n",
    "    and from lecture (Linear Transformations of Normal RVs) we conclude that $y \\sim N(x\\beta, 1)$\n",
    "    \n",
    "    Therefore, we also saw in class (lecture 3, second part - handwritten notes) that this means that:\n",
    "    $$\\hat{\\beta} \\sim N(\\beta, (x^T x)^{-1})$$\n",
    "    $$\\hat{y} \\sim N(x \\beta, H)$$\n",
    "    $$\\hat{\\epsilon} = y - \\hat{y} \\sim N(0, I-H)$$\n",
    "    \n",
    "    Now we know that $\\begin{bmatrix} \\hat{\\epsilon} \\\\ \\hat{y} \\end{bmatrix} \\sim N(\\begin{bmatrix} 0 \\\\ x \\beta \\end{bmatrix}, \\Sigma = \n",
    "    \\begin{bmatrix}\n",
    "    I-H & cov(\\hat{\\epsilon}, \\hat{y}) \\\\ cov(\\hat{\\epsilon}, \\hat{y}) & H \n",
    "    \\end{bmatrix})$\n",
    "\n",
    "    And $cov(\\hat{\\epsilon}, \\hat{y}) = 0$ because we know that $\\hat{\\epsilon}$ is ind. of $\\hat{\\beta}$ & $\\hat{y}$\n",
    "\n",
    "- $\\begin{bmatrix} \\hat{y} \\\\ \\hat{\\beta} \\end{bmatrix} \\sim N(\\begin{bmatrix} x \\beta \\\\ \\beta \\end{bmatrix}, \\Sigma = \n",
    "    \\begin{bmatrix}\n",
    "    H & cov(\\hat{y}, \\hat{\\beta}) \\\\ cov(\\hat{y}, \\hat{\\beta}) & (x^T x)^{-1} \n",
    "    \\end{bmatrix})$\n",
    "\n",
    "    And $cov(\\hat{y}, \\hat{\\beta}) = cov(x \\hat{\\beta}, \\hat{\\beta}) = x \\cdot var(\\hat{\\beta}) = x(x^T x)^{-1}$"
   ]
  },
  {
   "cell_type": "markdown",
   "id": "5de9b453-0186-4ee6-9965-dccc214ecf5a",
   "metadata": {},
   "source": [
    "#### 4.\n",
    "Intuitively, I assume that the predicted residuals tend to have **less** extreme values than the true ones, because our model's goal is to minimize these, in expense of the true ones (the real world behaviour) \n",
    "$$==> Pr( \\|\\hat{\\epsilon}\\|_{\\infty} > 2) \\leq Pr( \\|\\epsilon \\|_{\\infty} > 2)$$\n",
    "\n",
    "Now, $Pr( \\|\\hat{\\epsilon}\\|_{\\infty} > 2) = 1 - Pr( \\|\\hat{\\epsilon}\\|_{\\infty} \\leq 2) = 1 - CDF_{\\hat{\\epsilon}}(2)$ and we want to find $\\hat{\\epsilon}$'s distribution..."
   ]
  },
  {
   "cell_type": "markdown",
   "id": "e23aa1bf-4219-4cf2-a4e1-e3825d4a164f",
   "metadata": {},
   "source": [
    "<hr>"
   ]
  },
  {
   "cell_type": "markdown",
   "id": "e66c79f9",
   "metadata": {
    "tags": []
   },
   "source": [
    "## Problem 4 (Model fitting and t-Test)\n",
    "Consider the house prices dataset from the EDA notebook, which you can obtain from kaggle via:"
   ]
  },
  {
   "cell_type": "code",
   "execution_count": 80,
   "id": "e35018da",
   "metadata": {
    "tags": []
   },
   "outputs": [
    {
     "name": "stderr",
     "output_type": "stream",
     "text": [
      "'kaggle' is not recognized as an internal or external command,\n",
      "operable program or batch file.\n",
      "A subdirectory or file house-prices already exists.\n"
     ]
    }
   ],
   "source": [
    "!kaggle competitions download -c house-prices-advanced-regression-techniques\n",
    "!mkdir house-prices\n",
    "# !unzip house-prices-advanced-regression-techniques.zip -d house-prices/\n",
    "import zipfile\n",
    "\n",
    "with zipfile.ZipFile('house-prices-advanced-regression-techniques.zip', 'r') as zip_ref:\n",
    "    zip_ref.extractall('house-prices')"
   ]
  },
  {
   "cell_type": "markdown",
   "id": "171e9d76",
   "metadata": {},
   "source": [
    "Only consider houses of lot size smaller than $15,000$ square feet, e.g. by using"
   ]
  },
  {
   "cell_type": "code",
   "execution_count": 81,
   "id": "38a83608",
   "metadata": {},
   "outputs": [],
   "source": [
    "import pandas as pd\n",
    "\n",
    "data_raw = pd.read_csv(\"house-prices/train.csv\")\n",
    "data = data_raw[data_raw.LotArea < 15000]  # we focus on small lots"
   ]
  },
  {
   "cell_type": "markdown",
   "id": "bc3d9e14",
   "metadata": {},
   "source": [
    "Consider predicting ``SalePrice`` via a linear model with predictors:"
   ]
  },
  {
   "cell_type": "code",
   "execution_count": 82,
   "id": "aaea859b",
   "metadata": {},
   "outputs": [],
   "source": [
    "feat_set1 = ['LotArea', 'YearBuilt', 'YrSold', 'GarageCars',\n",
    "             'FullBath', 'TotalBsmtSF', 'GarageArea', 'OverallQual']"
   ]
  },
  {
   "cell_type": "markdown",
   "id": "e6a62625",
   "metadata": {},
   "source": [
    "plus a constant. "
   ]
  },
  {
   "cell_type": "markdown",
   "id": "b676571d",
   "metadata": {},
   "source": [
    "1. Find the least squares estimate $\\hat{\\beta}$ of this model.\n",
    "2. Find $R^2$ of this model.\n",
    "3. For each $\\beta_j$, $j=1,\\ldots,9$, evaluate the $t$ statistic corresponding to testing \n",
    "$$\n",
    "H_{0j}\\,:\\, \\beta_j=0\n",
    "$$\n",
    "and its P-values (identify first the number of degrees of freedom). \n",
    "4. Which of these statistics exceeds the $0.975$-th quantile of the corresponding $t$ distribution and below the $0.025$-th quantile? (values exceeding these quantiles are strong evidence against $H_{0j}$)\n",
    "5. Consider a smaller model involving only ``LotArea``,  ``YearBuilt``, ``YrSold`` as predictors. Find the least squares estimate of this smaller model and its sum of sqaures. Is this model provides a valid representation of the data compared to the original larger one? Answer your question by evaluating the relevant $F$ statistic and report on the F-test's P-value. "
   ]
  },
  {
   "cell_type": "markdown",
   "id": "d5860ffa-0fc8-44e6-bc2a-a47fe29965a7",
   "metadata": {
    "tags": []
   },
   "source": [
    "### **Answers**:"
   ]
  },
  {
   "cell_type": "markdown",
   "id": "29f5c793-f7b8-48b0-8518-ea3ae127effd",
   "metadata": {},
   "source": [
    "#### 1."
   ]
  },
  {
   "cell_type": "code",
   "execution_count": 83,
   "id": "c998a277-c76c-4397-9425-a34e17aeeca2",
   "metadata": {},
   "outputs": [],
   "source": [
    "import numpy as np\n",
    "\n",
    "\n",
    "def least_squares(df, y):\n",
    "    intercept = np.ones(len(df))\n",
    "    Z = np.column_stack([intercept, df.values])  # assemble matrix Z\n",
    "    y = y.values.reshape(-1, 1)  # turn y into a column vector\n",
    "    betas = np.dot((np.dot(np.linalg.inv(np.dot(Z.T, Z)), Z.T)), y)\n",
    "    y_hat = np.dot(Z, betas)\n",
    "    return betas, y, y_hat, Z"
   ]
  },
  {
   "cell_type": "code",
   "execution_count": 84,
   "id": "ea973307-830c-43a0-907b-e28261afb4ec",
   "metadata": {},
   "outputs": [],
   "source": [
    "betas, y, y_hat, Z = least_squares(df=data[feat_set1], y=data['SalePrice'])"
   ]
  },
  {
   "cell_type": "code",
   "execution_count": 85,
   "id": "83e8c5ff-5b9e-4e60-af25-82d7e2b58c0d",
   "metadata": {},
   "outputs": [
    {
     "name": "stdout",
     "output_type": "stream",
     "text": [
      "beta_0 (Intercept) = -930539.0921318433\n",
      "beta_1 (LotArea) = 4.1444375438264265\n",
      "beta_2 (YearBuilt) = 144.32511575496926\n",
      "beta_3 (YrSold) = 271.62546867677116\n",
      "beta_4 (GarageCars) = 2796.7315861712163\n",
      "beta_5 (FullBath) = 15624.230009726156\n",
      "beta_6 (TotalBsmtSF) = 35.076359506205456\n",
      "beta_7 (GarageArea) = 42.143165184262834\n",
      "beta_8 (OverallQual) = 25411.429359990645\n"
     ]
    }
   ],
   "source": [
    "for i, feature in enumerate(['Intercept'] + feat_set1):\n",
    "    print(f'beta_{i} ({feature}) = {betas[i][0]}')"
   ]
  },
  {
   "cell_type": "markdown",
   "id": "84bf287f-0892-4bc9-83b5-f2177f2eff6f",
   "metadata": {},
   "source": [
    "#### 2."
   ]
  },
  {
   "cell_type": "code",
   "execution_count": 86,
   "id": "a76cb4b9-a69d-444e-8bb3-4fee5fbcb4cb",
   "metadata": {},
   "outputs": [],
   "source": [
    "def r_squared(y, y_hat):\n",
    "    SS_Tot = np.sum((y - y.mean()) ** 2)\n",
    "    SS_Fit = np.sum((y_hat - y.mean()) ** 2)\n",
    "    # SS_Res = np.sum((y - y_hat) ** 2)\n",
    "    return SS_Fit / SS_Tot"
   ]
  },
  {
   "cell_type": "code",
   "execution_count": 87,
   "id": "991a29ea-0b1a-442b-931f-bbd85e93d178",
   "metadata": {},
   "outputs": [
    {
     "name": "stdout",
     "output_type": "stream",
     "text": [
      "R^2: 0.7890359748682927\n"
     ]
    }
   ],
   "source": [
    "print(f'R^2: {r_squared(y, y_hat)}')"
   ]
  },
  {
   "cell_type": "markdown",
   "id": "a49094f4-77a0-408f-bf4a-2762fd1708bf",
   "metadata": {},
   "source": [
    "#### 3."
   ]
  },
  {
   "cell_type": "code",
   "execution_count": 88,
   "id": "bea9fe6b",
   "metadata": {
    "collapsed": false,
    "jupyter": {
     "outputs_hidden": false
    },
    "pycharm": {
     "name": "#%%\n"
    }
   },
   "outputs": [
    {
     "name": "stdout",
     "output_type": "stream",
     "text": [
      "beta_0 (Intercept) t = -0.6729588494896794\n",
      "beta_1 (LotArea) t = 12.081658957954927\n",
      "beta_2 (YearBuilt) t = 3.5310309274125036\n",
      "beta_3 (YrSold) t = 0.39486631155867746\n",
      "beta_4 (GarageCars) t = 0.9928375099941528\n",
      "beta_5 (FullBath) t = 7.343711558288908\n",
      "beta_6 (TotalBsmtSF) t = 12.300325417816358\n",
      "beta_7 (GarageArea) t = 4.323835293729458\n",
      "beta_8 (OverallQual) t = 25.348957126130482\n"
     ]
    }
   ],
   "source": [
    "residuals_hat = y - y_hat\n",
    "degrees_of_freedom = Z.shape[0] - Z.shape[1]\n",
    "S_squared = np.dot(residuals_hat.T, residuals_hat) / degrees_of_freedom\n",
    "\n",
    "c = np.zeros((len(betas)))\n",
    "features = ['Intercept'] + feat_set1\n",
    "results = []\n",
    "\n",
    "for i, beta in enumerate(betas):\n",
    "    c[i] = 1  # we set 1 every time in the j_th entry\n",
    "    # from lecture - \"if we hypothesize that beta_j = 0, we would have:\n",
    "    t = (beta / np.sqrt(S_squared * np.dot(c.T, np.dot(np.linalg.inv(np.dot(Z.T, Z)), c))))[0][0]  # C^T (Z^T Z)^-1 C\n",
    "    c[i] = 0\n",
    "    results.append(t)\n",
    "    print(f'beta_{i} ({features[i]}) t = {t}')"
   ]
  },
  {
   "cell_type": "markdown",
   "id": "1a7cf1fa",
   "metadata": {},
   "source": [
    "#### 4."
   ]
  },
  {
   "cell_type": "code",
   "execution_count": 89,
   "id": "a8e8dab3",
   "metadata": {
    "collapsed": false,
    "jupyter": {
     "outputs_hidden": false
    },
    "pycharm": {
     "name": "#%%\n"
    }
   },
   "outputs": [
    {
     "name": "stdout",
     "output_type": "stream",
     "text": [
      "statistics (betas) [1, 2, 5, 6, 7, 8] exceed the 0.975-th quantile of the corresponding t distribution.\n",
      "statistics (betas) [] are below the 0.025-th quantile of the corresponding t distribution.\n"
     ]
    }
   ],
   "source": [
    "# Which of these statistics exceeds the 0.975-th quantile of the corresponding t distribution and below the 0.025-th quantile? (values exceeding these quantiles are strong evidence against H_{0j})\n",
    "import scipy.stats as stats\n",
    "\n",
    "exceeds = results > stats.t.ppf(0.975, degrees_of_freedom)\n",
    "below = results < stats.t.ppf(0.025, degrees_of_freedom)\n",
    "\n",
    "print(\n",
    "    f'statistics (betas) {[i for i, x in enumerate(exceeds) if x]} exceed the 0.975-th quantile of the corresponding t distribution.')\n",
    "\n",
    "print(\n",
    "    f'statistics (betas) {[i for i, x in enumerate(below) if x]} are below the 0.025-th quantile of the corresponding t distribution.')"
   ]
  },
  {
   "cell_type": "markdown",
   "id": "aecb1e12-25d9-4c9b-bb98-e1b6b03fc151",
   "metadata": {
    "pycharm": {
     "name": "#%% md\n"
    }
   },
   "source": [
    "#### 5."
   ]
  },
  {
   "cell_type": "code",
   "execution_count": 90,
   "id": "d72a045d",
   "metadata": {
    "collapsed": false,
    "jupyter": {
     "outputs_hidden": false
    },
    "pycharm": {
     "name": "#%%\n"
    }
   },
   "outputs": [],
   "source": [
    "feature_set_smaller_model = ['LotArea', 'YearBuilt', 'YrSold']\n",
    "betas_small_model, y_small_model, y_hat_small_model, Z_small_model = least_squares(\n",
    "    df=data[feature_set_smaller_model], y=data['SalePrice'])"
   ]
  },
  {
   "cell_type": "code",
   "execution_count": 91,
   "id": "41012743",
   "metadata": {
    "collapsed": false,
    "jupyter": {
     "outputs_hidden": false
    },
    "pycharm": {
     "name": "#%%\n"
    }
   },
   "outputs": [
    {
     "name": "stdout",
     "output_type": "stream",
     "text": [
      "R^2: 0.47605851486471806\n"
     ]
    }
   ],
   "source": [
    "print(f'R^2: {r_squared(y_small_model, y_hat_small_model)}')"
   ]
  },
  {
   "cell_type": "code",
   "execution_count": 92,
   "id": "685b22ed",
   "metadata": {
    "collapsed": false,
    "jupyter": {
     "outputs_hidden": false
    },
    "pycharm": {
     "name": "#%%\n"
    }
   },
   "outputs": [],
   "source": [
    "n = Z.shape[0]  # original model\n",
    "p = Z.shape[1]  # original model\n",
    "q = Z_small_model.shape[1]\n",
    "SS_full = np.sum((y - y_hat) ** 2)\n",
    "SS_sub = np.sum((y_small_model - y_hat_small_model) ** 2)"
   ]
  },
  {
   "cell_type": "code",
   "execution_count": 93,
   "id": "b77148f5",
   "metadata": {
    "collapsed": false,
    "jupyter": {
     "outputs_hidden": false
    },
    "pycharm": {
     "name": "#%%\n"
    }
   },
   "outputs": [
    {
     "name": "stdout",
     "output_type": "stream",
     "text": [
      "F statistic = 394.3298333308037\n"
     ]
    }
   ],
   "source": [
    "F = ((SS_sub - SS_full) / (p - q)) / (SS_full / (n - p))\n",
    "print(f'F statistic = {F}')"
   ]
  },
  {
   "cell_type": "markdown",
   "id": "0bc9c777",
   "metadata": {
    "pycharm": {
     "name": "#%% md\n"
    }
   },
   "source": [
    "Now we want to find the p-value of this F, so we need to calculate its CDF at this point F:"
   ]
  },
  {
   "cell_type": "code",
   "execution_count": 94,
   "id": "013b1eb4",
   "metadata": {
    "collapsed": false,
    "jupyter": {
     "outputs_hidden": false
    },
    "pycharm": {
     "name": "#%%\n"
    }
   },
   "outputs": [
    {
     "name": "stdout",
     "output_type": "stream",
     "text": [
      "p-value = 0.9999999999999999\n"
     ]
    }
   ],
   "source": [
    "p_value = stats.f.cdf(F, p - q, n - p)\n",
    "print(f'p-value = {p_value}')"
   ]
  },
  {
   "cell_type": "markdown",
   "id": "944fdb5f",
   "metadata": {
    "pycharm": {
     "name": "#%% md\n"
    }
   },
   "source": [
    "Since our F-test's p-value is too large, we say that this model does **NOT** provide a valid representation of the data compared to the original larger one."
   ]
  }
 ],
 "metadata": {
  "kernelspec": {
   "display_name": "Python 3 (ipykernel)",
   "language": "python",
   "name": "python3"
  },
  "language_info": {
   "codemirror_mode": {
    "name": "ipython",
    "version": 3
   },
   "file_extension": ".py",
   "mimetype": "text/x-python",
   "name": "python",
   "nbconvert_exporter": "python",
   "pygments_lexer": "ipython3",
   "version": "3.8.10"
  }
 },
 "nbformat": 4,
 "nbformat_minor": 5
}
