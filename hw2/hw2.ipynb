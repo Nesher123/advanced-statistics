{
 "cells": [
  {
   "cell_type": "markdown",
   "id": "e6447ca2",
   "metadata": {},
   "source": [
    "#### Advanced Statistics for Data Science (Spring 2022)\n",
    "# Home Assignment 2\n",
    "#### Topics:\n",
    "- Probability review\n",
    "- Distributional Properties of the Linear Model\n",
    "\n",
    "\n",
    "#### Due: 05/04/2022 by 18:30\n",
    "\n",
    "#### Instructions:\n",
    "- Write your name, Student ID, and date in the cell below. \n",
    "- Submit a copy of this notebook with code filled in the relevant places as the solution of coding excercises.\n",
    "- For theoretic excercises, you can either write your solution in the notebook using $\\LaTeX$ or submit additional notes.\n",
    "\n",
    "<hr>\n",
    "<hr>"
   ]
  },
  {
   "cell_type": "markdown",
   "id": "4dc6a671",
   "metadata": {},
   "source": [
    "**Name**: Ofir Nesher\n",
    "\n",
    "**Student ID**: 204502926\n",
    "\n",
    "**Date**: 26/03/22\n",
    "\n",
    "$\n",
    "\\newcommand{\\Id}{{\\mathbf{I}}}  \n",
    "\\newcommand{\\SSE}{\\mathsf{SSE}}\n",
    "\\newcommand{\\SSR}{\\mathsf{SSR}}\n",
    "\\newcommand{\\MSE}{\\mathsf{MSE}}\n",
    "\\newcommand{\\simiid}{\\overset{iid}{\\sim}}\n",
    "\\newcommand{\\ex}{\\mathbb E}\n",
    "\\newcommand{\\var}{\\mathrm{Var}}\n",
    "\\newcommand{\\Cov}[2]{{\\mathrm{Cov}  \\left(#1, #2 \\right)}}\n",
    "\\newcommand{\\one}[1]{\\mathbf 1 {\\left\\{#1\\right\\}}}\n",
    "\\newcommand{\\SE}[1]{\\mathrm{SE} \\left[#1\\right]}\n",
    "\\newcommand{\\reals}{\\mathbb R}\n",
    "\\newcommand{\\Ncal}{\\mathcal N}\n",
    "\\newcommand{\\abs}[1]{\\ensuremath{\\left\\vert#1\\right\\vert}}\n",
    "\\newcommand{\\rank}{\\operatorname{rank}}\n",
    "\\newcommand{\\tr}{\\operatorname{Tr}}\n",
    "\\newcommand{\\diag}{\\operatorname{diag}}\n",
    "\\newcommand{\\sign}{\\operatorname{sign}}\n",
    "$"
   ]
  },
  {
   "cell_type": "markdown",
   "id": "ca313178",
   "metadata": {},
   "source": [
    "<hr>\n",
    "<hr>"
   ]
  },
  {
   "cell_type": "markdown",
   "id": "ec1bca5c",
   "metadata": {},
   "source": [
    "## Problem 1 (The Normal Distribution)\n",
    "\n",
    "1. Let $Z = (Z_1,\\ldots,Z_9)^\\top \\sim \\Ncal(\\mu, I_9)$ where $\\mu \\in \\reals^9$. Show that $Z_1+Z_2+Z_3+Z_4$ is independent of $Z_1 + Z_2 - Z_3 - Z_4 - Z_5$.\n",
    "\n",
    "2. Suppose that $Z \\sim \\Ncal(\\mu, I_n)$ and let $X = AZ$ and $Y = BZ$ for non-random matrices $A$ and $B$. Find conditions on $A$ and $B$ such that $X$ independent of $Y$.\n",
    "\n",
    "3. Suppose that $Z_{ij} \\simiid \\Ncal(0, 1)$ for $i= 1,\\ldots,I$ and $j=1,\\ldots,J$. Define \n",
    "$$\n",
    "\\bar{Z}_{i\\bullet} := \\frac{1}{J} \\sum_{j=1}^J Z_{ij},\\qquad \\bar{Z}_{\\bullet j} := \\frac{1}{I} \\sum_{i=1}^I Z_{ij}, \\qquad \\bar{Z}_{\\bullet \\bullet} := \\frac{1}{IJ} \\sum_{j=1}^J \\sum_{i=1}^I Z_{ij}\n",
    "$$\n",
    "    - Is $\\bar{Z}_{i\\bullet}$ independent of $\\bar{Z}_{\\bullet j}$ ?\n",
    "    - Is $\\bar{Z}_{1\\bullet}$ independent of $\\bar{Z}_{2\\bullet}$ ?\n",
    "    - Is $\\bar{Z}_{i\\bullet} - \\bar{Z}_{\\bullet \\bullet}$ independent of $\\bar{Z}_{i\\bullet}$ ?\n",
    "\n",
    "4. Consider the variance-covariance matrix \n",
    "$$\n",
    "\\bar{\\Sigma} = \\begin{bmatrix} 1 & .25 \\\\\n",
    ".25 & 1\n",
    "\\end{bmatrix}\n",
    "$$\n",
    "Using as many samples as you need from the standard normal distribution (e.g. ``numpy.random.randn``), generate $N = 1000$ independent samples from the bivaraite normal distribution $\\Ncal(0, \\bar{\\Sigma})$ (you'll get $N$ pairs). Illustrate these samples over a scatter plot. \n",
    "\n",
    "5. Consider the region in $\\reals^2$:\n",
    "$$\n",
    "A = \\{ (x,y)\\,: 0 \\leq x \\leq 1, 0 \\leq y \\leq 2x\\}\n",
    "$$\n",
    "For $(X_1, X_2) \\sim \\Ncal(0, \\bar{\\Sigma})$, estimate \n",
    "$$\n",
    "\\Pr\\left[ (X_1, X_2) \\in A \\right]\n",
    "$$\n",
    "in two ways: \n",
    "    1. By evaluating the integral over the Gaussian density function\n",
    "    2. By estimating the fraction of samples in 4 that falls in the region $A$\n"
   ]
  },
  {
   "cell_type": "markdown",
   "id": "fbd3e7de-92dd-462c-9ba2-3c6e1237b8f8",
   "metadata": {
    "jp-MarkdownHeadingCollapsed": true,
    "tags": []
   },
   "source": [
    "### **Answers**:"
   ]
  },
  {
   "cell_type": "markdown",
   "id": "e3dc0b9f-7495-4e76-ac77-2c2a21818a3d",
   "metadata": {
    "jp-MarkdownHeadingCollapsed": true,
    "tags": []
   },
   "source": [
    "#### 1.\n",
    "$Z = (Z_1,\\ldots,Z_9)^\\top \\sim \\Ncal(\\mu, I_9)$\n",
    "\n",
    "Let's write it in matrix form:\n",
    "$$\n",
    "Z =\n",
    "\\begin{bmatrix}\n",
    "Z_1 \\\\\n",
    "Z_2 \\\\\n",
    "Z_3 \\\\\n",
    "Z_4 \\\\\n",
    "Z_5 \\\\\n",
    "Z_6 \\\\\n",
    "Z_7 \\\\\n",
    "Z_8 \\\\\n",
    "Z_9\n",
    "\\end{bmatrix} \\sim \\Ncal\\left( \\begin{bmatrix} \n",
    "\\mu_1 \\\\\n",
    "\\mu_2\\\\\n",
    "\\mu_3\\\\\n",
    "\\mu_4\\\\\n",
    "\\mu_5\\\\\n",
    "\\mu_6\\\\\n",
    "\\mu_7\\\\\n",
    "\\mu_8\\\\\n",
    "\\mu_9\n",
    "\\end{bmatrix}, \\begin{bmatrix}\n",
    " 1 & 0 & 0 & 0 & 0 & 0 & 0 & 0 & 0 \\\\\n",
    " 0 & 1 & 0 & 0 & 0 & 0 & 0 & 0 & 0 \\\\\n",
    " 0 & 0 & 1 & 0 & 0 & 0 & 0 & 0 & 0 \\\\\n",
    " 0 & 0 & 0 & 1 & 0 & 0 & 0 & 0 & 0 \\\\\n",
    " 0 & 0 & 0 & 0 & 1 & 0 & 0 & 0 & 0 \\\\\n",
    " 0 & 0 & 0 & 0 & 0 & 1 & 0 & 0 & 0 \\\\\n",
    " 0 & 0 & 0 & 0 & 0 & 0 & 1 & 0 & 0 \\\\\n",
    " 0 & 0 & 0 & 0 & 0 & 0 & 0 & 1 & 0 \\\\\n",
    " 0 & 0 & 0 & 0 & 0 & 0 & 0 & 0 & 1\n",
    "\\end{bmatrix}\n",
    "\\right)\n",
    "$$\n",
    "\n",
    "And as seen in class, $Z_1$ and $Z_2$ are independent if Cov($Z_1$, $Z_2$) = Σ12 = 0<br>\n",
    "Therefore, each pair of $Z_i$ is independent from $Z_j$  (i != j)\n",
    "\n",
    "\n",
    "Each sum $Z_1+Z_2+Z_3+Z_4$ and $Z_1 + Z_2 - Z_3 - Z_4 - Z_5$ is Normal (see [here](https://en.wikipedia.org/wiki/Sum_of_normally_distributed_random_variables#:~:text=the%20sum%20of%20two%20independent%20normally%20distributed%20random%20variables%20is%20normal))\n",
    "\n",
    "And finally, Cov($Z_1+Z_2+Z_3+Z_4$, $Z_1 + Z_2 - Z_3 - Z_4 - Z_5$) == 0<br>\n",
    "And for normal RVs - uncorrelatedness implies independence.\n",
    "\n",
    "So the sums are independent."
   ]
  },
  {
   "cell_type": "markdown",
   "id": "9b82022d-cf79-41e1-8b10-7ce986abe471",
   "metadata": {
    "jp-MarkdownHeadingCollapsed": true,
    "tags": []
   },
   "source": [
    "#### 2.\n",
    "$Z \\sim \\Ncal(\\mu, I_n)$ and $X = AZ$ and $Y = BZ$<br>\n",
    "$X \\sim \\Ncal(A\\mu, A I_n A^T)$ and $Y \\sim \\Ncal(B\\mu, B I_n B^T)$\n",
    "\n",
    "<!-- In order for X to be independent of Y we want A to be a matrix of size $m_1$ X n and B to be a matrix of size $m_2$ X n such that we get: -->\n",
    "\n",
    "$\n",
    "X \\sim \\Ncal(A\\mu, A I_n A^T) ==> X \\sim \\Ncal(A\\mu, A A^T)\n",
    "$\n",
    "and similarly $Y \\sim \\Ncal(B\\mu, B B^T)$\n",
    "\n",
    "($A_{m_1 X n}$ and $B_{m_2 X n}$)\n",
    "\n",
    "We want X and Y to be independent, and (as stated in section 1 and in class) for normal RVs - **uncorrelatedness implies independence** so we want to show that COV(X,Y) == 0.<br>\n",
    "We also saw in class that for non-random matrices A & B, $\\operatorname{Cov}(A Z, B Z)=A \\operatorname{Cov}(Z, Z) B^{\\top} = A Var(Z) B^{\\top} = A I B^{\\top} = A B^{\\top}$\n",
    "\n",
    "So COV(X,Y) = 0 when $A B^{\\top} = 0$ and that will satisfy X and Y to be independent."
   ]
  },
  {
   "cell_type": "markdown",
   "id": "efc42ebb-ac54-4906-ab9c-9cf758ee8603",
   "metadata": {},
   "source": [
    "#### 3.\n",
    "##### a. Is $\\bar{Z}_{i\\bullet}$ independent of $\\bar{Z}_{\\bullet j}$?\n",
    "$\\bar{Z}_{i\\bullet} := \\frac{1}{J} \\sum_{j=1}^J Z_{ij}$<br>\n",
    "$\\sum_{j=1}^J Z_{ij} \\sim \\Ncal(J\\cdot\\mu, J) ==> \\Ncal(0, J)$\n",
    "\n",
    "Multiplied by 1/J we get $\\frac{1}{J} \\sum_{j=1}^J Z_{ij} \\sim \\Ncal(0, J/J) ==> \\Ncal(0, 1)$<br>\n",
    "Simialrly for $\\bar{Z}_{\\bullet j} \\sim \\Ncal(0, 1)$\n",
    "\n",
    "These two are Normal dist.s for which we (again) want to show COV == 0:\n",
    "\n",
    "$\\operatorname{Cov}(\\bar{Z}_{i \\bullet}, \\bar{Z}_{\\bullet j}) = \\mathrm{E}[\\bar{Z}_{i \\bullet} \\bar{Z}_{\\bullet j}] -\\mathrm{E}[\\bar{Z}_{i \\bullet}] \\mathrm{E}[\\bar{Z}_{\\bullet j}] = \\mathrm{E}[\\bar{Z}_{i \\bullet} \\bar{Z}_{\\bullet j}] - 0 \\cdot 0$\n",
    "\n",
    "Denote $Z = \\bar{Z}_{i \\bullet} \\bar{Z}_{\\bullet j} \\sim \\Ncal(\\mu=\\frac{\\sigma_{1}^{-2} \\mu_{1}+\\sigma_{2}^{-2} \\mu_{2}}{\\sigma_{1}^{-2}+\\sigma_{2}^{-2}}, \\sigma^{2}=\\frac{\\sigma_{1}^{2} \\sigma_{2}^{2}}{\\sigma_{1}^{2}+\\sigma_{2}^{2}})$\n",
    "(see [here](https://www.johndcook.com/blog/2012/10/29/product-of-normal-pdfs/))\n",
    "\n",
    "Then, $\\mathrm{E}[Z] = \\mathrm{E}[\\bar{Z}_{i \\bullet} \\bar{Z}_{\\bullet j}] = 0$ and therefore, $\\operatorname{Cov}(\\bar{Z}_{i \\bullet}, \\bar{Z}_{\\bullet j}) = 0$ so $\\bar{Z}_{i \\bullet}, \\bar{Z}_{\\bullet j}$ are independent.\n",
    "\n",
    "##### b. Is $\\bar{Z}_{1\\bullet}$ independent of $\\bar{Z}_{2\\bullet}$?\n",
    "Same as before, $\\bar{Z}_{1 \\bullet} \\sim \\Ncal(0, 1)$ and $\\bar{Z}_{2 \\bullet} \\sim \\Ncal(0, 1)$<br>\n",
    "The expectation of their product is 0 and therefore they are independent.\n",
    "\n",
    "##### c. Is $\\bar{Z}_{i\\bullet} - \\bar{Z}_{\\bullet \\bullet}$ independent of $\\bar{Z}_{i\\bullet}$?\n",
    "$\\bar{Z}_{i\\bullet} - \\bar{Z}_{\\bullet \\bullet} \\sim \\Ncal(0-0, 1+1)$\n",
    "\n",
    "And $\\operatorname{Cov}((\\bar{Z}_{i\\bullet} - \\bar{Z}_{\\bullet \\bullet}), \\bar{Z}_{i\\bullet}) = \\mathrm{E}[(\\bar{Z}_{i\\bullet} - \\bar{Z}_{\\bullet \\bullet}) \\cdot \\bar{Z}_{i\\bullet}] - \\mathrm{E}[\\bar{Z}_{i\\bullet} - \\bar{Z}_{\\bullet \\bullet}] \\mathrm{E}[\\bar{Z}_{i\\bullet}] = 0 - 0\\cdot 0 = 0$ so they are independent."
   ]
  },
  {
   "cell_type": "markdown",
   "id": "9435d017-f9bb-40ac-8fab-89fed4b06a33",
   "metadata": {},
   "source": [
    "#### 4."
   ]
  },
  {
   "cell_type": "code",
   "execution_count": 10,
   "id": "9694a170-488a-4d99-8d6c-b8096a89fa12",
   "metadata": {},
   "outputs": [],
   "source": [
    "import matplotlib.pyplot as plt\n",
    "import numpy as np\n",
    "import pandas as pd\n",
    "import statsmodels.api as sm\n",
    "\n",
    "from mpl_toolkits import mplot3d\n",
    "import numpy as np\n",
    "import matplotlib.pyplot as plt\n",
    "\n",
    "np.random.seed(2021)\n",
    "plt.rcParams[\"figure.figsize\"] = (7,7)\n",
    "plt.rcParams.update({'font.size': 18})\n",
    "%matplotlib inline"
   ]
  },
  {
   "cell_type": "code",
   "execution_count": 11,
   "id": "0606ed4c-7f12-45a7-9f02-9499e26f26e2",
   "metadata": {},
   "outputs": [],
   "source": [
    "mux = 0\n",
    "muy = 0\n",
    "rho = .25\n",
    "sigX = 1\n",
    "sigY = 1\n",
    "mu = np.array([[mux, muy]])\n",
    "Sig = np.array([[sigX ** 2, rho * sigX * sigY], #desired covariance matrix\n",
    "                [rho * sigX * sigY, sigY**2]])\n",
    "A = np.linalg.cholesky(Sig)  # \"matrix square root\" of Sig"
   ]
  },
  {
   "cell_type": "code",
   "execution_count": 27,
   "id": "b3afcb46-cc44-44ee-bed3-41e71abafd3c",
   "metadata": {},
   "outputs": [
    {
     "data": {
      "image/png": "[encoded data removed]",
      "text/plain": [
       "<Figure size 432x288 with 1 Axes>"
      ]
     },
     "metadata": {
      "needs_background": "light"
     },
     "output_type": "display_data"
    }
   ],
   "source": [
    "n = 1000\n",
    "z = np.random.randn(2, n)\n",
    "x, y = mu.T + np.dot(A, z)\n",
    "\n",
    "plt.scatter(x, y)\n",
    "plt.title(\"Samples from non-standard bivaraite normal distribution\")\n",
    "plt.xlabel('x')\n",
    "plt.ylabel('y')\n",
    "plt.xlim((-5,5))\n",
    "plt.ylim((-5,5))\n",
    "plt.show()"
   ]
  },
  {
   "cell_type": "markdown",
   "id": "82754ef9-3cfe-4143-8bfa-3c43ec301221",
   "metadata": {},
   "source": [
    "#### 5.\n",
    "\n",
    "I don't understand what should be done here, honestly.<br>\n",
    "Maybe I didn't understand the instructions or we didn't discuss it in class.\n",
    "\n",
    "I assume we need to solve something around this somehow:\n",
    "\n",
    "$\\Pr\\left[ (X_1, X_2) \\in A \\right] = \\int_{A} \\int f_{X_1 X_2}\\left(x_1, x_2\\right) d x_1 d x_2 = \\int_{-\\infty}^{x_1} \\int_{-\\infty}^{x_2} f_{X_{1} X_{2}}(x_1, x_2) d x_1 d x_2$\n",
    "\n",
    "Where $f_{X_{1} X_{2}}(x_1, x_2) = \\frac{1}{(2 \\pi)^{m / 2} \\sqrt{|\\Sigma|}} \\exp \\left(-\\frac{1}{2}(X-\\mu)^{T} \\Sigma^{-1}(X-\\mu)\\right) = $\n",
    "$\\frac{1}{(2 \\pi)^{m / 2} \\sqrt{|\\Sigma|}} \\exp \\left(-\\frac{1}{2}(X)^{T} \\Sigma^{-1}(X)\\right)$"
   ]
  },
  {
   "cell_type": "markdown",
   "id": "040ba69f-4449-4e73-ba60-aad8549425e9",
   "metadata": {},
   "source": [
    "<hr>"
   ]
  },
  {
   "cell_type": "markdown",
   "id": "0a990953",
   "metadata": {},
   "source": [
    "## Problem 2 (Conditional Distribution)\n",
    "$\\newcommand{\\ex}{\\mathbb E}$\n",
    "\n",
    "\n",
    "For\n",
    "$$\n",
    "\\begin{bmatrix}\n",
    "X \\\\\n",
    "Y \\\\\n",
    "Z \n",
    "\\end{bmatrix} \\sim \\Ncal\\left( \\begin{bmatrix} 1 \\\\\n",
    "2\\\\\n",
    "3\n",
    "\\end{bmatrix}, \\begin{bmatrix}\n",
    " 4 & 1 & 3 \\\\\n",
    " 1 & 2 & 3 \\\\\n",
    " 3 & 3 & 8\n",
    "\\end{bmatrix}\n",
    "\\right)\n",
    "$$\n",
    "find (numerically):\n",
    "1. The distribution of $X$ given that $Y = 1$.\n",
    "2. The joint distribution of $X$ and $Y$ given $Z = 1$.\n",
    "3. The distribution of $Y$ given that $Z = 2$ and $X = 3$.\n",
    "4. $Pr(Y \\in [-1,1] | Z=2, X=3)$"
   ]
  },
  {
   "cell_type": "markdown",
   "id": "8c973b80-4940-4beb-ad13-79603f235a92",
   "metadata": {
    "jp-MarkdownHeadingCollapsed": true,
    "tags": []
   },
   "source": [
    "### **Answers**:"
   ]
  },
  {
   "cell_type": "markdown",
   "id": "db6efc4e-045b-44f1-a7a7-697a9e9b41a7",
   "metadata": {},
   "source": [
    "#### 1."
   ]
  },
  {
   "cell_type": "code",
   "execution_count": null,
   "id": "140a4385-6825-419e-982a-3f932cabb625",
   "metadata": {},
   "outputs": [],
   "source": []
  },
  {
   "cell_type": "markdown",
   "id": "2b6aa97e-9e3d-428e-9459-74d67344588a",
   "metadata": {},
   "source": [
    "<hr>"
   ]
  },
  {
   "cell_type": "markdown",
   "id": "3f1d6ca8",
   "metadata": {},
   "source": [
    "## Problem 3 (Distributional Properties of Least Squares)\n",
    "Cosnider a least squares model with one predcitor $p=1$ without an intercept term, i.e. $y_i = \\beta x_i + \\epsilon_i$, $i=1,\\ldots,n$.\n",
    "1. Write the least squares solution $\\hat{\\beta} \\in \\mathbb R$ in terms of $x = (x_1,\\ldots,x_n)^\\top$ and $y = (y_1,\\ldots,y_n)^\\top$.\n",
    "2. With $\\hat{y}_i = \\hat{\\beta} x_i$ and $\\hat{\\epsilon}_i = y_i - \\hat{y}_i$, show that\n",
    " - $\\sum_{i=1}^n \\hat{y}_i \\hat{\\epsilon}_i = 0$\n",
    " - $\\|\\hat{\\epsilon}\\|^2 = \\|y\\|^2 -  \\|\\hat{y}\\|^2$\n",
    "3. Suppose that $\\epsilon_i \\sim N(0, 1)$. \n",
    " - What is the distribution of the random vector $[ \\hat{\\epsilon}~~ \\hat{y}]^\\top$?\n",
    " - What is the distribution of the random vector $[\\hat{y}~~ \\hat{\\beta}]^\\top$?\n",
    "4. Set $\\|\\epsilon\\|_{\\infty} := \\max_{i=1}^n |\\epsilon_i|$. What is $Pr( \\|\\hat{\\epsilon}\\|_{\\infty} > 2)$? is it larger or smaller than $Pr(\\|\\epsilon\\|_{\\infty}  > 2)$? (the point, we want to know if the predicted residuals tend to have less or more extreme values than the true ones)"
   ]
  },
  {
   "cell_type": "markdown",
   "id": "de4b554d-2567-4753-8f5b-9972b5ccd1c0",
   "metadata": {
    "jp-MarkdownHeadingCollapsed": true,
    "tags": []
   },
   "source": [
    "### **Answers**:"
   ]
  },
  {
   "cell_type": "markdown",
   "id": "f24f5bec-07ff-4f48-9a83-776bc3bb73df",
   "metadata": {},
   "source": [
    "#### 1."
   ]
  },
  {
   "cell_type": "markdown",
   "id": "e23aa1bf-4219-4cf2-a4e1-e3825d4a164f",
   "metadata": {},
   "source": [
    "<hr>"
   ]
  },
  {
   "cell_type": "markdown",
   "id": "e66c79f9",
   "metadata": {},
   "source": [
    "## Problem 4 (Model fitting and t-Test)\n",
    "Cosnider the house prices dataset from the EDA notebook, which you can obtain from kaggle via:"
   ]
  },
  {
   "cell_type": "code",
   "execution_count": null,
   "id": "e35018da",
   "metadata": {},
   "outputs": [],
   "source": [
    "!kaggle competitions download -c house-prices-advanced-regression-techniques\n",
    "!mkdir house-prices\n",
    "!unzip house-prices-advanced-regression-techniques.zip -d house-prices/"
   ]
  },
  {
   "cell_type": "markdown",
   "id": "171e9d76",
   "metadata": {},
   "source": [
    "Only consider houses of lot size smaller than $15,000$ square feet, e.g. by using"
   ]
  },
  {
   "cell_type": "code",
   "execution_count": 20,
   "id": "38a83608",
   "metadata": {},
   "outputs": [],
   "source": [
    "import pandas as pd\n",
    "data_raw = pd.read_csv(\"house-prices/train.csv\")\n",
    "data = data_raw[data_raw.LotArea < 15000]  # we focus on small lots"
   ]
  },
  {
   "cell_type": "markdown",
   "id": "bc3d9e14",
   "metadata": {},
   "source": [
    "Consider predicting ``SalePrice`` via a linear model with predictors:"
   ]
  },
  {
   "cell_type": "code",
   "execution_count": 21,
   "id": "aaea859b",
   "metadata": {},
   "outputs": [],
   "source": [
    "feat_set1 = ['LotArea',  'YearBuilt', 'YrSold', 'GarageCars',\n",
    "             'FullBath', 'TotalBsmtSF', 'GarageArea', 'OverallQual']"
   ]
  },
  {
   "cell_type": "markdown",
   "id": "e6a62625",
   "metadata": {},
   "source": [
    "plus a constant. "
   ]
  },
  {
   "cell_type": "markdown",
   "id": "b676571d",
   "metadata": {},
   "source": [
    "1. Find the least squares estimate $\\hat{\\beta}$ of this model.\n",
    "2. Find $R^2$ of this model.\n",
    "3. For each $\\beta_j$, $j=1,\\ldots,9$, evaluate the $t$ statistic corresponding to testing \n",
    "$$\n",
    "H_{0j}\\,:\\, \\beta_j=0\n",
    "$$\n",
    "and its P-values (identify first the number of degrees of freedom). \n",
    "4. Which of these statistics exceeds the $0.975$-th quantile of the corresponding $t$ distribution and below the $0.025$-th quantile? (values exceeding theses quantiles are strong evidence against $H_{0j}$)\n",
    "5. Consider a smaller model involving only ``LotArea``,  ``YearBuilt``, ``YrSold`` as predictors. Find the least squares estimate of this smaller model and its sum of sqaures. Is this model provides a valid representation of the data compared to the original larger one? Answer your question by evaluating the relevant $F$ statistic and report on the F-test's P-value. "
   ]
  },
  {
   "cell_type": "markdown",
   "id": "d5860ffa-0fc8-44e6-bc2a-a47fe29965a7",
   "metadata": {
    "jp-MarkdownHeadingCollapsed": true,
    "tags": []
   },
   "source": [
    "### **Answers**:"
   ]
  },
  {
   "cell_type": "markdown",
   "id": "29f5c793-f7b8-48b0-8518-ea3ae127effd",
   "metadata": {},
   "source": [
    "#### 1."
   ]
  }
 ],
 "metadata": {
  "kernelspec": {
   "display_name": "Python 3",
   "language": "python",
   "name": "python3"
  },
  "language_info": {
   "codemirror_mode": {
    "name": "ipython",
    "version": 3
   },
   "file_extension": ".py",
   "mimetype": "text/x-python",
   "name": "python",
   "nbconvert_exporter": "python",
   "pygments_lexer": "ipython3",
   "version": "3.8.8"
  }
 },
 "nbformat": 4,
 "nbformat_minor": 5
}
