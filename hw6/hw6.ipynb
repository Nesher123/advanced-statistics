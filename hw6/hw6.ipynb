{
 "cells": [
  {
   "cell_type": "markdown",
   "id": "82767c26",
   "metadata": {
    "pycharm": {
     "name": "#%% md\n"
    }
   },
   "source": [
    "#### Advanced Statistics for Data Science (Spring 2022)\n",
    "# Home Assignment 6\n",
    "#### Topics:\n",
    "- Multiple Regression\n",
    "- Model/Variable Selection\n",
    "\n",
    "#### Due: 07/06/2022 by 18:30\n",
    "\n",
    "#### Instructions:\n",
    "- Write your name, Student ID, and date in the cell below. \n",
    "- Submit a copy of this notebook with code filled in the relevant places as the solution of coding excercises.\n",
    "- For theoretic excercises, you can either write your solution in the notebook using $\\LaTeX$ or submit additional notes.\n",
    "\n",
    "<hr>\n",
    "<hr>"
   ]
  },
  {
   "cell_type": "markdown",
   "id": "04974439",
   "metadata": {
    "pycharm": {
     "name": "#%% md\n"
    }
   },
   "source": [
    "\n",
    "**Name**: Ofir Nesher\n",
    "\n",
    "**Student ID**: 204502926\n",
    "\n",
    "**Date**: 25/05/2022\n",
    "\n",
    "$\n",
    "\\newcommand{\\Id}{{\\mathbf{I}}}  \n",
    "\\newcommand{\\SSE}{\\mathsf{SSE}}\n",
    "\\newcommand{\\SSR}{\\mathsf{SSR}}\n",
    "\\newcommand{\\MSE}{\\mathsf{MSE}}\n",
    "\\newcommand{\\simiid}{\\overset{iid}{\\sim}}\n",
    "\\newcommand{\\ex}{\\mathbb E}\n",
    "\\newcommand{\\var}{\\mathrm{Var}}\n",
    "\\newcommand{\\Cov}[2]{{\\mathrm{Cov}  \\left(#1, #2 \\right)}}\n",
    "\\newcommand{\\one}[1]{\\mathbf 1 {\\left\\{#1\\right\\}}}\n",
    "\\newcommand{\\SE}[1]{\\mathrm{SE} \\left[#1\\right]}\n",
    "\\newcommand{\\reals}{\\mathbb R}\n",
    "\\newcommand{\\Ncal}{\\mathcal N}\n",
    "\\newcommand{\\abs}[1]{\\ensuremath{\\left\\vert#1\\right\\vert}}\n",
    "\\newcommand{\\rank}{\\operatorname{rank}}\n",
    "\\newcommand{\\tr}{\\operatorname{Tr}}\n",
    "\\newcommand{\\diag}{\\operatorname{diag}}\n",
    "\\newcommand{\\sign}{\\operatorname{sign}}\n",
    "$\n"
   ]
  },
  {
   "cell_type": "markdown",
   "id": "89a2daf2",
   "metadata": {
    "pycharm": {
     "name": "#%% md\n"
    }
   },
   "source": [
    "<hr>\n",
    "<hr>"
   ]
  },
  {
   "cell_type": "markdown",
   "id": "aba5c7f1",
   "metadata": {
    "pycharm": {
     "name": "#%% md\n"
    }
   },
   "source": [
    "## Problem 1 (Multiple Regression)\n",
    "\n",
    "Use the house prices dataset from class. Load it using the function ``load_house_prices_data``. We will use ``LogSalePrice`` as the target variable (note that this is a transformed version of the original sale price)\n",
    "\n",
    "1. Use all variables in the data returned by ``load_house_prices_data``. Find at least one pair of competing predictors.\n",
    "2. A construction company is trying to figure out how to design a new development for maximal profit. They propose that since ``SecondFlrSF`` (second floor square footage, proportional to second floor square meter) is correlated with ``SalePrice``, they should try and maximize second floor area in their designs. Does this conclusion make sense considering that ``SecondFlrSF`` is correlated with``TotRmsAbvGrd``? offer a procedure that checks the effect of ``SecondFlrSF`` on ``SalePrice`` and gives more information to make such decision."
   ]
  },
  {
   "cell_type": "code",
   "execution_count": 2,
   "outputs": [],
   "source": [
    "import pandas as pd\n",
    "import numpy as np\n",
    "import matplotlib.pyplot as plt"
   ],
   "metadata": {
    "collapsed": false,
    "pycharm": {
     "name": "#%%\n"
    }
   }
  },
  {
   "cell_type": "code",
   "execution_count": 3,
   "id": "918a7a92",
   "metadata": {
    "pycharm": {
     "name": "#%%\n"
    }
   },
   "outputs": [],
   "source": [
    "def load_house_prices_data(path=\"housing_prices.csv\"):\n",
    "    \"\"\"\n",
    "    Args:\n",
    "    -----\n",
    "    path:  path to csv file\n",
    "    \n",
    "    Load and clean house prices data:\n",
    "        filters for numeric predictors only\n",
    "        filters for small lots only\n",
    "        renames varaibles so that all variable names begins with [a-z]\n",
    "        applies a variance stabilizing transformation to SalePrice\n",
    "        removes outliers\n",
    "    \"\"\"\n",
    "\n",
    "    def detect_outliers(df, q=0.01):\n",
    "        lower_outliers = df < df.quantile(q)\n",
    "        upper_outliers = df > df.quantile(1 - q)\n",
    "        return lower_outliers | upper_outliers\n",
    "\n",
    "    data_raw = pd.read_csv(path)\n",
    "    data1 = data_raw[data_raw.LotArea < 15000]  # focus on small lots\n",
    "    data1 = data1.select_dtypes('number').dropna()\n",
    "    data1 = data1.rename(  # stats model formula cannot have\n",
    "        # covaraite names starting with non letter\n",
    "        columns={'1stFlrSF': 'FirstFlrSF',\n",
    "                 '2ndFlrSF': 'SecondFlrSF'})\n",
    "\n",
    "    variables = [\n",
    "        'SalePrice',\n",
    "        'LotArea',\n",
    "        'YearBuilt',\n",
    "        'YrSold', 'MoSold',\n",
    "        'Fireplaces',\n",
    "        'GarageCars', 'ScreenPorch',\n",
    "        'HalfBath', 'FullBath',\n",
    "        'GrLivArea',\n",
    "        'BedroomAbvGr',\n",
    "        'FirstFlrSF',\n",
    "        'SecondFlrSF',\n",
    "        'TotRmsAbvGrd',\n",
    "        'LowQualFinSF', 'TotalBsmtSF',\n",
    "        'LotFrontage', 'WoodDeckSF',\n",
    "        'OverallQual',\n",
    "        'OverallCond'\n",
    "    ]\n",
    "\n",
    "    data1 = data1.filter(variables).dropna()\n",
    "    data1['LogSalePrice'] = np.log(1 + data1['SalePrice'])\n",
    "    data1 = data1.drop('SalePrice', axis=1)\n",
    "\n",
    "    mask = detect_outliers(data1, .01).any(1)\n",
    "    print(f\"Masked a fraction of {mask.mean()} of the data due to outliers\")\n",
    "    return data1[~mask]"
   ]
  },
  {
   "cell_type": "code",
   "execution_count": 4,
   "outputs": [
    {
     "name": "stdout",
     "output_type": "stream",
     "text": [
      "Masked a fraction of 0.14971209213051823 of the data due to outliers\n"
     ]
    },
    {
     "data": {
      "text/plain": "   LotArea  YearBuilt  YrSold  MoSold  Fireplaces  GarageCars  ScreenPorch  \\\n0     8450       2003    2008       2           0           2            0   \n1     9600       1976    2007       5           1           2            0   \n2    11250       2001    2008       9           1           2            0   \n3     9550       1915    2006       2           1           3            0   \n4    14260       2000    2008      12           1           3            0   \n\n   HalfBath  FullBath  GrLivArea  ...  FirstFlrSF  SecondFlrSF  TotRmsAbvGrd  \\\n0         1         2       1710  ...         856          854             8   \n1         0         2       1262  ...        1262            0             6   \n2         1         2       1786  ...         920          866             6   \n3         0         1       1717  ...         961          756             7   \n4         1         2       2198  ...        1145         1053             9   \n\n   LowQualFinSF  TotalBsmtSF  LotFrontage  WoodDeckSF  OverallQual  \\\n0             0          856         65.0           0            7   \n1             0         1262         80.0         298            6   \n2             0          920         68.0           0            7   \n3             0          756         60.0           0            7   \n4             0         1145         84.0         192            8   \n\n   OverallCond  LogSalePrice  \n0            5     12.247699  \n1            8     12.109016  \n2            5     12.317171  \n3            5     11.849405  \n4            5     12.429220  \n\n[5 rows x 21 columns]",
      "text/html": "<div>\n<style scoped>\n    .dataframe tbody tr th:only-of-type {\n        vertical-align: middle;\n    }\n\n    .dataframe tbody tr th {\n        vertical-align: top;\n    }\n\n    .dataframe thead th {\n        text-align: right;\n    }\n</style>\n<table border=\"1\" class=\"dataframe\">\n  <thead>\n    <tr style=\"text-align: right;\">\n      <th></th>\n      <th>LotArea</th>\n      <th>YearBuilt</th>\n      <th>YrSold</th>\n      <th>MoSold</th>\n      <th>Fireplaces</th>\n      <th>GarageCars</th>\n      <th>ScreenPorch</th>\n      <th>HalfBath</th>\n      <th>FullBath</th>\n      <th>GrLivArea</th>\n      <th>...</th>\n      <th>FirstFlrSF</th>\n      <th>SecondFlrSF</th>\n      <th>TotRmsAbvGrd</th>\n      <th>LowQualFinSF</th>\n      <th>TotalBsmtSF</th>\n      <th>LotFrontage</th>\n      <th>WoodDeckSF</th>\n      <th>OverallQual</th>\n      <th>OverallCond</th>\n      <th>LogSalePrice</th>\n    </tr>\n  </thead>\n  <tbody>\n    <tr>\n      <th>0</th>\n      <td>8450</td>\n      <td>2003</td>\n      <td>2008</td>\n      <td>2</td>\n      <td>0</td>\n      <td>2</td>\n      <td>0</td>\n      <td>1</td>\n      <td>2</td>\n      <td>1710</td>\n      <td>...</td>\n      <td>856</td>\n      <td>854</td>\n      <td>8</td>\n      <td>0</td>\n      <td>856</td>\n      <td>65.0</td>\n      <td>0</td>\n      <td>7</td>\n      <td>5</td>\n      <td>12.247699</td>\n    </tr>\n    <tr>\n      <th>1</th>\n      <td>9600</td>\n      <td>1976</td>\n      <td>2007</td>\n      <td>5</td>\n      <td>1</td>\n      <td>2</td>\n      <td>0</td>\n      <td>0</td>\n      <td>2</td>\n      <td>1262</td>\n      <td>...</td>\n      <td>1262</td>\n      <td>0</td>\n      <td>6</td>\n      <td>0</td>\n      <td>1262</td>\n      <td>80.0</td>\n      <td>298</td>\n      <td>6</td>\n      <td>8</td>\n      <td>12.109016</td>\n    </tr>\n    <tr>\n      <th>2</th>\n      <td>11250</td>\n      <td>2001</td>\n      <td>2008</td>\n      <td>9</td>\n      <td>1</td>\n      <td>2</td>\n      <td>0</td>\n      <td>1</td>\n      <td>2</td>\n      <td>1786</td>\n      <td>...</td>\n      <td>920</td>\n      <td>866</td>\n      <td>6</td>\n      <td>0</td>\n      <td>920</td>\n      <td>68.0</td>\n      <td>0</td>\n      <td>7</td>\n      <td>5</td>\n      <td>12.317171</td>\n    </tr>\n    <tr>\n      <th>3</th>\n      <td>9550</td>\n      <td>1915</td>\n      <td>2006</td>\n      <td>2</td>\n      <td>1</td>\n      <td>3</td>\n      <td>0</td>\n      <td>0</td>\n      <td>1</td>\n      <td>1717</td>\n      <td>...</td>\n      <td>961</td>\n      <td>756</td>\n      <td>7</td>\n      <td>0</td>\n      <td>756</td>\n      <td>60.0</td>\n      <td>0</td>\n      <td>7</td>\n      <td>5</td>\n      <td>11.849405</td>\n    </tr>\n    <tr>\n      <th>4</th>\n      <td>14260</td>\n      <td>2000</td>\n      <td>2008</td>\n      <td>12</td>\n      <td>1</td>\n      <td>3</td>\n      <td>0</td>\n      <td>1</td>\n      <td>2</td>\n      <td>2198</td>\n      <td>...</td>\n      <td>1145</td>\n      <td>1053</td>\n      <td>9</td>\n      <td>0</td>\n      <td>1145</td>\n      <td>84.0</td>\n      <td>192</td>\n      <td>8</td>\n      <td>5</td>\n      <td>12.429220</td>\n    </tr>\n  </tbody>\n</table>\n<p>5 rows × 21 columns</p>\n</div>"
     },
     "execution_count": 4,
     "metadata": {},
     "output_type": "execute_result"
    }
   ],
   "source": [
    "data = load_house_prices_data()\n",
    "data.head()"
   ],
   "metadata": {
    "collapsed": false,
    "pycharm": {
     "name": "#%%\n"
    }
   }
  },
  {
   "cell_type": "code",
   "execution_count": 8,
   "outputs": [
    {
     "data": {
      "text/plain": "               LotArea  YearBuilt    YrSold    MoSold  Fireplaces  GarageCars  \\\nLotArea       1.000000   0.090393 -0.031381  0.031132    0.227209    0.240321   \nYearBuilt     0.090393   1.000000  0.021733  0.028505    0.114062    0.587519   \nYrSold       -0.031381   0.021733  1.000000 -0.157243   -0.030237   -0.041381   \nMoSold        0.031132   0.028505 -0.157243  1.000000    0.056809    0.082095   \nFireplaces    0.227209   0.114062 -0.030237  0.056809    1.000000    0.222265   \nGarageCars    0.240321   0.587519 -0.041381  0.082095    0.222265    1.000000   \nScreenPorch   0.065470  -0.067284  0.035544 -0.029429    0.140024   -0.007460   \nHalfBath      0.069411   0.213962 -0.002167 -0.018937    0.167719    0.163308   \nFullBath      0.096400   0.594095  0.013284  0.086807    0.227471    0.543130   \nGrLivArea     0.327647   0.294528 -0.024518  0.106836    0.446801    0.480209   \nBedroomAbvGr  0.305477  -0.051421 -0.008982  0.018904    0.114056    0.080607   \nFirstFlrSF    0.342480   0.340449 -0.008110  0.062458    0.325798    0.429470   \nSecondFlrSF   0.050232   0.016873 -0.016845  0.055672    0.180768    0.129593   \nTotRmsAbvGrd  0.351833   0.156066 -0.052060  0.049638    0.331482    0.370608   \nLowQualFinSF -0.126916   0.061923 -0.077227 -0.014338   -0.053318    0.016144   \nTotalBsmtSF   0.262895   0.449177  0.001961  0.047506    0.258285    0.432215   \nLotFrontage   0.719806   0.115866 -0.008179  0.073365    0.187161    0.270508   \nWoodDeckSF    0.152168   0.243981  0.036433  0.081131    0.159201    0.184149   \nOverallQual   0.166403   0.636197 -0.001552  0.107993    0.380178    0.573772   \nOverallCond  -0.055529  -0.453766 -0.003149 -0.024367   -0.072207   -0.316951   \nLogSalePrice  0.355051   0.677513 -0.013812  0.110740    0.424475    0.647935   \n\n              ScreenPorch  HalfBath  FullBath  GrLivArea  ...  FirstFlrSF  \\\nLotArea          0.065470  0.069411  0.096400   0.327647  ...    0.342480   \nYearBuilt       -0.067284  0.213962  0.594095   0.294528  ...    0.340449   \nYrSold           0.035544 -0.002167  0.013284  -0.024518  ...   -0.008110   \nMoSold          -0.029429 -0.018937  0.086807   0.106836  ...    0.062458   \nFireplaces       0.140024  0.167719  0.227471   0.446801  ...    0.325798   \nGarageCars      -0.007460  0.163308  0.543130   0.480209  ...    0.429470   \nScreenPorch      1.000000  0.029367 -0.033443   0.067728  ...    0.082138   \nHalfBath         0.029367  1.000000  0.117993   0.438772  ...   -0.293852   \nFullBath        -0.033443  0.117993  1.000000   0.610555  ...    0.341531   \nGrLivArea        0.067728  0.438772  0.610555   1.000000  ...    0.393322   \nBedroomAbvGr     0.029946  0.263741  0.213590   0.490089  ...    0.025409   \nFirstFlrSF       0.082138 -0.293852  0.341531   0.393322  ...    1.000000   \nSecondFlrSF      0.001124  0.669987  0.329032   0.673915  ...   -0.414113   \nTotRmsAbvGrd     0.031682  0.338726  0.474251   0.795648  ...    0.272977   \nLowQualFinSF    -0.015144  0.078671  0.049221  -0.035945  ...   -0.111757   \nTotalBsmtSF      0.062171 -0.175986  0.315989   0.313491  ...    0.788399   \nLotFrontage      0.035526  0.018690  0.101816   0.283401  ...    0.340632   \nWoodDeckSF      -0.086232  0.064616  0.212468   0.208902  ...    0.207506   \nOverallQual      0.024508  0.220941  0.589743   0.578776  ...    0.435640   \nOverallCond      0.073189 -0.084609 -0.337131  -0.206741  ...   -0.204236   \nLogSalePrice     0.070674  0.277943  0.612454   0.693484  ...    0.556976   \n\n              SecondFlrSF  TotRmsAbvGrd  LowQualFinSF  TotalBsmtSF  \\\nLotArea          0.050232      0.351833     -0.126916     0.262895   \nYearBuilt        0.016873      0.156066      0.061923     0.449177   \nYrSold          -0.016845     -0.052060     -0.077227     0.001961   \nMoSold           0.055672      0.049638     -0.014338     0.047506   \nFireplaces       0.180768      0.331482     -0.053318     0.258285   \nGarageCars       0.129593      0.370608      0.016144     0.432215   \nScreenPorch      0.001124      0.031682     -0.015144     0.062171   \nHalfBath         0.669987      0.338726      0.078671    -0.175986   \nFullBath         0.329032      0.474251      0.049221     0.315989   \nGrLivArea        0.673915      0.795648     -0.035945     0.313491   \nBedroomAbvGr     0.465621      0.627838     -0.073519    -0.016668   \nFirstFlrSF      -0.414113      0.272977     -0.111757     0.788399   \nSecondFlrSF      1.000000      0.569272      0.042683    -0.323335   \nTotRmsAbvGrd     0.569272      1.000000     -0.106125     0.167507   \nLowQualFinSF     0.042683     -0.106125      1.000000    -0.069950   \nTotalBsmtSF     -0.323335      0.167507     -0.069950     1.000000   \nLotFrontage      0.007942      0.293680     -0.129354     0.283349   \nWoodDeckSF       0.040355      0.130185     -0.046066     0.227641   \nOverallQual      0.221923      0.388608      0.041058     0.529818   \nOverallCond     -0.039919     -0.142189     -0.033496    -0.214007   \nLogSalePrice     0.238552      0.479571     -0.020259     0.625824   \n\n              LotFrontage  WoodDeckSF  OverallQual  OverallCond  LogSalePrice  \nLotArea          0.719806    0.152168     0.166403    -0.055529      0.355051  \nYearBuilt        0.115866    0.243981     0.636197    -0.453766      0.677513  \nYrSold          -0.008179    0.036433    -0.001552    -0.003149     -0.013812  \nMoSold           0.073365    0.081131     0.107993    -0.024367      0.110740  \nFireplaces       0.187161    0.159201     0.380178    -0.072207      0.424475  \nGarageCars       0.270508    0.184149     0.573772    -0.316951      0.647935  \nScreenPorch      0.035526   -0.086232     0.024508     0.073189      0.070674  \nHalfBath         0.018690    0.064616     0.220941    -0.084609      0.277943  \nFullBath         0.101816    0.212468     0.589743    -0.337131      0.612454  \nGrLivArea        0.283401    0.208902     0.578776    -0.206741      0.693484  \nBedroomAbvGr     0.309476    0.058174     0.052870    -0.012368      0.144469  \nFirstFlrSF       0.340632    0.207506     0.435640    -0.204236      0.556976  \nSecondFlrSF      0.007942    0.040355     0.221923    -0.039919      0.238552  \nTotRmsAbvGrd     0.293680    0.130185     0.388608    -0.142189      0.479571  \nLowQualFinSF    -0.129354   -0.046066     0.041058    -0.033496     -0.020259  \nTotalBsmtSF      0.283349    0.227641     0.529818    -0.214007      0.625824  \nLotFrontage      1.000000    0.111562     0.154070    -0.023020      0.334781  \nWoodDeckSF       0.111562    1.000000     0.225280    -0.034627      0.320783  \nOverallQual      0.154070    0.225280     1.000000    -0.258167      0.817895  \nOverallCond     -0.023020   -0.034627    -0.258167     1.000000     -0.187221  \nLogSalePrice     0.334781    0.320783     0.817895    -0.187221      1.000000  \n\n[21 rows x 21 columns]",
      "text/html": "<div>\n<style scoped>\n    .dataframe tbody tr th:only-of-type {\n        vertical-align: middle;\n    }\n\n    .dataframe tbody tr th {\n        vertical-align: top;\n    }\n\n    .dataframe thead th {\n        text-align: right;\n    }\n</style>\n<table border=\"1\" class=\"dataframe\">\n  <thead>\n    <tr style=\"text-align: right;\">\n      <th></th>\n      <th>LotArea</th>\n      <th>YearBuilt</th>\n      <th>YrSold</th>\n      <th>MoSold</th>\n      <th>Fireplaces</th>\n      <th>GarageCars</th>\n      <th>ScreenPorch</th>\n      <th>HalfBath</th>\n      <th>FullBath</th>\n      <th>GrLivArea</th>\n      <th>...</th>\n      <th>FirstFlrSF</th>\n      <th>SecondFlrSF</th>\n      <th>TotRmsAbvGrd</th>\n      <th>LowQualFinSF</th>\n      <th>TotalBsmtSF</th>\n      <th>LotFrontage</th>\n      <th>WoodDeckSF</th>\n      <th>OverallQual</th>\n      <th>OverallCond</th>\n      <th>LogSalePrice</th>\n    </tr>\n  </thead>\n  <tbody>\n    <tr>\n      <th>LotArea</th>\n      <td>1.000000</td>\n      <td>0.090393</td>\n      <td>-0.031381</td>\n      <td>0.031132</td>\n      <td>0.227209</td>\n      <td>0.240321</td>\n      <td>0.065470</td>\n      <td>0.069411</td>\n      <td>0.096400</td>\n      <td>0.327647</td>\n      <td>...</td>\n      <td>0.342480</td>\n      <td>0.050232</td>\n      <td>0.351833</td>\n      <td>-0.126916</td>\n      <td>0.262895</td>\n      <td>0.719806</td>\n      <td>0.152168</td>\n      <td>0.166403</td>\n      <td>-0.055529</td>\n      <td>0.355051</td>\n    </tr>\n    <tr>\n      <th>YearBuilt</th>\n      <td>0.090393</td>\n      <td>1.000000</td>\n      <td>0.021733</td>\n      <td>0.028505</td>\n      <td>0.114062</td>\n      <td>0.587519</td>\n      <td>-0.067284</td>\n      <td>0.213962</td>\n      <td>0.594095</td>\n      <td>0.294528</td>\n      <td>...</td>\n      <td>0.340449</td>\n      <td>0.016873</td>\n      <td>0.156066</td>\n      <td>0.061923</td>\n      <td>0.449177</td>\n      <td>0.115866</td>\n      <td>0.243981</td>\n      <td>0.636197</td>\n      <td>-0.453766</td>\n      <td>0.677513</td>\n    </tr>\n    <tr>\n      <th>YrSold</th>\n      <td>-0.031381</td>\n      <td>0.021733</td>\n      <td>1.000000</td>\n      <td>-0.157243</td>\n      <td>-0.030237</td>\n      <td>-0.041381</td>\n      <td>0.035544</td>\n      <td>-0.002167</td>\n      <td>0.013284</td>\n      <td>-0.024518</td>\n      <td>...</td>\n      <td>-0.008110</td>\n      <td>-0.016845</td>\n      <td>-0.052060</td>\n      <td>-0.077227</td>\n      <td>0.001961</td>\n      <td>-0.008179</td>\n      <td>0.036433</td>\n      <td>-0.001552</td>\n      <td>-0.003149</td>\n      <td>-0.013812</td>\n    </tr>\n    <tr>\n      <th>MoSold</th>\n      <td>0.031132</td>\n      <td>0.028505</td>\n      <td>-0.157243</td>\n      <td>1.000000</td>\n      <td>0.056809</td>\n      <td>0.082095</td>\n      <td>-0.029429</td>\n      <td>-0.018937</td>\n      <td>0.086807</td>\n      <td>0.106836</td>\n      <td>...</td>\n      <td>0.062458</td>\n      <td>0.055672</td>\n      <td>0.049638</td>\n      <td>-0.014338</td>\n      <td>0.047506</td>\n      <td>0.073365</td>\n      <td>0.081131</td>\n      <td>0.107993</td>\n      <td>-0.024367</td>\n      <td>0.110740</td>\n    </tr>\n    <tr>\n      <th>Fireplaces</th>\n      <td>0.227209</td>\n      <td>0.114062</td>\n      <td>-0.030237</td>\n      <td>0.056809</td>\n      <td>1.000000</td>\n      <td>0.222265</td>\n      <td>0.140024</td>\n      <td>0.167719</td>\n      <td>0.227471</td>\n      <td>0.446801</td>\n      <td>...</td>\n      <td>0.325798</td>\n      <td>0.180768</td>\n      <td>0.331482</td>\n      <td>-0.053318</td>\n      <td>0.258285</td>\n      <td>0.187161</td>\n      <td>0.159201</td>\n      <td>0.380178</td>\n      <td>-0.072207</td>\n      <td>0.424475</td>\n    </tr>\n    <tr>\n      <th>GarageCars</th>\n      <td>0.240321</td>\n      <td>0.587519</td>\n      <td>-0.041381</td>\n      <td>0.082095</td>\n      <td>0.222265</td>\n      <td>1.000000</td>\n      <td>-0.007460</td>\n      <td>0.163308</td>\n      <td>0.543130</td>\n      <td>0.480209</td>\n      <td>...</td>\n      <td>0.429470</td>\n      <td>0.129593</td>\n      <td>0.370608</td>\n      <td>0.016144</td>\n      <td>0.432215</td>\n      <td>0.270508</td>\n      <td>0.184149</td>\n      <td>0.573772</td>\n      <td>-0.316951</td>\n      <td>0.647935</td>\n    </tr>\n    <tr>\n      <th>ScreenPorch</th>\n      <td>0.065470</td>\n      <td>-0.067284</td>\n      <td>0.035544</td>\n      <td>-0.029429</td>\n      <td>0.140024</td>\n      <td>-0.007460</td>\n      <td>1.000000</td>\n      <td>0.029367</td>\n      <td>-0.033443</td>\n      <td>0.067728</td>\n      <td>...</td>\n      <td>0.082138</td>\n      <td>0.001124</td>\n      <td>0.031682</td>\n      <td>-0.015144</td>\n      <td>0.062171</td>\n      <td>0.035526</td>\n      <td>-0.086232</td>\n      <td>0.024508</td>\n      <td>0.073189</td>\n      <td>0.070674</td>\n    </tr>\n    <tr>\n      <th>HalfBath</th>\n      <td>0.069411</td>\n      <td>0.213962</td>\n      <td>-0.002167</td>\n      <td>-0.018937</td>\n      <td>0.167719</td>\n      <td>0.163308</td>\n      <td>0.029367</td>\n      <td>1.000000</td>\n      <td>0.117993</td>\n      <td>0.438772</td>\n      <td>...</td>\n      <td>-0.293852</td>\n      <td>0.669987</td>\n      <td>0.338726</td>\n      <td>0.078671</td>\n      <td>-0.175986</td>\n      <td>0.018690</td>\n      <td>0.064616</td>\n      <td>0.220941</td>\n      <td>-0.084609</td>\n      <td>0.277943</td>\n    </tr>\n    <tr>\n      <th>FullBath</th>\n      <td>0.096400</td>\n      <td>0.594095</td>\n      <td>0.013284</td>\n      <td>0.086807</td>\n      <td>0.227471</td>\n      <td>0.543130</td>\n      <td>-0.033443</td>\n      <td>0.117993</td>\n      <td>1.000000</td>\n      <td>0.610555</td>\n      <td>...</td>\n      <td>0.341531</td>\n      <td>0.329032</td>\n      <td>0.474251</td>\n      <td>0.049221</td>\n      <td>0.315989</td>\n      <td>0.101816</td>\n      <td>0.212468</td>\n      <td>0.589743</td>\n      <td>-0.337131</td>\n      <td>0.612454</td>\n    </tr>\n    <tr>\n      <th>GrLivArea</th>\n      <td>0.327647</td>\n      <td>0.294528</td>\n      <td>-0.024518</td>\n      <td>0.106836</td>\n      <td>0.446801</td>\n      <td>0.480209</td>\n      <td>0.067728</td>\n      <td>0.438772</td>\n      <td>0.610555</td>\n      <td>1.000000</td>\n      <td>...</td>\n      <td>0.393322</td>\n      <td>0.673915</td>\n      <td>0.795648</td>\n      <td>-0.035945</td>\n      <td>0.313491</td>\n      <td>0.283401</td>\n      <td>0.208902</td>\n      <td>0.578776</td>\n      <td>-0.206741</td>\n      <td>0.693484</td>\n    </tr>\n    <tr>\n      <th>BedroomAbvGr</th>\n      <td>0.305477</td>\n      <td>-0.051421</td>\n      <td>-0.008982</td>\n      <td>0.018904</td>\n      <td>0.114056</td>\n      <td>0.080607</td>\n      <td>0.029946</td>\n      <td>0.263741</td>\n      <td>0.213590</td>\n      <td>0.490089</td>\n      <td>...</td>\n      <td>0.025409</td>\n      <td>0.465621</td>\n      <td>0.627838</td>\n      <td>-0.073519</td>\n      <td>-0.016668</td>\n      <td>0.309476</td>\n      <td>0.058174</td>\n      <td>0.052870</td>\n      <td>-0.012368</td>\n      <td>0.144469</td>\n    </tr>\n    <tr>\n      <th>FirstFlrSF</th>\n      <td>0.342480</td>\n      <td>0.340449</td>\n      <td>-0.008110</td>\n      <td>0.062458</td>\n      <td>0.325798</td>\n      <td>0.429470</td>\n      <td>0.082138</td>\n      <td>-0.293852</td>\n      <td>0.341531</td>\n      <td>0.393322</td>\n      <td>...</td>\n      <td>1.000000</td>\n      <td>-0.414113</td>\n      <td>0.272977</td>\n      <td>-0.111757</td>\n      <td>0.788399</td>\n      <td>0.340632</td>\n      <td>0.207506</td>\n      <td>0.435640</td>\n      <td>-0.204236</td>\n      <td>0.556976</td>\n    </tr>\n    <tr>\n      <th>SecondFlrSF</th>\n      <td>0.050232</td>\n      <td>0.016873</td>\n      <td>-0.016845</td>\n      <td>0.055672</td>\n      <td>0.180768</td>\n      <td>0.129593</td>\n      <td>0.001124</td>\n      <td>0.669987</td>\n      <td>0.329032</td>\n      <td>0.673915</td>\n      <td>...</td>\n      <td>-0.414113</td>\n      <td>1.000000</td>\n      <td>0.569272</td>\n      <td>0.042683</td>\n      <td>-0.323335</td>\n      <td>0.007942</td>\n      <td>0.040355</td>\n      <td>0.221923</td>\n      <td>-0.039919</td>\n      <td>0.238552</td>\n    </tr>\n    <tr>\n      <th>TotRmsAbvGrd</th>\n      <td>0.351833</td>\n      <td>0.156066</td>\n      <td>-0.052060</td>\n      <td>0.049638</td>\n      <td>0.331482</td>\n      <td>0.370608</td>\n      <td>0.031682</td>\n      <td>0.338726</td>\n      <td>0.474251</td>\n      <td>0.795648</td>\n      <td>...</td>\n      <td>0.272977</td>\n      <td>0.569272</td>\n      <td>1.000000</td>\n      <td>-0.106125</td>\n      <td>0.167507</td>\n      <td>0.293680</td>\n      <td>0.130185</td>\n      <td>0.388608</td>\n      <td>-0.142189</td>\n      <td>0.479571</td>\n    </tr>\n    <tr>\n      <th>LowQualFinSF</th>\n      <td>-0.126916</td>\n      <td>0.061923</td>\n      <td>-0.077227</td>\n      <td>-0.014338</td>\n      <td>-0.053318</td>\n      <td>0.016144</td>\n      <td>-0.015144</td>\n      <td>0.078671</td>\n      <td>0.049221</td>\n      <td>-0.035945</td>\n      <td>...</td>\n      <td>-0.111757</td>\n      <td>0.042683</td>\n      <td>-0.106125</td>\n      <td>1.000000</td>\n      <td>-0.069950</td>\n      <td>-0.129354</td>\n      <td>-0.046066</td>\n      <td>0.041058</td>\n      <td>-0.033496</td>\n      <td>-0.020259</td>\n    </tr>\n    <tr>\n      <th>TotalBsmtSF</th>\n      <td>0.262895</td>\n      <td>0.449177</td>\n      <td>0.001961</td>\n      <td>0.047506</td>\n      <td>0.258285</td>\n      <td>0.432215</td>\n      <td>0.062171</td>\n      <td>-0.175986</td>\n      <td>0.315989</td>\n      <td>0.313491</td>\n      <td>...</td>\n      <td>0.788399</td>\n      <td>-0.323335</td>\n      <td>0.167507</td>\n      <td>-0.069950</td>\n      <td>1.000000</td>\n      <td>0.283349</td>\n      <td>0.227641</td>\n      <td>0.529818</td>\n      <td>-0.214007</td>\n      <td>0.625824</td>\n    </tr>\n    <tr>\n      <th>LotFrontage</th>\n      <td>0.719806</td>\n      <td>0.115866</td>\n      <td>-0.008179</td>\n      <td>0.073365</td>\n      <td>0.187161</td>\n      <td>0.270508</td>\n      <td>0.035526</td>\n      <td>0.018690</td>\n      <td>0.101816</td>\n      <td>0.283401</td>\n      <td>...</td>\n      <td>0.340632</td>\n      <td>0.007942</td>\n      <td>0.293680</td>\n      <td>-0.129354</td>\n      <td>0.283349</td>\n      <td>1.000000</td>\n      <td>0.111562</td>\n      <td>0.154070</td>\n      <td>-0.023020</td>\n      <td>0.334781</td>\n    </tr>\n    <tr>\n      <th>WoodDeckSF</th>\n      <td>0.152168</td>\n      <td>0.243981</td>\n      <td>0.036433</td>\n      <td>0.081131</td>\n      <td>0.159201</td>\n      <td>0.184149</td>\n      <td>-0.086232</td>\n      <td>0.064616</td>\n      <td>0.212468</td>\n      <td>0.208902</td>\n      <td>...</td>\n      <td>0.207506</td>\n      <td>0.040355</td>\n      <td>0.130185</td>\n      <td>-0.046066</td>\n      <td>0.227641</td>\n      <td>0.111562</td>\n      <td>1.000000</td>\n      <td>0.225280</td>\n      <td>-0.034627</td>\n      <td>0.320783</td>\n    </tr>\n    <tr>\n      <th>OverallQual</th>\n      <td>0.166403</td>\n      <td>0.636197</td>\n      <td>-0.001552</td>\n      <td>0.107993</td>\n      <td>0.380178</td>\n      <td>0.573772</td>\n      <td>0.024508</td>\n      <td>0.220941</td>\n      <td>0.589743</td>\n      <td>0.578776</td>\n      <td>...</td>\n      <td>0.435640</td>\n      <td>0.221923</td>\n      <td>0.388608</td>\n      <td>0.041058</td>\n      <td>0.529818</td>\n      <td>0.154070</td>\n      <td>0.225280</td>\n      <td>1.000000</td>\n      <td>-0.258167</td>\n      <td>0.817895</td>\n    </tr>\n    <tr>\n      <th>OverallCond</th>\n      <td>-0.055529</td>\n      <td>-0.453766</td>\n      <td>-0.003149</td>\n      <td>-0.024367</td>\n      <td>-0.072207</td>\n      <td>-0.316951</td>\n      <td>0.073189</td>\n      <td>-0.084609</td>\n      <td>-0.337131</td>\n      <td>-0.206741</td>\n      <td>...</td>\n      <td>-0.204236</td>\n      <td>-0.039919</td>\n      <td>-0.142189</td>\n      <td>-0.033496</td>\n      <td>-0.214007</td>\n      <td>-0.023020</td>\n      <td>-0.034627</td>\n      <td>-0.258167</td>\n      <td>1.000000</td>\n      <td>-0.187221</td>\n    </tr>\n    <tr>\n      <th>LogSalePrice</th>\n      <td>0.355051</td>\n      <td>0.677513</td>\n      <td>-0.013812</td>\n      <td>0.110740</td>\n      <td>0.424475</td>\n      <td>0.647935</td>\n      <td>0.070674</td>\n      <td>0.277943</td>\n      <td>0.612454</td>\n      <td>0.693484</td>\n      <td>...</td>\n      <td>0.556976</td>\n      <td>0.238552</td>\n      <td>0.479571</td>\n      <td>-0.020259</td>\n      <td>0.625824</td>\n      <td>0.334781</td>\n      <td>0.320783</td>\n      <td>0.817895</td>\n      <td>-0.187221</td>\n      <td>1.000000</td>\n    </tr>\n  </tbody>\n</table>\n<p>21 rows × 21 columns</p>\n</div>"
     },
     "execution_count": 8,
     "metadata": {},
     "output_type": "execute_result"
    }
   ],
   "source": [
    "data.corr()"
   ],
   "metadata": {
    "collapsed": false,
    "pycharm": {
     "name": "#%%\n"
    }
   }
  },
  {
   "cell_type": "code",
   "execution_count": 6,
   "outputs": [
    {
     "ename": "KeyboardInterrupt",
     "evalue": "",
     "output_type": "error",
     "traceback": [
      "\u001B[1;31m---------------------------------------------------------------------------\u001B[0m",
      "\u001B[1;31mKeyboardInterrupt\u001B[0m                         Traceback (most recent call last)",
      "\u001B[1;32m<ipython-input-6-74b7e17080c4>\u001B[0m in \u001B[0;36m<module>\u001B[1;34m\u001B[0m\n\u001B[0;32m      1\u001B[0m \u001B[0mplt\u001B[0m\u001B[1;33m.\u001B[0m\u001B[0mrcParams\u001B[0m\u001B[1;33m[\u001B[0m\u001B[1;34m'figure.figsize'\u001B[0m\u001B[1;33m]\u001B[0m \u001B[1;33m=\u001B[0m \u001B[1;33m[\u001B[0m\u001B[1;36m50\u001B[0m\u001B[1;33m,\u001B[0m \u001B[1;36m50\u001B[0m\u001B[1;33m]\u001B[0m\u001B[1;33m\u001B[0m\u001B[1;33m\u001B[0m\u001B[0m\n\u001B[1;32m----> 2\u001B[1;33m \u001B[0mpd\u001B[0m\u001B[1;33m.\u001B[0m\u001B[0mplotting\u001B[0m\u001B[1;33m.\u001B[0m\u001B[0mscatter_matrix\u001B[0m\u001B[1;33m(\u001B[0m\u001B[0mdata\u001B[0m\u001B[1;33m,\u001B[0m \u001B[0mhist_kwds\u001B[0m\u001B[1;33m=\u001B[0m\u001B[1;33m{\u001B[0m\u001B[1;34m'bins'\u001B[0m\u001B[1;33m:\u001B[0m\u001B[1;36m30\u001B[0m\u001B[1;33m}\u001B[0m\u001B[1;33m)\u001B[0m\u001B[1;33m\u001B[0m\u001B[1;33m\u001B[0m\u001B[0m\n\u001B[0m\u001B[0;32m      3\u001B[0m \u001B[0mplt\u001B[0m\u001B[1;33m.\u001B[0m\u001B[0mshow\u001B[0m\u001B[1;33m(\u001B[0m\u001B[1;33m)\u001B[0m\u001B[1;33m\u001B[0m\u001B[1;33m\u001B[0m\u001B[0m\n",
      "\u001B[1;32m~\\anaconda3\\lib\\site-packages\\pandas\\plotting\\_misc.py\u001B[0m in \u001B[0;36mscatter_matrix\u001B[1;34m(frame, alpha, figsize, ax, grid, diagonal, marker, density_kwds, hist_kwds, range_padding, **kwargs)\u001B[0m\n\u001B[0;32m    126\u001B[0m     \"\"\"\n\u001B[0;32m    127\u001B[0m     \u001B[0mplot_backend\u001B[0m \u001B[1;33m=\u001B[0m \u001B[0m_get_plot_backend\u001B[0m\u001B[1;33m(\u001B[0m\u001B[1;34m\"matplotlib\"\u001B[0m\u001B[1;33m)\u001B[0m\u001B[1;33m\u001B[0m\u001B[1;33m\u001B[0m\u001B[0m\n\u001B[1;32m--> 128\u001B[1;33m     return plot_backend.scatter_matrix(\n\u001B[0m\u001B[0;32m    129\u001B[0m         \u001B[0mframe\u001B[0m\u001B[1;33m=\u001B[0m\u001B[0mframe\u001B[0m\u001B[1;33m,\u001B[0m\u001B[1;33m\u001B[0m\u001B[1;33m\u001B[0m\u001B[0m\n\u001B[0;32m    130\u001B[0m         \u001B[0malpha\u001B[0m\u001B[1;33m=\u001B[0m\u001B[0malpha\u001B[0m\u001B[1;33m,\u001B[0m\u001B[1;33m\u001B[0m\u001B[1;33m\u001B[0m\u001B[0m\n",
      "\u001B[1;32m~\\anaconda3\\lib\\site-packages\\pandas\\plotting\\_matplotlib\\misc.py\u001B[0m in \u001B[0;36mscatter_matrix\u001B[1;34m(frame, alpha, figsize, ax, grid, diagonal, marker, density_kwds, hist_kwds, range_padding, **kwds)\u001B[0m\n\u001B[0;32m     37\u001B[0m     \u001B[0mn\u001B[0m \u001B[1;33m=\u001B[0m \u001B[0mdf\u001B[0m\u001B[1;33m.\u001B[0m\u001B[0mcolumns\u001B[0m\u001B[1;33m.\u001B[0m\u001B[0msize\u001B[0m\u001B[1;33m\u001B[0m\u001B[1;33m\u001B[0m\u001B[0m\n\u001B[0;32m     38\u001B[0m     \u001B[0mnaxes\u001B[0m \u001B[1;33m=\u001B[0m \u001B[0mn\u001B[0m \u001B[1;33m*\u001B[0m \u001B[0mn\u001B[0m\u001B[1;33m\u001B[0m\u001B[1;33m\u001B[0m\u001B[0m\n\u001B[1;32m---> 39\u001B[1;33m     \u001B[0mfig\u001B[0m\u001B[1;33m,\u001B[0m \u001B[0maxes\u001B[0m \u001B[1;33m=\u001B[0m \u001B[0mcreate_subplots\u001B[0m\u001B[1;33m(\u001B[0m\u001B[0mnaxes\u001B[0m\u001B[1;33m=\u001B[0m\u001B[0mnaxes\u001B[0m\u001B[1;33m,\u001B[0m \u001B[0mfigsize\u001B[0m\u001B[1;33m=\u001B[0m\u001B[0mfigsize\u001B[0m\u001B[1;33m,\u001B[0m \u001B[0max\u001B[0m\u001B[1;33m=\u001B[0m\u001B[0max\u001B[0m\u001B[1;33m,\u001B[0m \u001B[0msqueeze\u001B[0m\u001B[1;33m=\u001B[0m\u001B[1;32mFalse\u001B[0m\u001B[1;33m)\u001B[0m\u001B[1;33m\u001B[0m\u001B[1;33m\u001B[0m\u001B[0m\n\u001B[0m\u001B[0;32m     40\u001B[0m \u001B[1;33m\u001B[0m\u001B[0m\n\u001B[0;32m     41\u001B[0m     \u001B[1;31m# no gaps between subplots\u001B[0m\u001B[1;33m\u001B[0m\u001B[1;33m\u001B[0m\u001B[1;33m\u001B[0m\u001B[0m\n",
      "\u001B[1;32m~\\anaconda3\\lib\\site-packages\\pandas\\plotting\\_matplotlib\\tools.py\u001B[0m in \u001B[0;36mcreate_subplots\u001B[1;34m(naxes, sharex, sharey, squeeze, subplot_kw, ax, layout, layout_type, **fig_kw)\u001B[0m\n\u001B[0;32m    260\u001B[0m             \u001B[0mkwds\u001B[0m\u001B[1;33m[\u001B[0m\u001B[1;34m\"sharex\"\u001B[0m\u001B[1;33m]\u001B[0m \u001B[1;33m=\u001B[0m \u001B[1;32mNone\u001B[0m\u001B[1;33m\u001B[0m\u001B[1;33m\u001B[0m\u001B[0m\n\u001B[0;32m    261\u001B[0m             \u001B[0mkwds\u001B[0m\u001B[1;33m[\u001B[0m\u001B[1;34m\"sharey\"\u001B[0m\u001B[1;33m]\u001B[0m \u001B[1;33m=\u001B[0m \u001B[1;32mNone\u001B[0m\u001B[1;33m\u001B[0m\u001B[1;33m\u001B[0m\u001B[0m\n\u001B[1;32m--> 262\u001B[1;33m         \u001B[0max\u001B[0m \u001B[1;33m=\u001B[0m \u001B[0mfig\u001B[0m\u001B[1;33m.\u001B[0m\u001B[0madd_subplot\u001B[0m\u001B[1;33m(\u001B[0m\u001B[0mnrows\u001B[0m\u001B[1;33m,\u001B[0m \u001B[0mncols\u001B[0m\u001B[1;33m,\u001B[0m \u001B[0mi\u001B[0m \u001B[1;33m+\u001B[0m \u001B[1;36m1\u001B[0m\u001B[1;33m,\u001B[0m \u001B[1;33m**\u001B[0m\u001B[0mkwds\u001B[0m\u001B[1;33m)\u001B[0m\u001B[1;33m\u001B[0m\u001B[1;33m\u001B[0m\u001B[0m\n\u001B[0m\u001B[0;32m    263\u001B[0m         \u001B[0maxarr\u001B[0m\u001B[1;33m[\u001B[0m\u001B[0mi\u001B[0m\u001B[1;33m]\u001B[0m \u001B[1;33m=\u001B[0m \u001B[0max\u001B[0m\u001B[1;33m\u001B[0m\u001B[1;33m\u001B[0m\u001B[0m\n\u001B[0;32m    264\u001B[0m \u001B[1;33m\u001B[0m\u001B[0m\n",
      "\u001B[1;32m~\\anaconda3\\lib\\site-packages\\matplotlib\\figure.py\u001B[0m in \u001B[0;36madd_subplot\u001B[1;34m(self, *args, **kwargs)\u001B[0m\n\u001B[0;32m   1400\u001B[0m                     \u001B[1;31m# more similar to add_axes.\u001B[0m\u001B[1;33m\u001B[0m\u001B[1;33m\u001B[0m\u001B[1;33m\u001B[0m\u001B[0m\n\u001B[0;32m   1401\u001B[0m                     \u001B[0mself\u001B[0m\u001B[1;33m.\u001B[0m\u001B[0m_axstack\u001B[0m\u001B[1;33m.\u001B[0m\u001B[0mremove\u001B[0m\u001B[1;33m(\u001B[0m\u001B[0max\u001B[0m\u001B[1;33m)\u001B[0m\u001B[1;33m\u001B[0m\u001B[1;33m\u001B[0m\u001B[0m\n\u001B[1;32m-> 1402\u001B[1;33m             \u001B[0max\u001B[0m \u001B[1;33m=\u001B[0m \u001B[0msubplot_class_factory\u001B[0m\u001B[1;33m(\u001B[0m\u001B[0mprojection_class\u001B[0m\u001B[1;33m)\u001B[0m\u001B[1;33m(\u001B[0m\u001B[0mself\u001B[0m\u001B[1;33m,\u001B[0m \u001B[1;33m*\u001B[0m\u001B[0margs\u001B[0m\u001B[1;33m,\u001B[0m \u001B[1;33m**\u001B[0m\u001B[0mkwargs\u001B[0m\u001B[1;33m)\u001B[0m\u001B[1;33m\u001B[0m\u001B[1;33m\u001B[0m\u001B[0m\n\u001B[0m\u001B[0;32m   1403\u001B[0m \u001B[1;33m\u001B[0m\u001B[0m\n\u001B[0;32m   1404\u001B[0m         \u001B[1;32mreturn\u001B[0m \u001B[0mself\u001B[0m\u001B[1;33m.\u001B[0m\u001B[0m_add_axes_internal\u001B[0m\u001B[1;33m(\u001B[0m\u001B[0mkey\u001B[0m\u001B[1;33m,\u001B[0m \u001B[0max\u001B[0m\u001B[1;33m)\u001B[0m\u001B[1;33m\u001B[0m\u001B[1;33m\u001B[0m\u001B[0m\n",
      "\u001B[1;32m~\\anaconda3\\lib\\site-packages\\matplotlib\\axes\\_subplots.py\u001B[0m in \u001B[0;36m__init__\u001B[1;34m(self, fig, *args, **kwargs)\u001B[0m\n\u001B[0;32m     40\u001B[0m         \u001B[0mself\u001B[0m\u001B[1;33m.\u001B[0m\u001B[0mupdate_params\u001B[0m\u001B[1;33m(\u001B[0m\u001B[1;33m)\u001B[0m\u001B[1;33m\u001B[0m\u001B[1;33m\u001B[0m\u001B[0m\n\u001B[0;32m     41\u001B[0m         \u001B[1;31m# _axes_class is set in the subplot_class_factory\u001B[0m\u001B[1;33m\u001B[0m\u001B[1;33m\u001B[0m\u001B[1;33m\u001B[0m\u001B[0m\n\u001B[1;32m---> 42\u001B[1;33m         \u001B[0mself\u001B[0m\u001B[1;33m.\u001B[0m\u001B[0m_axes_class\u001B[0m\u001B[1;33m.\u001B[0m\u001B[0m__init__\u001B[0m\u001B[1;33m(\u001B[0m\u001B[0mself\u001B[0m\u001B[1;33m,\u001B[0m \u001B[0mfig\u001B[0m\u001B[1;33m,\u001B[0m \u001B[0mself\u001B[0m\u001B[1;33m.\u001B[0m\u001B[0mfigbox\u001B[0m\u001B[1;33m,\u001B[0m \u001B[1;33m**\u001B[0m\u001B[0mkwargs\u001B[0m\u001B[1;33m)\u001B[0m\u001B[1;33m\u001B[0m\u001B[1;33m\u001B[0m\u001B[0m\n\u001B[0m\u001B[0;32m     43\u001B[0m         \u001B[1;31m# add a layout box to this, for both the full axis, and the poss\u001B[0m\u001B[1;33m\u001B[0m\u001B[1;33m\u001B[0m\u001B[1;33m\u001B[0m\u001B[0m\n\u001B[0;32m     44\u001B[0m         \u001B[1;31m# of the axis.  We need both because the axes may become smaller\u001B[0m\u001B[1;33m\u001B[0m\u001B[1;33m\u001B[0m\u001B[1;33m\u001B[0m\u001B[0m\n",
      "\u001B[1;32m~\\anaconda3\\lib\\site-packages\\matplotlib\\axes\\_base.py\u001B[0m in \u001B[0;36m__init__\u001B[1;34m(self, fig, rect, facecolor, frameon, sharex, sharey, label, xscale, yscale, box_aspect, **kwargs)\u001B[0m\n\u001B[0;32m    509\u001B[0m \u001B[1;33m\u001B[0m\u001B[0m\n\u001B[0;32m    510\u001B[0m         \u001B[0mself\u001B[0m\u001B[1;33m.\u001B[0m\u001B[0m_rasterization_zorder\u001B[0m \u001B[1;33m=\u001B[0m \u001B[1;32mNone\u001B[0m\u001B[1;33m\u001B[0m\u001B[1;33m\u001B[0m\u001B[0m\n\u001B[1;32m--> 511\u001B[1;33m         \u001B[0mself\u001B[0m\u001B[1;33m.\u001B[0m\u001B[0mcla\u001B[0m\u001B[1;33m(\u001B[0m\u001B[1;33m)\u001B[0m\u001B[1;33m\u001B[0m\u001B[1;33m\u001B[0m\u001B[0m\n\u001B[0m\u001B[0;32m    512\u001B[0m \u001B[1;33m\u001B[0m\u001B[0m\n\u001B[0;32m    513\u001B[0m         \u001B[1;31m# funcs used to format x and y - fall back on major formatters\u001B[0m\u001B[1;33m\u001B[0m\u001B[1;33m\u001B[0m\u001B[1;33m\u001B[0m\u001B[0m\n",
      "\u001B[1;32m~\\anaconda3\\lib\\site-packages\\matplotlib\\axes\\_base.py\u001B[0m in \u001B[0;36mcla\u001B[1;34m(self)\u001B[0m\n\u001B[0;32m   1159\u001B[0m         \u001B[0mself\u001B[0m\u001B[1;33m.\u001B[0m\u001B[0mset_axis_on\u001B[0m\u001B[1;33m(\u001B[0m\u001B[1;33m)\u001B[0m\u001B[1;33m\u001B[0m\u001B[1;33m\u001B[0m\u001B[0m\n\u001B[0;32m   1160\u001B[0m \u001B[1;33m\u001B[0m\u001B[0m\n\u001B[1;32m-> 1161\u001B[1;33m         \u001B[0mself\u001B[0m\u001B[1;33m.\u001B[0m\u001B[0mxaxis\u001B[0m\u001B[1;33m.\u001B[0m\u001B[0mset_clip_path\u001B[0m\u001B[1;33m(\u001B[0m\u001B[0mself\u001B[0m\u001B[1;33m.\u001B[0m\u001B[0mpatch\u001B[0m\u001B[1;33m)\u001B[0m\u001B[1;33m\u001B[0m\u001B[1;33m\u001B[0m\u001B[0m\n\u001B[0m\u001B[0;32m   1162\u001B[0m         \u001B[0mself\u001B[0m\u001B[1;33m.\u001B[0m\u001B[0myaxis\u001B[0m\u001B[1;33m.\u001B[0m\u001B[0mset_clip_path\u001B[0m\u001B[1;33m(\u001B[0m\u001B[0mself\u001B[0m\u001B[1;33m.\u001B[0m\u001B[0mpatch\u001B[0m\u001B[1;33m)\u001B[0m\u001B[1;33m\u001B[0m\u001B[1;33m\u001B[0m\u001B[0m\n\u001B[0;32m   1163\u001B[0m \u001B[1;33m\u001B[0m\u001B[0m\n",
      "\u001B[1;32m~\\anaconda3\\lib\\site-packages\\matplotlib\\axis.py\u001B[0m in \u001B[0;36mset_clip_path\u001B[1;34m(self, clippath, transform)\u001B[0m\n\u001B[0;32m    898\u001B[0m \u001B[1;33m\u001B[0m\u001B[0m\n\u001B[0;32m    899\u001B[0m     \u001B[1;32mdef\u001B[0m \u001B[0mset_clip_path\u001B[0m\u001B[1;33m(\u001B[0m\u001B[0mself\u001B[0m\u001B[1;33m,\u001B[0m \u001B[0mclippath\u001B[0m\u001B[1;33m,\u001B[0m \u001B[0mtransform\u001B[0m\u001B[1;33m=\u001B[0m\u001B[1;32mNone\u001B[0m\u001B[1;33m)\u001B[0m\u001B[1;33m:\u001B[0m\u001B[1;33m\u001B[0m\u001B[1;33m\u001B[0m\u001B[0m\n\u001B[1;32m--> 900\u001B[1;33m         \u001B[0mmartist\u001B[0m\u001B[1;33m.\u001B[0m\u001B[0mArtist\u001B[0m\u001B[1;33m.\u001B[0m\u001B[0mset_clip_path\u001B[0m\u001B[1;33m(\u001B[0m\u001B[0mself\u001B[0m\u001B[1;33m,\u001B[0m \u001B[0mclippath\u001B[0m\u001B[1;33m,\u001B[0m \u001B[0mtransform\u001B[0m\u001B[1;33m)\u001B[0m\u001B[1;33m\u001B[0m\u001B[1;33m\u001B[0m\u001B[0m\n\u001B[0m\u001B[0;32m    901\u001B[0m         \u001B[1;32mfor\u001B[0m \u001B[0mchild\u001B[0m \u001B[1;32min\u001B[0m \u001B[0mself\u001B[0m\u001B[1;33m.\u001B[0m\u001B[0mmajorTicks\u001B[0m \u001B[1;33m+\u001B[0m \u001B[0mself\u001B[0m\u001B[1;33m.\u001B[0m\u001B[0mminorTicks\u001B[0m\u001B[1;33m:\u001B[0m\u001B[1;33m\u001B[0m\u001B[1;33m\u001B[0m\u001B[0m\n\u001B[0;32m    902\u001B[0m             \u001B[0mchild\u001B[0m\u001B[1;33m.\u001B[0m\u001B[0mset_clip_path\u001B[0m\u001B[1;33m(\u001B[0m\u001B[0mclippath\u001B[0m\u001B[1;33m,\u001B[0m \u001B[0mtransform\u001B[0m\u001B[1;33m)\u001B[0m\u001B[1;33m\u001B[0m\u001B[1;33m\u001B[0m\u001B[0m\n",
      "\u001B[1;32m~\\anaconda3\\lib\\site-packages\\matplotlib\\artist.py\u001B[0m in \u001B[0;36mset_clip_path\u001B[1;34m(self, path, transform)\u001B[0m\n\u001B[0;32m    752\u001B[0m             \u001B[1;32mif\u001B[0m \u001B[0misinstance\u001B[0m\u001B[1;33m(\u001B[0m\u001B[0mpath\u001B[0m\u001B[1;33m,\u001B[0m \u001B[0mRectangle\u001B[0m\u001B[1;33m)\u001B[0m\u001B[1;33m:\u001B[0m\u001B[1;33m\u001B[0m\u001B[1;33m\u001B[0m\u001B[0m\n\u001B[0;32m    753\u001B[0m                 self.clipbox = TransformedBbox(Bbox.unit(),\n\u001B[1;32m--> 754\u001B[1;33m                                                path.get_transform())\n\u001B[0m\u001B[0;32m    755\u001B[0m                 \u001B[0mself\u001B[0m\u001B[1;33m.\u001B[0m\u001B[0m_clippath\u001B[0m \u001B[1;33m=\u001B[0m \u001B[1;32mNone\u001B[0m\u001B[1;33m\u001B[0m\u001B[1;33m\u001B[0m\u001B[0m\n\u001B[0;32m    756\u001B[0m                 \u001B[0msuccess\u001B[0m \u001B[1;33m=\u001B[0m \u001B[1;32mTrue\u001B[0m\u001B[1;33m\u001B[0m\u001B[1;33m\u001B[0m\u001B[0m\n",
      "\u001B[1;32m~\\anaconda3\\lib\\site-packages\\matplotlib\\patches.py\u001B[0m in \u001B[0;36mget_transform\u001B[1;34m(self)\u001B[0m\n\u001B[0;32m    258\u001B[0m     \u001B[1;32mdef\u001B[0m \u001B[0mget_transform\u001B[0m\u001B[1;33m(\u001B[0m\u001B[0mself\u001B[0m\u001B[1;33m)\u001B[0m\u001B[1;33m:\u001B[0m\u001B[1;33m\u001B[0m\u001B[1;33m\u001B[0m\u001B[0m\n\u001B[0;32m    259\u001B[0m         \u001B[1;34m\"\"\"Return the `~.transforms.Transform` applied to the `Patch`.\"\"\"\u001B[0m\u001B[1;33m\u001B[0m\u001B[1;33m\u001B[0m\u001B[0m\n\u001B[1;32m--> 260\u001B[1;33m         \u001B[1;32mreturn\u001B[0m \u001B[0mself\u001B[0m\u001B[1;33m.\u001B[0m\u001B[0mget_patch_transform\u001B[0m\u001B[1;33m(\u001B[0m\u001B[1;33m)\u001B[0m \u001B[1;33m+\u001B[0m \u001B[0martist\u001B[0m\u001B[1;33m.\u001B[0m\u001B[0mArtist\u001B[0m\u001B[1;33m.\u001B[0m\u001B[0mget_transform\u001B[0m\u001B[1;33m(\u001B[0m\u001B[0mself\u001B[0m\u001B[1;33m)\u001B[0m\u001B[1;33m\u001B[0m\u001B[1;33m\u001B[0m\u001B[0m\n\u001B[0m\u001B[0;32m    261\u001B[0m \u001B[1;33m\u001B[0m\u001B[0m\n\u001B[0;32m    262\u001B[0m     \u001B[1;32mdef\u001B[0m \u001B[0mget_data_transform\u001B[0m\u001B[1;33m(\u001B[0m\u001B[0mself\u001B[0m\u001B[1;33m)\u001B[0m\u001B[1;33m:\u001B[0m\u001B[1;33m\u001B[0m\u001B[1;33m\u001B[0m\u001B[0m\n",
      "\u001B[1;32m~\\anaconda3\\lib\\site-packages\\matplotlib\\patches.py\u001B[0m in \u001B[0;36mget_patch_transform\u001B[1;34m(self)\u001B[0m\n\u001B[0;32m    790\u001B[0m \u001B[1;33m\u001B[0m\u001B[0m\n\u001B[0;32m    791\u001B[0m     \u001B[1;32mdef\u001B[0m \u001B[0mget_patch_transform\u001B[0m\u001B[1;33m(\u001B[0m\u001B[0mself\u001B[0m\u001B[1;33m)\u001B[0m\u001B[1;33m:\u001B[0m\u001B[1;33m\u001B[0m\u001B[1;33m\u001B[0m\u001B[0m\n\u001B[1;32m--> 792\u001B[1;33m         \u001B[0mself\u001B[0m\u001B[1;33m.\u001B[0m\u001B[0m_update_patch_transform\u001B[0m\u001B[1;33m(\u001B[0m\u001B[1;33m)\u001B[0m\u001B[1;33m\u001B[0m\u001B[1;33m\u001B[0m\u001B[0m\n\u001B[0m\u001B[0;32m    793\u001B[0m         \u001B[1;32mreturn\u001B[0m \u001B[0mself\u001B[0m\u001B[1;33m.\u001B[0m\u001B[0m_rect_transform\u001B[0m\u001B[1;33m\u001B[0m\u001B[1;33m\u001B[0m\u001B[0m\n\u001B[0;32m    794\u001B[0m \u001B[1;33m\u001B[0m\u001B[0m\n",
      "\u001B[1;32m~\\anaconda3\\lib\\site-packages\\matplotlib\\patches.py\u001B[0m in \u001B[0;36m_update_patch_transform\u001B[1;34m(self)\u001B[0m\n\u001B[0;32m    771\u001B[0m         \u001B[0mbbox\u001B[0m \u001B[1;33m=\u001B[0m \u001B[0mtransforms\u001B[0m\u001B[1;33m.\u001B[0m\u001B[0mBbox\u001B[0m\u001B[1;33m.\u001B[0m\u001B[0mfrom_extents\u001B[0m\u001B[1;33m(\u001B[0m\u001B[0mx0\u001B[0m\u001B[1;33m,\u001B[0m \u001B[0my0\u001B[0m\u001B[1;33m,\u001B[0m \u001B[0mx1\u001B[0m\u001B[1;33m,\u001B[0m \u001B[0my1\u001B[0m\u001B[1;33m)\u001B[0m\u001B[1;33m\u001B[0m\u001B[1;33m\u001B[0m\u001B[0m\n\u001B[0;32m    772\u001B[0m         \u001B[0mrot_trans\u001B[0m \u001B[1;33m=\u001B[0m \u001B[0mtransforms\u001B[0m\u001B[1;33m.\u001B[0m\u001B[0mAffine2D\u001B[0m\u001B[1;33m(\u001B[0m\u001B[1;33m)\u001B[0m\u001B[1;33m\u001B[0m\u001B[1;33m\u001B[0m\u001B[0m\n\u001B[1;32m--> 773\u001B[1;33m         \u001B[0mrot_trans\u001B[0m\u001B[1;33m.\u001B[0m\u001B[0mrotate_deg_around\u001B[0m\u001B[1;33m(\u001B[0m\u001B[0mx0\u001B[0m\u001B[1;33m,\u001B[0m \u001B[0my0\u001B[0m\u001B[1;33m,\u001B[0m \u001B[0mself\u001B[0m\u001B[1;33m.\u001B[0m\u001B[0mangle\u001B[0m\u001B[1;33m)\u001B[0m\u001B[1;33m\u001B[0m\u001B[1;33m\u001B[0m\u001B[0m\n\u001B[0m\u001B[0;32m    774\u001B[0m         \u001B[0mself\u001B[0m\u001B[1;33m.\u001B[0m\u001B[0m_rect_transform\u001B[0m \u001B[1;33m=\u001B[0m \u001B[0mtransforms\u001B[0m\u001B[1;33m.\u001B[0m\u001B[0mBboxTransformTo\u001B[0m\u001B[1;33m(\u001B[0m\u001B[0mbbox\u001B[0m\u001B[1;33m)\u001B[0m\u001B[1;33m\u001B[0m\u001B[1;33m\u001B[0m\u001B[0m\n\u001B[0;32m    775\u001B[0m         \u001B[0mself\u001B[0m\u001B[1;33m.\u001B[0m\u001B[0m_rect_transform\u001B[0m \u001B[1;33m+=\u001B[0m \u001B[0mrot_trans\u001B[0m\u001B[1;33m\u001B[0m\u001B[1;33m\u001B[0m\u001B[0m\n",
      "\u001B[1;32m~\\anaconda3\\lib\\site-packages\\matplotlib\\transforms.py\u001B[0m in \u001B[0;36mrotate_deg_around\u001B[1;34m(self, x, y, degrees)\u001B[0m\n\u001B[0;32m   1965\u001B[0m         \u001B[1;31m# Cast to float to avoid wraparound issues with uint8's\u001B[0m\u001B[1;33m\u001B[0m\u001B[1;33m\u001B[0m\u001B[1;33m\u001B[0m\u001B[0m\n\u001B[0;32m   1966\u001B[0m         \u001B[0mx\u001B[0m\u001B[1;33m,\u001B[0m \u001B[0my\u001B[0m \u001B[1;33m=\u001B[0m \u001B[0mfloat\u001B[0m\u001B[1;33m(\u001B[0m\u001B[0mx\u001B[0m\u001B[1;33m)\u001B[0m\u001B[1;33m,\u001B[0m \u001B[0mfloat\u001B[0m\u001B[1;33m(\u001B[0m\u001B[0my\u001B[0m\u001B[1;33m)\u001B[0m\u001B[1;33m\u001B[0m\u001B[1;33m\u001B[0m\u001B[0m\n\u001B[1;32m-> 1967\u001B[1;33m         \u001B[1;32mreturn\u001B[0m \u001B[0mself\u001B[0m\u001B[1;33m.\u001B[0m\u001B[0mtranslate\u001B[0m\u001B[1;33m(\u001B[0m\u001B[1;33m-\u001B[0m\u001B[0mx\u001B[0m\u001B[1;33m,\u001B[0m \u001B[1;33m-\u001B[0m\u001B[0my\u001B[0m\u001B[1;33m)\u001B[0m\u001B[1;33m.\u001B[0m\u001B[0mrotate_deg\u001B[0m\u001B[1;33m(\u001B[0m\u001B[0mdegrees\u001B[0m\u001B[1;33m)\u001B[0m\u001B[1;33m.\u001B[0m\u001B[0mtranslate\u001B[0m\u001B[1;33m(\u001B[0m\u001B[0mx\u001B[0m\u001B[1;33m,\u001B[0m \u001B[0my\u001B[0m\u001B[1;33m)\u001B[0m\u001B[1;33m\u001B[0m\u001B[1;33m\u001B[0m\u001B[0m\n\u001B[0m\u001B[0;32m   1968\u001B[0m \u001B[1;33m\u001B[0m\u001B[0m\n\u001B[0;32m   1969\u001B[0m     \u001B[1;32mdef\u001B[0m \u001B[0mtranslate\u001B[0m\u001B[1;33m(\u001B[0m\u001B[0mself\u001B[0m\u001B[1;33m,\u001B[0m \u001B[0mtx\u001B[0m\u001B[1;33m,\u001B[0m \u001B[0mty\u001B[0m\u001B[1;33m)\u001B[0m\u001B[1;33m:\u001B[0m\u001B[1;33m\u001B[0m\u001B[1;33m\u001B[0m\u001B[0m\n",
      "\u001B[1;32m~\\anaconda3\\lib\\site-packages\\matplotlib\\transforms.py\u001B[0m in \u001B[0;36mrotate_deg\u001B[1;34m(self, degrees)\u001B[0m\n\u001B[0;32m   1943\u001B[0m         \u001B[1;32mand\u001B[0m \u001B[1;33m:\u001B[0m\u001B[0mmeth\u001B[0m\u001B[1;33m:\u001B[0m\u001B[0;31m`\u001B[0m\u001B[0mscale\u001B[0m\u001B[0;31m`\u001B[0m\u001B[1;33m.\u001B[0m\u001B[1;33m\u001B[0m\u001B[1;33m\u001B[0m\u001B[0m\n\u001B[0;32m   1944\u001B[0m         \"\"\"\n\u001B[1;32m-> 1945\u001B[1;33m         \u001B[1;32mreturn\u001B[0m \u001B[0mself\u001B[0m\u001B[1;33m.\u001B[0m\u001B[0mrotate\u001B[0m\u001B[1;33m(\u001B[0m\u001B[0mmath\u001B[0m\u001B[1;33m.\u001B[0m\u001B[0mradians\u001B[0m\u001B[1;33m(\u001B[0m\u001B[0mdegrees\u001B[0m\u001B[1;33m)\u001B[0m\u001B[1;33m)\u001B[0m\u001B[1;33m\u001B[0m\u001B[1;33m\u001B[0m\u001B[0m\n\u001B[0m\u001B[0;32m   1946\u001B[0m \u001B[1;33m\u001B[0m\u001B[0m\n\u001B[0;32m   1947\u001B[0m     \u001B[1;32mdef\u001B[0m \u001B[0mrotate_around\u001B[0m\u001B[1;33m(\u001B[0m\u001B[0mself\u001B[0m\u001B[1;33m,\u001B[0m \u001B[0mx\u001B[0m\u001B[1;33m,\u001B[0m \u001B[0my\u001B[0m\u001B[1;33m,\u001B[0m \u001B[0mtheta\u001B[0m\u001B[1;33m)\u001B[0m\u001B[1;33m:\u001B[0m\u001B[1;33m\u001B[0m\u001B[1;33m\u001B[0m\u001B[0m\n",
      "\u001B[1;32m~\\anaconda3\\lib\\site-packages\\matplotlib\\transforms.py\u001B[0m in \u001B[0;36mrotate\u001B[1;34m(self, theta)\u001B[0m\n\u001B[0;32m   1931\u001B[0m         rotate_mtx = np.array([[a, -b, 0.0], [b, a, 0.0], [0.0, 0.0, 1.0]],\n\u001B[0;32m   1932\u001B[0m                               float)\n\u001B[1;32m-> 1933\u001B[1;33m         \u001B[0mself\u001B[0m\u001B[1;33m.\u001B[0m\u001B[0m_mtx\u001B[0m \u001B[1;33m=\u001B[0m \u001B[0mnp\u001B[0m\u001B[1;33m.\u001B[0m\u001B[0mdot\u001B[0m\u001B[1;33m(\u001B[0m\u001B[0mrotate_mtx\u001B[0m\u001B[1;33m,\u001B[0m \u001B[0mself\u001B[0m\u001B[1;33m.\u001B[0m\u001B[0m_mtx\u001B[0m\u001B[1;33m)\u001B[0m\u001B[1;33m\u001B[0m\u001B[1;33m\u001B[0m\u001B[0m\n\u001B[0m\u001B[0;32m   1934\u001B[0m         \u001B[0mself\u001B[0m\u001B[1;33m.\u001B[0m\u001B[0minvalidate\u001B[0m\u001B[1;33m(\u001B[0m\u001B[1;33m)\u001B[0m\u001B[1;33m\u001B[0m\u001B[1;33m\u001B[0m\u001B[0m\n\u001B[0;32m   1935\u001B[0m         \u001B[1;32mreturn\u001B[0m \u001B[0mself\u001B[0m\u001B[1;33m\u001B[0m\u001B[1;33m\u001B[0m\u001B[0m\n",
      "\u001B[1;32m<__array_function__ internals>\u001B[0m in \u001B[0;36mdot\u001B[1;34m(*args, **kwargs)\u001B[0m\n",
      "\u001B[1;31mKeyboardInterrupt\u001B[0m: "
     ]
    },
    {
     "name": "stdout",
     "output_type": "stream",
     "text": [
      "Error in callback <function flush_figures at 0x0000017CB5A20AF0> (for post_execute):\n"
     ]
    },
    {
     "ename": "KeyboardInterrupt",
     "evalue": "",
     "output_type": "error",
     "traceback": [
      "\u001B[1;31m---------------------------------------------------------------------------\u001B[0m",
      "\u001B[1;31mKeyboardInterrupt\u001B[0m                         Traceback (most recent call last)",
      "\u001B[1;32m~\\anaconda3\\lib\\site-packages\\ipykernel\\pylab\\backend_inline.py\u001B[0m in \u001B[0;36mflush_figures\u001B[1;34m()\u001B[0m\n\u001B[0;32m    119\u001B[0m         \u001B[1;31m# ignore the tracking, just draw and close all figures\u001B[0m\u001B[1;33m\u001B[0m\u001B[1;33m\u001B[0m\u001B[1;33m\u001B[0m\u001B[0m\n\u001B[0;32m    120\u001B[0m         \u001B[1;32mtry\u001B[0m\u001B[1;33m:\u001B[0m\u001B[1;33m\u001B[0m\u001B[1;33m\u001B[0m\u001B[0m\n\u001B[1;32m--> 121\u001B[1;33m             \u001B[1;32mreturn\u001B[0m \u001B[0mshow\u001B[0m\u001B[1;33m(\u001B[0m\u001B[1;32mTrue\u001B[0m\u001B[1;33m)\u001B[0m\u001B[1;33m\u001B[0m\u001B[1;33m\u001B[0m\u001B[0m\n\u001B[0m\u001B[0;32m    122\u001B[0m         \u001B[1;32mexcept\u001B[0m \u001B[0mException\u001B[0m \u001B[1;32mas\u001B[0m \u001B[0me\u001B[0m\u001B[1;33m:\u001B[0m\u001B[1;33m\u001B[0m\u001B[1;33m\u001B[0m\u001B[0m\n\u001B[0;32m    123\u001B[0m             \u001B[1;31m# safely show traceback if in IPython, else raise\u001B[0m\u001B[1;33m\u001B[0m\u001B[1;33m\u001B[0m\u001B[1;33m\u001B[0m\u001B[0m\n",
      "\u001B[1;32m~\\anaconda3\\lib\\site-packages\\ipykernel\\pylab\\backend_inline.py\u001B[0m in \u001B[0;36mshow\u001B[1;34m(close, block)\u001B[0m\n\u001B[0;32m     39\u001B[0m     \u001B[1;32mtry\u001B[0m\u001B[1;33m:\u001B[0m\u001B[1;33m\u001B[0m\u001B[1;33m\u001B[0m\u001B[0m\n\u001B[0;32m     40\u001B[0m         \u001B[1;32mfor\u001B[0m \u001B[0mfigure_manager\u001B[0m \u001B[1;32min\u001B[0m \u001B[0mGcf\u001B[0m\u001B[1;33m.\u001B[0m\u001B[0mget_all_fig_managers\u001B[0m\u001B[1;33m(\u001B[0m\u001B[1;33m)\u001B[0m\u001B[1;33m:\u001B[0m\u001B[1;33m\u001B[0m\u001B[1;33m\u001B[0m\u001B[0m\n\u001B[1;32m---> 41\u001B[1;33m             display(\n\u001B[0m\u001B[0;32m     42\u001B[0m                 \u001B[0mfigure_manager\u001B[0m\u001B[1;33m.\u001B[0m\u001B[0mcanvas\u001B[0m\u001B[1;33m.\u001B[0m\u001B[0mfigure\u001B[0m\u001B[1;33m,\u001B[0m\u001B[1;33m\u001B[0m\u001B[1;33m\u001B[0m\u001B[0m\n\u001B[0;32m     43\u001B[0m                 \u001B[0mmetadata\u001B[0m\u001B[1;33m=\u001B[0m\u001B[0m_fetch_figure_metadata\u001B[0m\u001B[1;33m(\u001B[0m\u001B[0mfigure_manager\u001B[0m\u001B[1;33m.\u001B[0m\u001B[0mcanvas\u001B[0m\u001B[1;33m.\u001B[0m\u001B[0mfigure\u001B[0m\u001B[1;33m)\u001B[0m\u001B[1;33m\u001B[0m\u001B[1;33m\u001B[0m\u001B[0m\n",
      "\u001B[1;32m~\\anaconda3\\lib\\site-packages\\IPython\\core\\display.py\u001B[0m in \u001B[0;36mdisplay\u001B[1;34m(include, exclude, metadata, transient, display_id, *objs, **kwargs)\u001B[0m\n\u001B[0;32m    311\u001B[0m             \u001B[0mpublish_display_data\u001B[0m\u001B[1;33m(\u001B[0m\u001B[0mdata\u001B[0m\u001B[1;33m=\u001B[0m\u001B[0mobj\u001B[0m\u001B[1;33m,\u001B[0m \u001B[0mmetadata\u001B[0m\u001B[1;33m=\u001B[0m\u001B[0mmetadata\u001B[0m\u001B[1;33m,\u001B[0m \u001B[1;33m**\u001B[0m\u001B[0mkwargs\u001B[0m\u001B[1;33m)\u001B[0m\u001B[1;33m\u001B[0m\u001B[1;33m\u001B[0m\u001B[0m\n\u001B[0;32m    312\u001B[0m         \u001B[1;32melse\u001B[0m\u001B[1;33m:\u001B[0m\u001B[1;33m\u001B[0m\u001B[1;33m\u001B[0m\u001B[0m\n\u001B[1;32m--> 313\u001B[1;33m             \u001B[0mformat_dict\u001B[0m\u001B[1;33m,\u001B[0m \u001B[0mmd_dict\u001B[0m \u001B[1;33m=\u001B[0m \u001B[0mformat\u001B[0m\u001B[1;33m(\u001B[0m\u001B[0mobj\u001B[0m\u001B[1;33m,\u001B[0m \u001B[0minclude\u001B[0m\u001B[1;33m=\u001B[0m\u001B[0minclude\u001B[0m\u001B[1;33m,\u001B[0m \u001B[0mexclude\u001B[0m\u001B[1;33m=\u001B[0m\u001B[0mexclude\u001B[0m\u001B[1;33m)\u001B[0m\u001B[1;33m\u001B[0m\u001B[1;33m\u001B[0m\u001B[0m\n\u001B[0m\u001B[0;32m    314\u001B[0m             \u001B[1;32mif\u001B[0m \u001B[1;32mnot\u001B[0m \u001B[0mformat_dict\u001B[0m\u001B[1;33m:\u001B[0m\u001B[1;33m\u001B[0m\u001B[1;33m\u001B[0m\u001B[0m\n\u001B[0;32m    315\u001B[0m                 \u001B[1;31m# nothing to display (e.g. _ipython_display_ took over)\u001B[0m\u001B[1;33m\u001B[0m\u001B[1;33m\u001B[0m\u001B[1;33m\u001B[0m\u001B[0m\n",
      "\u001B[1;32m~\\anaconda3\\lib\\site-packages\\IPython\\core\\formatters.py\u001B[0m in \u001B[0;36mformat\u001B[1;34m(self, obj, include, exclude)\u001B[0m\n\u001B[0;32m    178\u001B[0m             \u001B[0mmd\u001B[0m \u001B[1;33m=\u001B[0m \u001B[1;32mNone\u001B[0m\u001B[1;33m\u001B[0m\u001B[1;33m\u001B[0m\u001B[0m\n\u001B[0;32m    179\u001B[0m             \u001B[1;32mtry\u001B[0m\u001B[1;33m:\u001B[0m\u001B[1;33m\u001B[0m\u001B[1;33m\u001B[0m\u001B[0m\n\u001B[1;32m--> 180\u001B[1;33m                 \u001B[0mdata\u001B[0m \u001B[1;33m=\u001B[0m \u001B[0mformatter\u001B[0m\u001B[1;33m(\u001B[0m\u001B[0mobj\u001B[0m\u001B[1;33m)\u001B[0m\u001B[1;33m\u001B[0m\u001B[1;33m\u001B[0m\u001B[0m\n\u001B[0m\u001B[0;32m    181\u001B[0m             \u001B[1;32mexcept\u001B[0m\u001B[1;33m:\u001B[0m\u001B[1;33m\u001B[0m\u001B[1;33m\u001B[0m\u001B[0m\n\u001B[0;32m    182\u001B[0m                 \u001B[1;31m# FIXME: log the exception\u001B[0m\u001B[1;33m\u001B[0m\u001B[1;33m\u001B[0m\u001B[1;33m\u001B[0m\u001B[0m\n",
      "\u001B[1;32m~\\anaconda3\\lib\\site-packages\\decorator.py\u001B[0m in \u001B[0;36mfun\u001B[1;34m(*args, **kw)\u001B[0m\n\u001B[0;32m    229\u001B[0m             \u001B[1;32mif\u001B[0m \u001B[1;32mnot\u001B[0m \u001B[0mkwsyntax\u001B[0m\u001B[1;33m:\u001B[0m\u001B[1;33m\u001B[0m\u001B[1;33m\u001B[0m\u001B[0m\n\u001B[0;32m    230\u001B[0m                 \u001B[0margs\u001B[0m\u001B[1;33m,\u001B[0m \u001B[0mkw\u001B[0m \u001B[1;33m=\u001B[0m \u001B[0mfix\u001B[0m\u001B[1;33m(\u001B[0m\u001B[0margs\u001B[0m\u001B[1;33m,\u001B[0m \u001B[0mkw\u001B[0m\u001B[1;33m,\u001B[0m \u001B[0msig\u001B[0m\u001B[1;33m)\u001B[0m\u001B[1;33m\u001B[0m\u001B[1;33m\u001B[0m\u001B[0m\n\u001B[1;32m--> 231\u001B[1;33m             \u001B[1;32mreturn\u001B[0m \u001B[0mcaller\u001B[0m\u001B[1;33m(\u001B[0m\u001B[0mfunc\u001B[0m\u001B[1;33m,\u001B[0m \u001B[1;33m*\u001B[0m\u001B[1;33m(\u001B[0m\u001B[0mextras\u001B[0m \u001B[1;33m+\u001B[0m \u001B[0margs\u001B[0m\u001B[1;33m)\u001B[0m\u001B[1;33m,\u001B[0m \u001B[1;33m**\u001B[0m\u001B[0mkw\u001B[0m\u001B[1;33m)\u001B[0m\u001B[1;33m\u001B[0m\u001B[1;33m\u001B[0m\u001B[0m\n\u001B[0m\u001B[0;32m    232\u001B[0m     \u001B[0mfun\u001B[0m\u001B[1;33m.\u001B[0m\u001B[0m__name__\u001B[0m \u001B[1;33m=\u001B[0m \u001B[0mfunc\u001B[0m\u001B[1;33m.\u001B[0m\u001B[0m__name__\u001B[0m\u001B[1;33m\u001B[0m\u001B[1;33m\u001B[0m\u001B[0m\n\u001B[0;32m    233\u001B[0m     \u001B[0mfun\u001B[0m\u001B[1;33m.\u001B[0m\u001B[0m__doc__\u001B[0m \u001B[1;33m=\u001B[0m \u001B[0mfunc\u001B[0m\u001B[1;33m.\u001B[0m\u001B[0m__doc__\u001B[0m\u001B[1;33m\u001B[0m\u001B[1;33m\u001B[0m\u001B[0m\n",
      "\u001B[1;32m~\\anaconda3\\lib\\site-packages\\IPython\\core\\formatters.py\u001B[0m in \u001B[0;36mcatch_format_error\u001B[1;34m(method, self, *args, **kwargs)\u001B[0m\n\u001B[0;32m    222\u001B[0m     \u001B[1;34m\"\"\"show traceback on failed format call\"\"\"\u001B[0m\u001B[1;33m\u001B[0m\u001B[1;33m\u001B[0m\u001B[0m\n\u001B[0;32m    223\u001B[0m     \u001B[1;32mtry\u001B[0m\u001B[1;33m:\u001B[0m\u001B[1;33m\u001B[0m\u001B[1;33m\u001B[0m\u001B[0m\n\u001B[1;32m--> 224\u001B[1;33m         \u001B[0mr\u001B[0m \u001B[1;33m=\u001B[0m \u001B[0mmethod\u001B[0m\u001B[1;33m(\u001B[0m\u001B[0mself\u001B[0m\u001B[1;33m,\u001B[0m \u001B[1;33m*\u001B[0m\u001B[0margs\u001B[0m\u001B[1;33m,\u001B[0m \u001B[1;33m**\u001B[0m\u001B[0mkwargs\u001B[0m\u001B[1;33m)\u001B[0m\u001B[1;33m\u001B[0m\u001B[1;33m\u001B[0m\u001B[0m\n\u001B[0m\u001B[0;32m    225\u001B[0m     \u001B[1;32mexcept\u001B[0m \u001B[0mNotImplementedError\u001B[0m\u001B[1;33m:\u001B[0m\u001B[1;33m\u001B[0m\u001B[1;33m\u001B[0m\u001B[0m\n\u001B[0;32m    226\u001B[0m         \u001B[1;31m# don't warn on NotImplementedErrors\u001B[0m\u001B[1;33m\u001B[0m\u001B[1;33m\u001B[0m\u001B[1;33m\u001B[0m\u001B[0m\n",
      "\u001B[1;32m~\\anaconda3\\lib\\site-packages\\IPython\\core\\formatters.py\u001B[0m in \u001B[0;36m__call__\u001B[1;34m(self, obj)\u001B[0m\n\u001B[0;32m    339\u001B[0m                 \u001B[1;32mpass\u001B[0m\u001B[1;33m\u001B[0m\u001B[1;33m\u001B[0m\u001B[0m\n\u001B[0;32m    340\u001B[0m             \u001B[1;32melse\u001B[0m\u001B[1;33m:\u001B[0m\u001B[1;33m\u001B[0m\u001B[1;33m\u001B[0m\u001B[0m\n\u001B[1;32m--> 341\u001B[1;33m                 \u001B[1;32mreturn\u001B[0m \u001B[0mprinter\u001B[0m\u001B[1;33m(\u001B[0m\u001B[0mobj\u001B[0m\u001B[1;33m)\u001B[0m\u001B[1;33m\u001B[0m\u001B[1;33m\u001B[0m\u001B[0m\n\u001B[0m\u001B[0;32m    342\u001B[0m             \u001B[1;31m# Finally look for special method names\u001B[0m\u001B[1;33m\u001B[0m\u001B[1;33m\u001B[0m\u001B[1;33m\u001B[0m\u001B[0m\n\u001B[0;32m    343\u001B[0m             \u001B[0mmethod\u001B[0m \u001B[1;33m=\u001B[0m \u001B[0mget_real_method\u001B[0m\u001B[1;33m(\u001B[0m\u001B[0mobj\u001B[0m\u001B[1;33m,\u001B[0m \u001B[0mself\u001B[0m\u001B[1;33m.\u001B[0m\u001B[0mprint_method\u001B[0m\u001B[1;33m)\u001B[0m\u001B[1;33m\u001B[0m\u001B[1;33m\u001B[0m\u001B[0m\n",
      "\u001B[1;32m~\\anaconda3\\lib\\site-packages\\IPython\\core\\pylabtools.py\u001B[0m in \u001B[0;36m<lambda>\u001B[1;34m(fig)\u001B[0m\n\u001B[0;32m    246\u001B[0m \u001B[1;33m\u001B[0m\u001B[0m\n\u001B[0;32m    247\u001B[0m     \u001B[1;32mif\u001B[0m \u001B[1;34m'png'\u001B[0m \u001B[1;32min\u001B[0m \u001B[0mformats\u001B[0m\u001B[1;33m:\u001B[0m\u001B[1;33m\u001B[0m\u001B[1;33m\u001B[0m\u001B[0m\n\u001B[1;32m--> 248\u001B[1;33m         \u001B[0mpng_formatter\u001B[0m\u001B[1;33m.\u001B[0m\u001B[0mfor_type\u001B[0m\u001B[1;33m(\u001B[0m\u001B[0mFigure\u001B[0m\u001B[1;33m,\u001B[0m \u001B[1;32mlambda\u001B[0m \u001B[0mfig\u001B[0m\u001B[1;33m:\u001B[0m \u001B[0mprint_figure\u001B[0m\u001B[1;33m(\u001B[0m\u001B[0mfig\u001B[0m\u001B[1;33m,\u001B[0m \u001B[1;34m'png'\u001B[0m\u001B[1;33m,\u001B[0m \u001B[1;33m**\u001B[0m\u001B[0mkwargs\u001B[0m\u001B[1;33m)\u001B[0m\u001B[1;33m)\u001B[0m\u001B[1;33m\u001B[0m\u001B[1;33m\u001B[0m\u001B[0m\n\u001B[0m\u001B[0;32m    249\u001B[0m     \u001B[1;32mif\u001B[0m \u001B[1;34m'retina'\u001B[0m \u001B[1;32min\u001B[0m \u001B[0mformats\u001B[0m \u001B[1;32mor\u001B[0m \u001B[1;34m'png2x'\u001B[0m \u001B[1;32min\u001B[0m \u001B[0mformats\u001B[0m\u001B[1;33m:\u001B[0m\u001B[1;33m\u001B[0m\u001B[1;33m\u001B[0m\u001B[0m\n\u001B[0;32m    250\u001B[0m         \u001B[0mpng_formatter\u001B[0m\u001B[1;33m.\u001B[0m\u001B[0mfor_type\u001B[0m\u001B[1;33m(\u001B[0m\u001B[0mFigure\u001B[0m\u001B[1;33m,\u001B[0m \u001B[1;32mlambda\u001B[0m \u001B[0mfig\u001B[0m\u001B[1;33m:\u001B[0m \u001B[0mretina_figure\u001B[0m\u001B[1;33m(\u001B[0m\u001B[0mfig\u001B[0m\u001B[1;33m,\u001B[0m \u001B[1;33m**\u001B[0m\u001B[0mkwargs\u001B[0m\u001B[1;33m)\u001B[0m\u001B[1;33m)\u001B[0m\u001B[1;33m\u001B[0m\u001B[1;33m\u001B[0m\u001B[0m\n",
      "\u001B[1;32m~\\anaconda3\\lib\\site-packages\\IPython\\core\\pylabtools.py\u001B[0m in \u001B[0;36mprint_figure\u001B[1;34m(fig, fmt, bbox_inches, **kwargs)\u001B[0m\n\u001B[0;32m    130\u001B[0m         \u001B[0mFigureCanvasBase\u001B[0m\u001B[1;33m(\u001B[0m\u001B[0mfig\u001B[0m\u001B[1;33m)\u001B[0m\u001B[1;33m\u001B[0m\u001B[1;33m\u001B[0m\u001B[0m\n\u001B[0;32m    131\u001B[0m \u001B[1;33m\u001B[0m\u001B[0m\n\u001B[1;32m--> 132\u001B[1;33m     \u001B[0mfig\u001B[0m\u001B[1;33m.\u001B[0m\u001B[0mcanvas\u001B[0m\u001B[1;33m.\u001B[0m\u001B[0mprint_figure\u001B[0m\u001B[1;33m(\u001B[0m\u001B[0mbytes_io\u001B[0m\u001B[1;33m,\u001B[0m \u001B[1;33m**\u001B[0m\u001B[0mkw\u001B[0m\u001B[1;33m)\u001B[0m\u001B[1;33m\u001B[0m\u001B[1;33m\u001B[0m\u001B[0m\n\u001B[0m\u001B[0;32m    133\u001B[0m     \u001B[0mdata\u001B[0m \u001B[1;33m=\u001B[0m \u001B[0mbytes_io\u001B[0m\u001B[1;33m.\u001B[0m\u001B[0mgetvalue\u001B[0m\u001B[1;33m(\u001B[0m\u001B[1;33m)\u001B[0m\u001B[1;33m\u001B[0m\u001B[1;33m\u001B[0m\u001B[0m\n\u001B[0;32m    134\u001B[0m     \u001B[1;32mif\u001B[0m \u001B[0mfmt\u001B[0m \u001B[1;33m==\u001B[0m \u001B[1;34m'svg'\u001B[0m\u001B[1;33m:\u001B[0m\u001B[1;33m\u001B[0m\u001B[1;33m\u001B[0m\u001B[0m\n",
      "\u001B[1;32m~\\anaconda3\\lib\\site-packages\\matplotlib\\backend_bases.py\u001B[0m in \u001B[0;36mprint_figure\u001B[1;34m(self, filename, dpi, facecolor, edgecolor, orientation, format, bbox_inches, pad_inches, bbox_extra_artists, backend, **kwargs)\u001B[0m\n\u001B[0;32m   2193\u001B[0m                         \u001B[0mself\u001B[0m\u001B[1;33m.\u001B[0m\u001B[0mfigure\u001B[0m\u001B[1;33m.\u001B[0m\u001B[0mdraw\u001B[0m\u001B[1;33m(\u001B[0m\u001B[0mrenderer\u001B[0m\u001B[1;33m)\u001B[0m\u001B[1;33m\u001B[0m\u001B[1;33m\u001B[0m\u001B[0m\n\u001B[0;32m   2194\u001B[0m \u001B[1;33m\u001B[0m\u001B[0m\n\u001B[1;32m-> 2195\u001B[1;33m                     bbox_inches = self.figure.get_tightbbox(\n\u001B[0m\u001B[0;32m   2196\u001B[0m                         renderer, bbox_extra_artists=bbox_extra_artists)\n\u001B[0;32m   2197\u001B[0m                     \u001B[1;32mif\u001B[0m \u001B[0mpad_inches\u001B[0m \u001B[1;32mis\u001B[0m \u001B[1;32mNone\u001B[0m\u001B[1;33m:\u001B[0m\u001B[1;33m\u001B[0m\u001B[1;33m\u001B[0m\u001B[0m\n",
      "\u001B[1;32m~\\anaconda3\\lib\\site-packages\\matplotlib\\figure.py\u001B[0m in \u001B[0;36mget_tightbbox\u001B[1;34m(self, renderer, bbox_extra_artists)\u001B[0m\n\u001B[0;32m   2504\u001B[0m \u001B[1;33m\u001B[0m\u001B[0m\n\u001B[0;32m   2505\u001B[0m         \u001B[1;32mfor\u001B[0m \u001B[0ma\u001B[0m \u001B[1;32min\u001B[0m \u001B[0martists\u001B[0m\u001B[1;33m:\u001B[0m\u001B[1;33m\u001B[0m\u001B[1;33m\u001B[0m\u001B[0m\n\u001B[1;32m-> 2506\u001B[1;33m             \u001B[0mbbox\u001B[0m \u001B[1;33m=\u001B[0m \u001B[0ma\u001B[0m\u001B[1;33m.\u001B[0m\u001B[0mget_tightbbox\u001B[0m\u001B[1;33m(\u001B[0m\u001B[0mrenderer\u001B[0m\u001B[1;33m)\u001B[0m\u001B[1;33m\u001B[0m\u001B[1;33m\u001B[0m\u001B[0m\n\u001B[0m\u001B[0;32m   2507\u001B[0m             \u001B[1;32mif\u001B[0m \u001B[0mbbox\u001B[0m \u001B[1;32mis\u001B[0m \u001B[1;32mnot\u001B[0m \u001B[1;32mNone\u001B[0m \u001B[1;32mand\u001B[0m \u001B[1;33m(\u001B[0m\u001B[0mbbox\u001B[0m\u001B[1;33m.\u001B[0m\u001B[0mwidth\u001B[0m \u001B[1;33m!=\u001B[0m \u001B[1;36m0\u001B[0m \u001B[1;32mor\u001B[0m \u001B[0mbbox\u001B[0m\u001B[1;33m.\u001B[0m\u001B[0mheight\u001B[0m \u001B[1;33m!=\u001B[0m \u001B[1;36m0\u001B[0m\u001B[1;33m)\u001B[0m\u001B[1;33m:\u001B[0m\u001B[1;33m\u001B[0m\u001B[1;33m\u001B[0m\u001B[0m\n\u001B[0;32m   2508\u001B[0m                 \u001B[0mbb\u001B[0m\u001B[1;33m.\u001B[0m\u001B[0mappend\u001B[0m\u001B[1;33m(\u001B[0m\u001B[0mbbox\u001B[0m\u001B[1;33m)\u001B[0m\u001B[1;33m\u001B[0m\u001B[1;33m\u001B[0m\u001B[0m\n",
      "\u001B[1;32m~\\anaconda3\\lib\\site-packages\\matplotlib\\axes\\_base.py\u001B[0m in \u001B[0;36mget_tightbbox\u001B[1;34m(self, renderer, call_axes_locator, bbox_extra_artists, for_layout_only)\u001B[0m\n\u001B[0;32m   4151\u001B[0m             \u001B[1;32mif\u001B[0m \u001B[0mself\u001B[0m\u001B[1;33m.\u001B[0m\u001B[0mxaxis\u001B[0m\u001B[1;33m.\u001B[0m\u001B[0mget_visible\u001B[0m\u001B[1;33m(\u001B[0m\u001B[1;33m)\u001B[0m\u001B[1;33m:\u001B[0m\u001B[1;33m\u001B[0m\u001B[1;33m\u001B[0m\u001B[0m\n\u001B[0;32m   4152\u001B[0m                 \u001B[1;32mtry\u001B[0m\u001B[1;33m:\u001B[0m\u001B[1;33m\u001B[0m\u001B[1;33m\u001B[0m\u001B[0m\n\u001B[1;32m-> 4153\u001B[1;33m                     bb_xaxis = self.xaxis.get_tightbbox(\n\u001B[0m\u001B[0;32m   4154\u001B[0m                         renderer, for_layout_only=for_layout_only)\n\u001B[0;32m   4155\u001B[0m                 \u001B[1;32mexcept\u001B[0m \u001B[0mTypeError\u001B[0m\u001B[1;33m:\u001B[0m\u001B[1;33m\u001B[0m\u001B[1;33m\u001B[0m\u001B[0m\n",
      "\u001B[1;32m~\\anaconda3\\lib\\site-packages\\matplotlib\\axis.py\u001B[0m in \u001B[0;36mget_tightbbox\u001B[1;34m(self, renderer, for_layout_only)\u001B[0m\n\u001B[0;32m   1109\u001B[0m         \u001B[0mticks_to_draw\u001B[0m \u001B[1;33m=\u001B[0m \u001B[0mself\u001B[0m\u001B[1;33m.\u001B[0m\u001B[0m_update_ticks\u001B[0m\u001B[1;33m(\u001B[0m\u001B[1;33m)\u001B[0m\u001B[1;33m\u001B[0m\u001B[1;33m\u001B[0m\u001B[0m\n\u001B[0;32m   1110\u001B[0m \u001B[1;33m\u001B[0m\u001B[0m\n\u001B[1;32m-> 1111\u001B[1;33m         \u001B[0mself\u001B[0m\u001B[1;33m.\u001B[0m\u001B[0m_update_label_position\u001B[0m\u001B[1;33m(\u001B[0m\u001B[0mrenderer\u001B[0m\u001B[1;33m)\u001B[0m\u001B[1;33m\u001B[0m\u001B[1;33m\u001B[0m\u001B[0m\n\u001B[0m\u001B[0;32m   1112\u001B[0m \u001B[1;33m\u001B[0m\u001B[0m\n\u001B[0;32m   1113\u001B[0m         \u001B[1;31m# go back to just this axis's tick labels\u001B[0m\u001B[1;33m\u001B[0m\u001B[1;33m\u001B[0m\u001B[1;33m\u001B[0m\u001B[0m\n",
      "\u001B[1;32m~\\anaconda3\\lib\\site-packages\\matplotlib\\axis.py\u001B[0m in \u001B[0;36m_update_label_position\u001B[1;34m(self, renderer)\u001B[0m\n\u001B[0;32m   2059\u001B[0m         \u001B[1;31m# get bounding boxes for this axis and any siblings\u001B[0m\u001B[1;33m\u001B[0m\u001B[1;33m\u001B[0m\u001B[1;33m\u001B[0m\u001B[0m\n\u001B[0;32m   2060\u001B[0m         \u001B[1;31m# that have been set by `fig.align_xlabels()`\u001B[0m\u001B[1;33m\u001B[0m\u001B[1;33m\u001B[0m\u001B[1;33m\u001B[0m\u001B[0m\n\u001B[1;32m-> 2061\u001B[1;33m         \u001B[0mbboxes\u001B[0m\u001B[1;33m,\u001B[0m \u001B[0mbboxes2\u001B[0m \u001B[1;33m=\u001B[0m \u001B[0mself\u001B[0m\u001B[1;33m.\u001B[0m\u001B[0m_get_tick_boxes_siblings\u001B[0m\u001B[1;33m(\u001B[0m\u001B[0mrenderer\u001B[0m\u001B[1;33m=\u001B[0m\u001B[0mrenderer\u001B[0m\u001B[1;33m)\u001B[0m\u001B[1;33m\u001B[0m\u001B[1;33m\u001B[0m\u001B[0m\n\u001B[0m\u001B[0;32m   2062\u001B[0m \u001B[1;33m\u001B[0m\u001B[0m\n\u001B[0;32m   2063\u001B[0m         \u001B[0mx\u001B[0m\u001B[1;33m,\u001B[0m \u001B[0my\u001B[0m \u001B[1;33m=\u001B[0m \u001B[0mself\u001B[0m\u001B[1;33m.\u001B[0m\u001B[0mlabel\u001B[0m\u001B[1;33m.\u001B[0m\u001B[0mget_position\u001B[0m\u001B[1;33m(\u001B[0m\u001B[1;33m)\u001B[0m\u001B[1;33m\u001B[0m\u001B[1;33m\u001B[0m\u001B[0m\n",
      "\u001B[1;32m~\\anaconda3\\lib\\site-packages\\matplotlib\\axis.py\u001B[0m in \u001B[0;36m_get_tick_boxes_siblings\u001B[1;34m(self, renderer)\u001B[0m\n\u001B[0;32m   2044\u001B[0m         \u001B[1;32mfor\u001B[0m \u001B[0mnn\u001B[0m\u001B[1;33m,\u001B[0m \u001B[0maxx\u001B[0m \u001B[1;32min\u001B[0m \u001B[0menumerate\u001B[0m\u001B[1;33m(\u001B[0m\u001B[0mgrp\u001B[0m\u001B[1;33m.\u001B[0m\u001B[0mget_siblings\u001B[0m\u001B[1;33m(\u001B[0m\u001B[0mself\u001B[0m\u001B[1;33m.\u001B[0m\u001B[0maxes\u001B[0m\u001B[1;33m)\u001B[0m\u001B[1;33m)\u001B[0m\u001B[1;33m:\u001B[0m\u001B[1;33m\u001B[0m\u001B[1;33m\u001B[0m\u001B[0m\n\u001B[0;32m   2045\u001B[0m             \u001B[0mticks_to_draw\u001B[0m \u001B[1;33m=\u001B[0m \u001B[0maxx\u001B[0m\u001B[1;33m.\u001B[0m\u001B[0mxaxis\u001B[0m\u001B[1;33m.\u001B[0m\u001B[0m_update_ticks\u001B[0m\u001B[1;33m(\u001B[0m\u001B[1;33m)\u001B[0m\u001B[1;33m\u001B[0m\u001B[1;33m\u001B[0m\u001B[0m\n\u001B[1;32m-> 2046\u001B[1;33m             \u001B[0mtlb\u001B[0m\u001B[1;33m,\u001B[0m \u001B[0mtlb2\u001B[0m \u001B[1;33m=\u001B[0m \u001B[0maxx\u001B[0m\u001B[1;33m.\u001B[0m\u001B[0mxaxis\u001B[0m\u001B[1;33m.\u001B[0m\u001B[0m_get_tick_bboxes\u001B[0m\u001B[1;33m(\u001B[0m\u001B[0mticks_to_draw\u001B[0m\u001B[1;33m,\u001B[0m \u001B[0mrenderer\u001B[0m\u001B[1;33m)\u001B[0m\u001B[1;33m\u001B[0m\u001B[1;33m\u001B[0m\u001B[0m\n\u001B[0m\u001B[0;32m   2047\u001B[0m             \u001B[0mbboxes\u001B[0m\u001B[1;33m.\u001B[0m\u001B[0mextend\u001B[0m\u001B[1;33m(\u001B[0m\u001B[0mtlb\u001B[0m\u001B[1;33m)\u001B[0m\u001B[1;33m\u001B[0m\u001B[1;33m\u001B[0m\u001B[0m\n\u001B[0;32m   2048\u001B[0m             \u001B[0mbboxes2\u001B[0m\u001B[1;33m.\u001B[0m\u001B[0mextend\u001B[0m\u001B[1;33m(\u001B[0m\u001B[0mtlb2\u001B[0m\u001B[1;33m)\u001B[0m\u001B[1;33m\u001B[0m\u001B[1;33m\u001B[0m\u001B[0m\n",
      "\u001B[1;32m~\\anaconda3\\lib\\site-packages\\matplotlib\\axis.py\u001B[0m in \u001B[0;36m_get_tick_bboxes\u001B[1;34m(self, ticks, renderer)\u001B[0m\n\u001B[0;32m   1089\u001B[0m     \u001B[1;32mdef\u001B[0m \u001B[0m_get_tick_bboxes\u001B[0m\u001B[1;33m(\u001B[0m\u001B[0mself\u001B[0m\u001B[1;33m,\u001B[0m \u001B[0mticks\u001B[0m\u001B[1;33m,\u001B[0m \u001B[0mrenderer\u001B[0m\u001B[1;33m)\u001B[0m\u001B[1;33m:\u001B[0m\u001B[1;33m\u001B[0m\u001B[1;33m\u001B[0m\u001B[0m\n\u001B[0;32m   1090\u001B[0m         \u001B[1;34m\"\"\"Return lists of bboxes for ticks' label1's and label2's.\"\"\"\u001B[0m\u001B[1;33m\u001B[0m\u001B[1;33m\u001B[0m\u001B[0m\n\u001B[1;32m-> 1091\u001B[1;33m         return ([tick.label1.get_window_extent(renderer)\n\u001B[0m\u001B[0;32m   1092\u001B[0m                  for tick in ticks if tick.label1.get_visible()],\n\u001B[0;32m   1093\u001B[0m                 [tick.label2.get_window_extent(renderer)\n",
      "\u001B[1;32m~\\anaconda3\\lib\\site-packages\\matplotlib\\axis.py\u001B[0m in \u001B[0;36m<listcomp>\u001B[1;34m(.0)\u001B[0m\n\u001B[0;32m   1089\u001B[0m     \u001B[1;32mdef\u001B[0m \u001B[0m_get_tick_bboxes\u001B[0m\u001B[1;33m(\u001B[0m\u001B[0mself\u001B[0m\u001B[1;33m,\u001B[0m \u001B[0mticks\u001B[0m\u001B[1;33m,\u001B[0m \u001B[0mrenderer\u001B[0m\u001B[1;33m)\u001B[0m\u001B[1;33m:\u001B[0m\u001B[1;33m\u001B[0m\u001B[1;33m\u001B[0m\u001B[0m\n\u001B[0;32m   1090\u001B[0m         \u001B[1;34m\"\"\"Return lists of bboxes for ticks' label1's and label2's.\"\"\"\u001B[0m\u001B[1;33m\u001B[0m\u001B[1;33m\u001B[0m\u001B[0m\n\u001B[1;32m-> 1091\u001B[1;33m         return ([tick.label1.get_window_extent(renderer)\n\u001B[0m\u001B[0;32m   1092\u001B[0m                  for tick in ticks if tick.label1.get_visible()],\n\u001B[0;32m   1093\u001B[0m                 [tick.label2.get_window_extent(renderer)\n",
      "\u001B[1;32m~\\anaconda3\\lib\\site-packages\\matplotlib\\text.py\u001B[0m in \u001B[0;36mget_window_extent\u001B[1;34m(self, renderer, dpi)\u001B[0m\n\u001B[0;32m    902\u001B[0m             \u001B[0mbbox\u001B[0m\u001B[1;33m,\u001B[0m \u001B[0minfo\u001B[0m\u001B[1;33m,\u001B[0m \u001B[0mdescent\u001B[0m \u001B[1;33m=\u001B[0m \u001B[0mself\u001B[0m\u001B[1;33m.\u001B[0m\u001B[0m_get_layout\u001B[0m\u001B[1;33m(\u001B[0m\u001B[0mself\u001B[0m\u001B[1;33m.\u001B[0m\u001B[0m_renderer\u001B[0m\u001B[1;33m)\u001B[0m\u001B[1;33m\u001B[0m\u001B[1;33m\u001B[0m\u001B[0m\n\u001B[0;32m    903\u001B[0m             \u001B[0mx\u001B[0m\u001B[1;33m,\u001B[0m \u001B[0my\u001B[0m \u001B[1;33m=\u001B[0m \u001B[0mself\u001B[0m\u001B[1;33m.\u001B[0m\u001B[0mget_unitless_position\u001B[0m\u001B[1;33m(\u001B[0m\u001B[1;33m)\u001B[0m\u001B[1;33m\u001B[0m\u001B[1;33m\u001B[0m\u001B[0m\n\u001B[1;32m--> 904\u001B[1;33m             \u001B[0mx\u001B[0m\u001B[1;33m,\u001B[0m \u001B[0my\u001B[0m \u001B[1;33m=\u001B[0m \u001B[0mself\u001B[0m\u001B[1;33m.\u001B[0m\u001B[0mget_transform\u001B[0m\u001B[1;33m(\u001B[0m\u001B[1;33m)\u001B[0m\u001B[1;33m.\u001B[0m\u001B[0mtransform\u001B[0m\u001B[1;33m(\u001B[0m\u001B[1;33m(\u001B[0m\u001B[0mx\u001B[0m\u001B[1;33m,\u001B[0m \u001B[0my\u001B[0m\u001B[1;33m)\u001B[0m\u001B[1;33m)\u001B[0m\u001B[1;33m\u001B[0m\u001B[1;33m\u001B[0m\u001B[0m\n\u001B[0m\u001B[0;32m    905\u001B[0m             \u001B[0mbbox\u001B[0m \u001B[1;33m=\u001B[0m \u001B[0mbbox\u001B[0m\u001B[1;33m.\u001B[0m\u001B[0mtranslated\u001B[0m\u001B[1;33m(\u001B[0m\u001B[0mx\u001B[0m\u001B[1;33m,\u001B[0m \u001B[0my\u001B[0m\u001B[1;33m)\u001B[0m\u001B[1;33m\u001B[0m\u001B[1;33m\u001B[0m\u001B[0m\n\u001B[0;32m    906\u001B[0m             \u001B[1;32mreturn\u001B[0m \u001B[0mbbox\u001B[0m\u001B[1;33m\u001B[0m\u001B[1;33m\u001B[0m\u001B[0m\n",
      "\u001B[1;32m~\\anaconda3\\lib\\site-packages\\matplotlib\\transforms.py\u001B[0m in \u001B[0;36mtransform\u001B[1;34m(self, values)\u001B[0m\n\u001B[0;32m   1420\u001B[0m \u001B[1;33m\u001B[0m\u001B[0m\n\u001B[0;32m   1421\u001B[0m         \u001B[1;31m# Transform the values\u001B[0m\u001B[1;33m\u001B[0m\u001B[1;33m\u001B[0m\u001B[1;33m\u001B[0m\u001B[0m\n\u001B[1;32m-> 1422\u001B[1;33m         \u001B[0mres\u001B[0m \u001B[1;33m=\u001B[0m \u001B[0mself\u001B[0m\u001B[1;33m.\u001B[0m\u001B[0mtransform_affine\u001B[0m\u001B[1;33m(\u001B[0m\u001B[0mself\u001B[0m\u001B[1;33m.\u001B[0m\u001B[0mtransform_non_affine\u001B[0m\u001B[1;33m(\u001B[0m\u001B[0mvalues\u001B[0m\u001B[1;33m)\u001B[0m\u001B[1;33m)\u001B[0m\u001B[1;33m\u001B[0m\u001B[1;33m\u001B[0m\u001B[0m\n\u001B[0m\u001B[0;32m   1423\u001B[0m \u001B[1;33m\u001B[0m\u001B[0m\n\u001B[0;32m   1424\u001B[0m         \u001B[1;31m# Convert the result back to the shape of the input values.\u001B[0m\u001B[1;33m\u001B[0m\u001B[1;33m\u001B[0m\u001B[1;33m\u001B[0m\u001B[0m\n",
      "\u001B[1;32m~\\anaconda3\\lib\\site-packages\\matplotlib\\transforms.py\u001B[0m in \u001B[0;36mtransform_affine\u001B[1;34m(self, points)\u001B[0m\n\u001B[0;32m   2342\u001B[0m     \u001B[1;32mdef\u001B[0m \u001B[0mtransform_affine\u001B[0m\u001B[1;33m(\u001B[0m\u001B[0mself\u001B[0m\u001B[1;33m,\u001B[0m \u001B[0mpoints\u001B[0m\u001B[1;33m)\u001B[0m\u001B[1;33m:\u001B[0m\u001B[1;33m\u001B[0m\u001B[1;33m\u001B[0m\u001B[0m\n\u001B[0;32m   2343\u001B[0m         \u001B[1;31m# docstring inherited\u001B[0m\u001B[1;33m\u001B[0m\u001B[1;33m\u001B[0m\u001B[1;33m\u001B[0m\u001B[0m\n\u001B[1;32m-> 2344\u001B[1;33m         \u001B[1;32mreturn\u001B[0m \u001B[0mself\u001B[0m\u001B[1;33m.\u001B[0m\u001B[0mget_affine\u001B[0m\u001B[1;33m(\u001B[0m\u001B[1;33m)\u001B[0m\u001B[1;33m.\u001B[0m\u001B[0mtransform\u001B[0m\u001B[1;33m(\u001B[0m\u001B[0mpoints\u001B[0m\u001B[1;33m)\u001B[0m\u001B[1;33m\u001B[0m\u001B[1;33m\u001B[0m\u001B[0m\n\u001B[0m\u001B[0;32m   2345\u001B[0m \u001B[1;33m\u001B[0m\u001B[0m\n\u001B[0;32m   2346\u001B[0m     \u001B[1;32mdef\u001B[0m \u001B[0mtransform_non_affine\u001B[0m\u001B[1;33m(\u001B[0m\u001B[0mself\u001B[0m\u001B[1;33m,\u001B[0m \u001B[0mpoints\u001B[0m\u001B[1;33m)\u001B[0m\u001B[1;33m:\u001B[0m\u001B[1;33m\u001B[0m\u001B[1;33m\u001B[0m\u001B[0m\n",
      "\u001B[1;32m~\\anaconda3\\lib\\site-packages\\matplotlib\\transforms.py\u001B[0m in \u001B[0;36mget_affine\u001B[1;34m(self)\u001B[0m\n\u001B[0;32m   2369\u001B[0m             \u001B[1;32mreturn\u001B[0m \u001B[0mself\u001B[0m\u001B[1;33m.\u001B[0m\u001B[0m_b\u001B[0m\u001B[1;33m.\u001B[0m\u001B[0mget_affine\u001B[0m\u001B[1;33m(\u001B[0m\u001B[1;33m)\u001B[0m\u001B[1;33m\u001B[0m\u001B[1;33m\u001B[0m\u001B[0m\n\u001B[0;32m   2370\u001B[0m         \u001B[1;32melse\u001B[0m\u001B[1;33m:\u001B[0m\u001B[1;33m\u001B[0m\u001B[1;33m\u001B[0m\u001B[0m\n\u001B[1;32m-> 2371\u001B[1;33m             return Affine2D(np.dot(self._b.get_affine().get_matrix(),\n\u001B[0m\u001B[0;32m   2372\u001B[0m                                    self._a.get_affine().get_matrix()))\n\u001B[0;32m   2373\u001B[0m \u001B[1;33m\u001B[0m\u001B[0m\n",
      "\u001B[1;32m<__array_function__ internals>\u001B[0m in \u001B[0;36mdot\u001B[1;34m(*args, **kwargs)\u001B[0m\n",
      "\u001B[1;31mKeyboardInterrupt\u001B[0m: "
     ]
    }
   ],
   "source": [
    "plt.rcParams['figure.figsize'] = [50, 50]\n",
    "pd.plotting.scatter_matrix(data, hist_kwds={'bins':30})\n",
    "plt.show()"
   ],
   "metadata": {
    "collapsed": false,
    "pycharm": {
     "name": "#%%\n"
    }
   }
  },
  {
   "cell_type": "code",
   "execution_count": null,
   "outputs": [],
   "source": [
    "import statsmodels.formula.api as smf\n",
    "\n",
    "target = 'LogSalePrice'\n",
    "covariates = [var for var in data.columns if var != target]\n",
    "model = smf.ols(formula= target + \" ~ \" + \" + \".join(covariates), data=data).fit()\n",
    "model.summary2()\n",
    "\n",
    "# OverallQual OverallCond"
   ],
   "metadata": {
    "collapsed": false,
    "pycharm": {
     "name": "#%%\n"
    }
   }
  },
  {
   "cell_type": "code",
   "execution_count": 9,
   "outputs": [
    {
     "ename": "ValueError",
     "evalue": "zero-size array to reduction operation maximum which has no identity",
     "output_type": "error",
     "traceback": [
      "\u001B[1;31m---------------------------------------------------------------------------\u001B[0m",
      "\u001B[1;31mValueError\u001B[0m                                Traceback (most recent call last)",
      "\u001B[1;32m<ipython-input-9-fc404f2e1346>\u001B[0m in \u001B[0;36m<module>\u001B[1;34m\u001B[0m\n\u001B[0;32m      1\u001B[0m \u001B[1;32mimport\u001B[0m \u001B[0mstatsmodels\u001B[0m\u001B[1;33m.\u001B[0m\u001B[0mformula\u001B[0m\u001B[1;33m.\u001B[0m\u001B[0mapi\u001B[0m \u001B[1;32mas\u001B[0m \u001B[0msmf\u001B[0m\u001B[1;33m\u001B[0m\u001B[1;33m\u001B[0m\u001B[0m\n\u001B[1;32m----> 2\u001B[1;33m \u001B[0mtrivial_model\u001B[0m \u001B[1;33m=\u001B[0m \u001B[0msmf\u001B[0m\u001B[1;33m.\u001B[0m\u001B[0mols\u001B[0m\u001B[1;33m(\u001B[0m\u001B[0mformula\u001B[0m\u001B[1;33m=\u001B[0m\u001B[1;34m'OverallQual ~ 0'\u001B[0m\u001B[1;33m,\u001B[0m \u001B[0mdata\u001B[0m\u001B[1;33m=\u001B[0m\u001B[0mdata\u001B[0m\u001B[1;33m)\u001B[0m\u001B[1;33m.\u001B[0m\u001B[0mfit\u001B[0m\u001B[1;33m(\u001B[0m\u001B[1;33m)\u001B[0m\u001B[1;33m\u001B[0m\u001B[1;33m\u001B[0m\u001B[0m\n\u001B[0m",
      "\u001B[1;32m~\\anaconda3\\lib\\site-packages\\statsmodels\\base\\model.py\u001B[0m in \u001B[0;36mfrom_formula\u001B[1;34m(cls, formula, data, subset, drop_cols, *args, **kwargs)\u001B[0m\n\u001B[0;32m    193\u001B[0m                        \u001B[1;34m'formula'\u001B[0m\u001B[1;33m:\u001B[0m \u001B[0mformula\u001B[0m\u001B[1;33m,\u001B[0m  \u001B[1;31m# attach formula for unpckling\u001B[0m\u001B[1;33m\u001B[0m\u001B[1;33m\u001B[0m\u001B[0m\n\u001B[0;32m    194\u001B[0m                        'design_info': design_info})\n\u001B[1;32m--> 195\u001B[1;33m         \u001B[0mmod\u001B[0m \u001B[1;33m=\u001B[0m \u001B[0mcls\u001B[0m\u001B[1;33m(\u001B[0m\u001B[0mendog\u001B[0m\u001B[1;33m,\u001B[0m \u001B[0mexog\u001B[0m\u001B[1;33m,\u001B[0m \u001B[1;33m*\u001B[0m\u001B[0margs\u001B[0m\u001B[1;33m,\u001B[0m \u001B[1;33m**\u001B[0m\u001B[0mkwargs\u001B[0m\u001B[1;33m)\u001B[0m\u001B[1;33m\u001B[0m\u001B[1;33m\u001B[0m\u001B[0m\n\u001B[0m\u001B[0;32m    196\u001B[0m         \u001B[0mmod\u001B[0m\u001B[1;33m.\u001B[0m\u001B[0mformula\u001B[0m \u001B[1;33m=\u001B[0m \u001B[0mformula\u001B[0m\u001B[1;33m\u001B[0m\u001B[1;33m\u001B[0m\u001B[0m\n\u001B[0;32m    197\u001B[0m \u001B[1;33m\u001B[0m\u001B[0m\n",
      "\u001B[1;32m~\\anaconda3\\lib\\site-packages\\statsmodels\\regression\\linear_model.py\u001B[0m in \u001B[0;36m__init__\u001B[1;34m(self, endog, exog, missing, hasconst, **kwargs)\u001B[0m\n\u001B[0;32m    870\u001B[0m     def __init__(self, endog, exog=None, missing='none', hasconst=None,\n\u001B[0;32m    871\u001B[0m                  **kwargs):\n\u001B[1;32m--> 872\u001B[1;33m         super(OLS, self).__init__(endog, exog, missing=missing,\n\u001B[0m\u001B[0;32m    873\u001B[0m                                   hasconst=hasconst, **kwargs)\n\u001B[0;32m    874\u001B[0m         \u001B[1;32mif\u001B[0m \u001B[1;34m\"weights\"\u001B[0m \u001B[1;32min\u001B[0m \u001B[0mself\u001B[0m\u001B[1;33m.\u001B[0m\u001B[0m_init_keys\u001B[0m\u001B[1;33m:\u001B[0m\u001B[1;33m\u001B[0m\u001B[1;33m\u001B[0m\u001B[0m\n",
      "\u001B[1;32m~\\anaconda3\\lib\\site-packages\\statsmodels\\regression\\linear_model.py\u001B[0m in \u001B[0;36m__init__\u001B[1;34m(self, endog, exog, weights, missing, hasconst, **kwargs)\u001B[0m\n\u001B[0;32m    701\u001B[0m         \u001B[1;32melse\u001B[0m\u001B[1;33m:\u001B[0m\u001B[1;33m\u001B[0m\u001B[1;33m\u001B[0m\u001B[0m\n\u001B[0;32m    702\u001B[0m             \u001B[0mweights\u001B[0m \u001B[1;33m=\u001B[0m \u001B[0mweights\u001B[0m\u001B[1;33m.\u001B[0m\u001B[0msqueeze\u001B[0m\u001B[1;33m(\u001B[0m\u001B[1;33m)\u001B[0m\u001B[1;33m\u001B[0m\u001B[1;33m\u001B[0m\u001B[0m\n\u001B[1;32m--> 703\u001B[1;33m         super(WLS, self).__init__(endog, exog, missing=missing,\n\u001B[0m\u001B[0;32m    704\u001B[0m                                   weights=weights, hasconst=hasconst, **kwargs)\n\u001B[0;32m    705\u001B[0m         \u001B[0mnobs\u001B[0m \u001B[1;33m=\u001B[0m \u001B[0mself\u001B[0m\u001B[1;33m.\u001B[0m\u001B[0mexog\u001B[0m\u001B[1;33m.\u001B[0m\u001B[0mshape\u001B[0m\u001B[1;33m[\u001B[0m\u001B[1;36m0\u001B[0m\u001B[1;33m]\u001B[0m\u001B[1;33m\u001B[0m\u001B[1;33m\u001B[0m\u001B[0m\n",
      "\u001B[1;32m~\\anaconda3\\lib\\site-packages\\statsmodels\\regression\\linear_model.py\u001B[0m in \u001B[0;36m__init__\u001B[1;34m(self, endog, exog, **kwargs)\u001B[0m\n\u001B[0;32m    188\u001B[0m     \"\"\"\n\u001B[0;32m    189\u001B[0m     \u001B[1;32mdef\u001B[0m \u001B[0m__init__\u001B[0m\u001B[1;33m(\u001B[0m\u001B[0mself\u001B[0m\u001B[1;33m,\u001B[0m \u001B[0mendog\u001B[0m\u001B[1;33m,\u001B[0m \u001B[0mexog\u001B[0m\u001B[1;33m,\u001B[0m \u001B[1;33m**\u001B[0m\u001B[0mkwargs\u001B[0m\u001B[1;33m)\u001B[0m\u001B[1;33m:\u001B[0m\u001B[1;33m\u001B[0m\u001B[1;33m\u001B[0m\u001B[0m\n\u001B[1;32m--> 190\u001B[1;33m         \u001B[0msuper\u001B[0m\u001B[1;33m(\u001B[0m\u001B[0mRegressionModel\u001B[0m\u001B[1;33m,\u001B[0m \u001B[0mself\u001B[0m\u001B[1;33m)\u001B[0m\u001B[1;33m.\u001B[0m\u001B[0m__init__\u001B[0m\u001B[1;33m(\u001B[0m\u001B[0mendog\u001B[0m\u001B[1;33m,\u001B[0m \u001B[0mexog\u001B[0m\u001B[1;33m,\u001B[0m \u001B[1;33m**\u001B[0m\u001B[0mkwargs\u001B[0m\u001B[1;33m)\u001B[0m\u001B[1;33m\u001B[0m\u001B[1;33m\u001B[0m\u001B[0m\n\u001B[0m\u001B[0;32m    191\u001B[0m         \u001B[0mself\u001B[0m\u001B[1;33m.\u001B[0m\u001B[0m_data_attr\u001B[0m\u001B[1;33m.\u001B[0m\u001B[0mextend\u001B[0m\u001B[1;33m(\u001B[0m\u001B[1;33m[\u001B[0m\u001B[1;34m'pinv_wexog'\u001B[0m\u001B[1;33m,\u001B[0m \u001B[1;34m'weights'\u001B[0m\u001B[1;33m]\u001B[0m\u001B[1;33m)\u001B[0m\u001B[1;33m\u001B[0m\u001B[1;33m\u001B[0m\u001B[0m\n\u001B[0;32m    192\u001B[0m \u001B[1;33m\u001B[0m\u001B[0m\n",
      "\u001B[1;32m~\\anaconda3\\lib\\site-packages\\statsmodels\\base\\model.py\u001B[0m in \u001B[0;36m__init__\u001B[1;34m(self, endog, exog, **kwargs)\u001B[0m\n\u001B[0;32m    235\u001B[0m \u001B[1;33m\u001B[0m\u001B[0m\n\u001B[0;32m    236\u001B[0m     \u001B[1;32mdef\u001B[0m \u001B[0m__init__\u001B[0m\u001B[1;33m(\u001B[0m\u001B[0mself\u001B[0m\u001B[1;33m,\u001B[0m \u001B[0mendog\u001B[0m\u001B[1;33m,\u001B[0m \u001B[0mexog\u001B[0m\u001B[1;33m=\u001B[0m\u001B[1;32mNone\u001B[0m\u001B[1;33m,\u001B[0m \u001B[1;33m**\u001B[0m\u001B[0mkwargs\u001B[0m\u001B[1;33m)\u001B[0m\u001B[1;33m:\u001B[0m\u001B[1;33m\u001B[0m\u001B[1;33m\u001B[0m\u001B[0m\n\u001B[1;32m--> 237\u001B[1;33m         \u001B[0msuper\u001B[0m\u001B[1;33m(\u001B[0m\u001B[0mLikelihoodModel\u001B[0m\u001B[1;33m,\u001B[0m \u001B[0mself\u001B[0m\u001B[1;33m)\u001B[0m\u001B[1;33m.\u001B[0m\u001B[0m__init__\u001B[0m\u001B[1;33m(\u001B[0m\u001B[0mendog\u001B[0m\u001B[1;33m,\u001B[0m \u001B[0mexog\u001B[0m\u001B[1;33m,\u001B[0m \u001B[1;33m**\u001B[0m\u001B[0mkwargs\u001B[0m\u001B[1;33m)\u001B[0m\u001B[1;33m\u001B[0m\u001B[1;33m\u001B[0m\u001B[0m\n\u001B[0m\u001B[0;32m    238\u001B[0m         \u001B[0mself\u001B[0m\u001B[1;33m.\u001B[0m\u001B[0minitialize\u001B[0m\u001B[1;33m(\u001B[0m\u001B[1;33m)\u001B[0m\u001B[1;33m\u001B[0m\u001B[1;33m\u001B[0m\u001B[0m\n\u001B[0;32m    239\u001B[0m \u001B[1;33m\u001B[0m\u001B[0m\n",
      "\u001B[1;32m~\\anaconda3\\lib\\site-packages\\statsmodels\\base\\model.py\u001B[0m in \u001B[0;36m__init__\u001B[1;34m(self, endog, exog, **kwargs)\u001B[0m\n\u001B[0;32m     75\u001B[0m         \u001B[0mmissing\u001B[0m \u001B[1;33m=\u001B[0m \u001B[0mkwargs\u001B[0m\u001B[1;33m.\u001B[0m\u001B[0mpop\u001B[0m\u001B[1;33m(\u001B[0m\u001B[1;34m'missing'\u001B[0m\u001B[1;33m,\u001B[0m \u001B[1;34m'none'\u001B[0m\u001B[1;33m)\u001B[0m\u001B[1;33m\u001B[0m\u001B[1;33m\u001B[0m\u001B[0m\n\u001B[0;32m     76\u001B[0m         \u001B[0mhasconst\u001B[0m \u001B[1;33m=\u001B[0m \u001B[0mkwargs\u001B[0m\u001B[1;33m.\u001B[0m\u001B[0mpop\u001B[0m\u001B[1;33m(\u001B[0m\u001B[1;34m'hasconst'\u001B[0m\u001B[1;33m,\u001B[0m \u001B[1;32mNone\u001B[0m\u001B[1;33m)\u001B[0m\u001B[1;33m\u001B[0m\u001B[1;33m\u001B[0m\u001B[0m\n\u001B[1;32m---> 77\u001B[1;33m         self.data = self._handle_data(endog, exog, missing, hasconst,\n\u001B[0m\u001B[0;32m     78\u001B[0m                                       **kwargs)\n\u001B[0;32m     79\u001B[0m         \u001B[0mself\u001B[0m\u001B[1;33m.\u001B[0m\u001B[0mk_constant\u001B[0m \u001B[1;33m=\u001B[0m \u001B[0mself\u001B[0m\u001B[1;33m.\u001B[0m\u001B[0mdata\u001B[0m\u001B[1;33m.\u001B[0m\u001B[0mk_constant\u001B[0m\u001B[1;33m\u001B[0m\u001B[1;33m\u001B[0m\u001B[0m\n",
      "\u001B[1;32m~\\anaconda3\\lib\\site-packages\\statsmodels\\base\\model.py\u001B[0m in \u001B[0;36m_handle_data\u001B[1;34m(self, endog, exog, missing, hasconst, **kwargs)\u001B[0m\n\u001B[0;32m     99\u001B[0m \u001B[1;33m\u001B[0m\u001B[0m\n\u001B[0;32m    100\u001B[0m     \u001B[1;32mdef\u001B[0m \u001B[0m_handle_data\u001B[0m\u001B[1;33m(\u001B[0m\u001B[0mself\u001B[0m\u001B[1;33m,\u001B[0m \u001B[0mendog\u001B[0m\u001B[1;33m,\u001B[0m \u001B[0mexog\u001B[0m\u001B[1;33m,\u001B[0m \u001B[0mmissing\u001B[0m\u001B[1;33m,\u001B[0m \u001B[0mhasconst\u001B[0m\u001B[1;33m,\u001B[0m \u001B[1;33m**\u001B[0m\u001B[0mkwargs\u001B[0m\u001B[1;33m)\u001B[0m\u001B[1;33m:\u001B[0m\u001B[1;33m\u001B[0m\u001B[1;33m\u001B[0m\u001B[0m\n\u001B[1;32m--> 101\u001B[1;33m         \u001B[0mdata\u001B[0m \u001B[1;33m=\u001B[0m \u001B[0mhandle_data\u001B[0m\u001B[1;33m(\u001B[0m\u001B[0mendog\u001B[0m\u001B[1;33m,\u001B[0m \u001B[0mexog\u001B[0m\u001B[1;33m,\u001B[0m \u001B[0mmissing\u001B[0m\u001B[1;33m,\u001B[0m \u001B[0mhasconst\u001B[0m\u001B[1;33m,\u001B[0m \u001B[1;33m**\u001B[0m\u001B[0mkwargs\u001B[0m\u001B[1;33m)\u001B[0m\u001B[1;33m\u001B[0m\u001B[1;33m\u001B[0m\u001B[0m\n\u001B[0m\u001B[0;32m    102\u001B[0m         \u001B[1;31m# kwargs arrays could have changed, easier to just attach here\u001B[0m\u001B[1;33m\u001B[0m\u001B[1;33m\u001B[0m\u001B[1;33m\u001B[0m\u001B[0m\n\u001B[0;32m    103\u001B[0m         \u001B[1;32mfor\u001B[0m \u001B[0mkey\u001B[0m \u001B[1;32min\u001B[0m \u001B[0mkwargs\u001B[0m\u001B[1;33m:\u001B[0m\u001B[1;33m\u001B[0m\u001B[1;33m\u001B[0m\u001B[0m\n",
      "\u001B[1;32m~\\anaconda3\\lib\\site-packages\\statsmodels\\base\\data.py\u001B[0m in \u001B[0;36mhandle_data\u001B[1;34m(endog, exog, missing, hasconst, **kwargs)\u001B[0m\n\u001B[0;32m    670\u001B[0m \u001B[1;33m\u001B[0m\u001B[0m\n\u001B[0;32m    671\u001B[0m     \u001B[0mklass\u001B[0m \u001B[1;33m=\u001B[0m \u001B[0mhandle_data_class_factory\u001B[0m\u001B[1;33m(\u001B[0m\u001B[0mendog\u001B[0m\u001B[1;33m,\u001B[0m \u001B[0mexog\u001B[0m\u001B[1;33m)\u001B[0m\u001B[1;33m\u001B[0m\u001B[1;33m\u001B[0m\u001B[0m\n\u001B[1;32m--> 672\u001B[1;33m     return klass(endog, exog=exog, missing=missing, hasconst=hasconst,\n\u001B[0m\u001B[0;32m    673\u001B[0m                  **kwargs)\n",
      "\u001B[1;32m~\\anaconda3\\lib\\site-packages\\statsmodels\\base\\data.py\u001B[0m in \u001B[0;36m__init__\u001B[1;34m(self, endog, exog, missing, hasconst, **kwargs)\u001B[0m\n\u001B[0;32m     85\u001B[0m         \u001B[0mself\u001B[0m\u001B[1;33m.\u001B[0m\u001B[0mconst_idx\u001B[0m \u001B[1;33m=\u001B[0m \u001B[1;32mNone\u001B[0m\u001B[1;33m\u001B[0m\u001B[1;33m\u001B[0m\u001B[0m\n\u001B[0;32m     86\u001B[0m         \u001B[0mself\u001B[0m\u001B[1;33m.\u001B[0m\u001B[0mk_constant\u001B[0m \u001B[1;33m=\u001B[0m \u001B[1;36m0\u001B[0m\u001B[1;33m\u001B[0m\u001B[1;33m\u001B[0m\u001B[0m\n\u001B[1;32m---> 87\u001B[1;33m         \u001B[0mself\u001B[0m\u001B[1;33m.\u001B[0m\u001B[0m_handle_constant\u001B[0m\u001B[1;33m(\u001B[0m\u001B[0mhasconst\u001B[0m\u001B[1;33m)\u001B[0m\u001B[1;33m\u001B[0m\u001B[1;33m\u001B[0m\u001B[0m\n\u001B[0m\u001B[0;32m     88\u001B[0m         \u001B[0mself\u001B[0m\u001B[1;33m.\u001B[0m\u001B[0m_check_integrity\u001B[0m\u001B[1;33m(\u001B[0m\u001B[1;33m)\u001B[0m\u001B[1;33m\u001B[0m\u001B[1;33m\u001B[0m\u001B[0m\n\u001B[0;32m     89\u001B[0m         \u001B[0mself\u001B[0m\u001B[1;33m.\u001B[0m\u001B[0m_cache\u001B[0m \u001B[1;33m=\u001B[0m \u001B[1;33m{\u001B[0m\u001B[1;33m}\u001B[0m\u001B[1;33m\u001B[0m\u001B[1;33m\u001B[0m\u001B[0m\n",
      "\u001B[1;32m~\\anaconda3\\lib\\site-packages\\statsmodels\\base\\data.py\u001B[0m in \u001B[0;36m_handle_constant\u001B[1;34m(self, hasconst)\u001B[0m\n\u001B[0;32m    175\u001B[0m                             (np.ones(self.exog.shape[0]), self.exog))\n\u001B[0;32m    176\u001B[0m                 \u001B[0mrank_augm\u001B[0m \u001B[1;33m=\u001B[0m \u001B[0mnp\u001B[0m\u001B[1;33m.\u001B[0m\u001B[0mlinalg\u001B[0m\u001B[1;33m.\u001B[0m\u001B[0mmatrix_rank\u001B[0m\u001B[1;33m(\u001B[0m\u001B[0maugmented_exog\u001B[0m\u001B[1;33m)\u001B[0m\u001B[1;33m\u001B[0m\u001B[1;33m\u001B[0m\u001B[0m\n\u001B[1;32m--> 177\u001B[1;33m                 \u001B[0mrank_orig\u001B[0m \u001B[1;33m=\u001B[0m \u001B[0mnp\u001B[0m\u001B[1;33m.\u001B[0m\u001B[0mlinalg\u001B[0m\u001B[1;33m.\u001B[0m\u001B[0mmatrix_rank\u001B[0m\u001B[1;33m(\u001B[0m\u001B[0mself\u001B[0m\u001B[1;33m.\u001B[0m\u001B[0mexog\u001B[0m\u001B[1;33m)\u001B[0m\u001B[1;33m\u001B[0m\u001B[1;33m\u001B[0m\u001B[0m\n\u001B[0m\u001B[0;32m    178\u001B[0m                 \u001B[0mself\u001B[0m\u001B[1;33m.\u001B[0m\u001B[0mk_constant\u001B[0m \u001B[1;33m=\u001B[0m \u001B[0mint\u001B[0m\u001B[1;33m(\u001B[0m\u001B[0mrank_orig\u001B[0m \u001B[1;33m==\u001B[0m \u001B[0mrank_augm\u001B[0m\u001B[1;33m)\u001B[0m\u001B[1;33m\u001B[0m\u001B[1;33m\u001B[0m\u001B[0m\n\u001B[0;32m    179\u001B[0m                 \u001B[0mself\u001B[0m\u001B[1;33m.\u001B[0m\u001B[0mconst_idx\u001B[0m \u001B[1;33m=\u001B[0m \u001B[1;32mNone\u001B[0m\u001B[1;33m\u001B[0m\u001B[1;33m\u001B[0m\u001B[0m\n",
      "\u001B[1;32m<__array_function__ internals>\u001B[0m in \u001B[0;36mmatrix_rank\u001B[1;34m(*args, **kwargs)\u001B[0m\n",
      "\u001B[1;32m~\\anaconda3\\lib\\site-packages\\numpy\\linalg\\linalg.py\u001B[0m in \u001B[0;36mmatrix_rank\u001B[1;34m(M, tol, hermitian)\u001B[0m\n\u001B[0;32m   1901\u001B[0m     \u001B[0mS\u001B[0m \u001B[1;33m=\u001B[0m \u001B[0msvd\u001B[0m\u001B[1;33m(\u001B[0m\u001B[0mM\u001B[0m\u001B[1;33m,\u001B[0m \u001B[0mcompute_uv\u001B[0m\u001B[1;33m=\u001B[0m\u001B[1;32mFalse\u001B[0m\u001B[1;33m,\u001B[0m \u001B[0mhermitian\u001B[0m\u001B[1;33m=\u001B[0m\u001B[0mhermitian\u001B[0m\u001B[1;33m)\u001B[0m\u001B[1;33m\u001B[0m\u001B[1;33m\u001B[0m\u001B[0m\n\u001B[0;32m   1902\u001B[0m     \u001B[1;32mif\u001B[0m \u001B[0mtol\u001B[0m \u001B[1;32mis\u001B[0m \u001B[1;32mNone\u001B[0m\u001B[1;33m:\u001B[0m\u001B[1;33m\u001B[0m\u001B[1;33m\u001B[0m\u001B[0m\n\u001B[1;32m-> 1903\u001B[1;33m         \u001B[0mtol\u001B[0m \u001B[1;33m=\u001B[0m \u001B[0mS\u001B[0m\u001B[1;33m.\u001B[0m\u001B[0mmax\u001B[0m\u001B[1;33m(\u001B[0m\u001B[0maxis\u001B[0m\u001B[1;33m=\u001B[0m\u001B[1;33m-\u001B[0m\u001B[1;36m1\u001B[0m\u001B[1;33m,\u001B[0m \u001B[0mkeepdims\u001B[0m\u001B[1;33m=\u001B[0m\u001B[1;32mTrue\u001B[0m\u001B[1;33m)\u001B[0m \u001B[1;33m*\u001B[0m \u001B[0mmax\u001B[0m\u001B[1;33m(\u001B[0m\u001B[0mM\u001B[0m\u001B[1;33m.\u001B[0m\u001B[0mshape\u001B[0m\u001B[1;33m[\u001B[0m\u001B[1;33m-\u001B[0m\u001B[1;36m2\u001B[0m\u001B[1;33m:\u001B[0m\u001B[1;33m]\u001B[0m\u001B[1;33m)\u001B[0m \u001B[1;33m*\u001B[0m \u001B[0mfinfo\u001B[0m\u001B[1;33m(\u001B[0m\u001B[0mS\u001B[0m\u001B[1;33m.\u001B[0m\u001B[0mdtype\u001B[0m\u001B[1;33m)\u001B[0m\u001B[1;33m.\u001B[0m\u001B[0meps\u001B[0m\u001B[1;33m\u001B[0m\u001B[1;33m\u001B[0m\u001B[0m\n\u001B[0m\u001B[0;32m   1904\u001B[0m     \u001B[1;32melse\u001B[0m\u001B[1;33m:\u001B[0m\u001B[1;33m\u001B[0m\u001B[1;33m\u001B[0m\u001B[0m\n\u001B[0;32m   1905\u001B[0m         \u001B[0mtol\u001B[0m \u001B[1;33m=\u001B[0m \u001B[0masarray\u001B[0m\u001B[1;33m(\u001B[0m\u001B[0mtol\u001B[0m\u001B[1;33m)\u001B[0m\u001B[1;33m[\u001B[0m\u001B[1;33m...\u001B[0m\u001B[1;33m,\u001B[0m \u001B[0mnewaxis\u001B[0m\u001B[1;33m]\u001B[0m\u001B[1;33m\u001B[0m\u001B[1;33m\u001B[0m\u001B[0m\n",
      "\u001B[1;32m~\\anaconda3\\lib\\site-packages\\numpy\\core\\_methods.py\u001B[0m in \u001B[0;36m_amax\u001B[1;34m(a, axis, out, keepdims, initial, where)\u001B[0m\n\u001B[0;32m     37\u001B[0m def _amax(a, axis=None, out=None, keepdims=False,\n\u001B[0;32m     38\u001B[0m           initial=_NoValue, where=True):\n\u001B[1;32m---> 39\u001B[1;33m     \u001B[1;32mreturn\u001B[0m \u001B[0mumr_maximum\u001B[0m\u001B[1;33m(\u001B[0m\u001B[0ma\u001B[0m\u001B[1;33m,\u001B[0m \u001B[0maxis\u001B[0m\u001B[1;33m,\u001B[0m \u001B[1;32mNone\u001B[0m\u001B[1;33m,\u001B[0m \u001B[0mout\u001B[0m\u001B[1;33m,\u001B[0m \u001B[0mkeepdims\u001B[0m\u001B[1;33m,\u001B[0m \u001B[0minitial\u001B[0m\u001B[1;33m,\u001B[0m \u001B[0mwhere\u001B[0m\u001B[1;33m)\u001B[0m\u001B[1;33m\u001B[0m\u001B[1;33m\u001B[0m\u001B[0m\n\u001B[0m\u001B[0;32m     40\u001B[0m \u001B[1;33m\u001B[0m\u001B[0m\n\u001B[0;32m     41\u001B[0m def _amin(a, axis=None, out=None, keepdims=False,\n",
      "\u001B[1;31mValueError\u001B[0m: zero-size array to reduction operation maximum which has no identity"
     ]
    }
   ],
   "source": [
    "# check if OverallQual and OverallQual ~ 0\n",
    "# check if OverallQual or OverallQual ~ 0\n",
    "import statsmodels.formula.api as smf\n",
    "trivial_model = smf.ols(formula='OverallQual ~ 0', data=data).fit()"
   ],
   "metadata": {
    "collapsed": false,
    "pycharm": {
     "name": "#%%\n"
    }
   }
  },
  {
   "cell_type": "code",
   "execution_count": null,
   "outputs": [],
   "source": [],
   "metadata": {
    "collapsed": false,
    "pycharm": {
     "name": "#%%\n"
    }
   }
  },
  {
   "cell_type": "markdown",
   "source": [
    "---"
   ],
   "metadata": {
    "collapsed": false,
    "pycharm": {
     "name": "#%% md\n"
    }
   }
  },
  {
   "cell_type": "markdown",
   "id": "e349ae1b",
   "metadata": {
    "pycharm": {
     "name": "#%% md\n"
    }
   },
   "source": [
    "## Problem 2 (Variable Selection)\n",
    "\n",
    "Use the house prices dataset from class. Load it using the function ``load_house_prices_data``. \n",
    "\n",
    "1. Write the function ``backward_select`` (prototype below). Apply it on the house prices dataset and report the resulting model. \n",
    "2. Write a function that receives as an input a set of predictors and the response and evaluates the leave-one-out accuracy (n-fold cross validation). What is the CV-error of the model you found in 1 ?\n",
    "3. Consider the predictors ``OverallCond``, ``YearBuilt``, ``LotArea``, ``Fireplaces``. Go over all $2^4$ models. Evaluate $R^2$, AIC, BIC, and leave-one-out CV-error for every model and print the results. Report on the model with the lowest AIC, BIC, CV-error.\n",
    "\n",
    "Hint: for 1, modify the ``forward_select`` function from class."
   ]
  },
  {
   "cell_type": "code",
   "execution_count": null,
   "id": "5e57c486",
   "metadata": {
    "pycharm": {
     "name": "#%%\n"
    }
   },
   "outputs": [],
   "source": [
    "def backward_select(data, response, sig_level=.05):\n",
    "    \"\"\"Linear model designed by forward selection.\n",
    "\n",
    "    Parameters:\n",
    "    -----------\n",
    "    data: pandas DataFrame with all possible predictors and response\n",
    "\n",
    "    response: string, name of response column in data\n",
    "    \n",
    "    sig_level:  significance level for F-test\n",
    "\n",
    "    Returns:\n",
    "    --------\n",
    "    model: an \"optimal\" fitted statsmodels linear model\n",
    "           with an intercept selected by backward selection\n",
    "           evaluated by R-squared and F-test for extra sum of squares\n",
    "    \"\"\"\n",
    "    # Your code goes here\n",
    "    pass"
   ]
  },
  {
   "cell_type": "markdown",
   "source": [
    "---"
   ],
   "metadata": {
    "collapsed": false,
    "pycharm": {
     "name": "#%% md\n"
    }
   }
  },
  {
   "cell_type": "markdown",
   "id": "0e109697",
   "metadata": {
    "pycharm": {
     "name": "#%% md\n"
    }
   },
   "source": [
    "## Problem 3 (Selecting Order of Regression using Cross-Validation)\n",
    "\n",
    "Consider the dataset ``AnneFrank.csv``, describing the number of searches of the term \"Anne Frank\" by hour over several days in February 2022. The cell below contains code you should use to arrange the data by hours."
   ]
  },
  {
   "cell_type": "code",
   "execution_count": null,
   "id": "42736538",
   "metadata": {
    "pycharm": {
     "name": "#%%\n"
    }
   },
   "outputs": [],
   "source": [
    "AnneFrank = pd.read_csv(\"AnneFrank.csv\", header=1, names=['time', 'events'])\n",
    "AnneFrank['date'] = pd.to_datetime(AnneFrank.time)\n",
    "AnneFrank['time'] = AnneFrank['date'].astype(int) / 3600000000000\n",
    "AnneFrank['time'] = AnneFrank['time'] - AnneFrank['time'].min()\n",
    "AnneFrank.plot(x='time', y='events');\n",
    "plt.show()"
   ]
  },
  {
   "cell_type": "markdown",
   "id": "0f52d672",
   "metadata": {
    "pycharm": {
     "name": "#%% md\n"
    }
   },
   "source": [
    "In this question you will fit a model to the response based on $2p+1$ predictors of the form:\n",
    "$$\n",
    "\\begin{align}\n",
    "x_1 = [1,~\\ldots~,1]\n",
    "\\end{align}\n",
    "$$\n",
    "$$\n",
    "\\begin{align}\n",
    "x_{2k} & = \\sin(2 \\pi \\cdot k \\cdot t / 60) \\\\\n",
    "x_{2k+1} & = \\cos(2 \\pi \\cdot k \\cdot t / 60), \\qquad k=1,\\ldots,p-1.\n",
    "\\end{align}\n",
    "$$\n",
    "(these are sinusoids of increasing frequency at a resolution of 1min) You will then use the selected model to predict the number of events in future times.\n",
    "\n",
    "1. Write a function ``generate_Z`` that receives as inputs a vector of time indices (representing hours) ``t`` and ``p``. The function returns the design matrix $Z$ of size $n \\times (2p+1)$, where $n$ is the length of ``t``.\n",
    "2. For each $p=1,\\ldots,20$, fit a linear model to ``events`` based on $Z$ you obtain from ``generate_Z`` and evaluate its leave-one-out CV error. Plot the CV error versus $p$.\n",
    "3. Report on the model with the lowest CV error; plot its response over time along with the original response in the figure above. \n",
    "4. Using the model you found in 3, predict the number of event at times $t=168.\\ldots,190$. Plot your prediction over time in the same figure as above, i.e., interpolate the response curve to future value. \n",
    "5. For each $t$ in 4, construct a 0.95 confidence interval of your prediction. Plot the upper and lower limits of this interval over time (these lines define a confidence band). Here, you may ignore the danger of inference based on the t distribution after applying a model selection procedure. \n",
    "\n",
    "Hints: (2) In order to evaluate the CV error, you'll need the hat matrix (which you can get directly from Z) and the residuals in the LS fit (which you can get from the ``resid`` property of the fitted model object returned by ``statsmodels.api.OLS.fit``). (4) you can use the function ``predict`` of the fitted model object by passing new predictors that you generate using ``generate_Z``. For 5, $s^2$ is given by the property ``mse_resid`` (or ``ssr`` divided by the number of degrees of freedom). Also note that the number of degrees of freedom is $2p+1$ where $p$ is the number you found in 3."
   ]
  },
  {
   "cell_type": "code",
   "execution_count": null,
   "id": "62c0de01",
   "metadata": {
    "pycharm": {
     "name": "#%%\n"
    }
   },
   "outputs": [],
   "source": [
    "def generate_Z(t, p):\n",
    "    \"\"\"\n",
    "    Args:\n",
    "    ----\n",
    "    t:   vector of time samples (length n)\n",
    "    p:   number of frequencies (overal 2p+1 predictors)\n",
    "    \n",
    "    Returns:\n",
    "    --------\n",
    "    Z:  design matrix of size (n, 2p+1)\n",
    "    \"\"\"\n",
    "\n",
    "    # Your code goes here\n",
    "    pass"
   ]
  }
 ],
 "metadata": {
  "kernelspec": {
   "display_name": "Python 3",
   "language": "python",
   "name": "python3"
  },
  "language_info": {
   "codemirror_mode": {
    "name": "ipython",
    "version": 3
   },
   "file_extension": ".py",
   "mimetype": "text/x-python",
   "name": "python",
   "nbconvert_exporter": "python",
   "pygments_lexer": "ipython3",
   "version": "3.8.5"
  }
 },
 "nbformat": 4,
 "nbformat_minor": 5
}