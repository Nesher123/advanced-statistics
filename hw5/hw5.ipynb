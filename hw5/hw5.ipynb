{
 "cells": [
  {
   "cell_type": "markdown",
   "id": "c987d913",
   "metadata": {
    "pycharm": {
     "name": "#%% md\n"
    }
   },
   "source": [
    "#### Advanced Statistics for Data Science (Spring 2022)\n",
    "# Home Assignment 5\n",
    "#### Topics:\n",
    "- Contrasts\n",
    "- Multiple TestinFalse-Discovery Rate\n",
    "- Simple Regression\n",
    "\n",
    "#### Due: 24/05/2022 by 18:30\n",
    "\n",
    "#### Instructions:\n",
    "- Write your name, Student ID, and date in the cell below. \n",
    "- Submit a copy of this notebook with code filled in the relevant places as the solution of coding excercises.\n",
    "- For theoretic excercises, you can either write your solution in the notebook using $\\LaTeX$ or submit additional notes.\n",
    "\n",
    "<hr>\n",
    "<hr>"
   ]
  },
  {
   "cell_type": "markdown",
   "id": "cf26e332",
   "metadata": {
    "pycharm": {
     "name": "#%% md\n"
    }
   },
   "source": [
    "**Name**: Ofir Nesher\n",
    "\n",
    "**Student ID**: 204502926\n",
    "\n",
    "**Date**: 13/05/2022\n",
    "\n",
    "$\n",
    "\\newcommand{\\Id}{{\\mathbf{I}}}  \n",
    "\\newcommand{\\SSE}{\\mathsf{SSE}}\n",
    "\\newcommand{\\SSR}{\\mathsf{SSR}}\n",
    "\\newcommand{\\MSE}{\\mathsf{MSE}}\n",
    "\\newcommand{\\simiid}{\\overset{iid}{\\sim}}\n",
    "\\newcommand{\\ex}{\\mathbb E}\n",
    "\\newcommand{\\var}{\\mathrm{Var}}\n",
    "\\newcommand{\\Cov}[2]{{\\mathrm{Cov}  \\left(#1, #2 \\right)}}\n",
    "\\newcommand{\\one}[1]{\\mathbf 1 {\\left\\{#1\\right\\}}}\n",
    "\\newcommand{\\SE}[1]{\\mathrm{SE} \\left[#1\\right]}\n",
    "\\newcommand{\\reals}{\\mathbb R}\n",
    "\\newcommand{\\Ncal}{\\mathcal N}\n",
    "\\newcommand{\\abs}[1]{\\ensuremath{\\left\\vert#1\\right\\vert}}\n",
    "\\newcommand{\\rank}{\\operatorname{rank}}\n",
    "\\newcommand{\\tr}{\\operatorname{Tr}}\n",
    "\\newcommand{\\diag}{\\operatorname{diag}}\n",
    "\\newcommand{\\sign}{\\operatorname{sign}}\n",
    "$\n"
   ]
  },
  {
   "cell_type": "markdown",
   "id": "a6bc7ca3",
   "metadata": {
    "pycharm": {
     "name": "#%% md\n"
    }
   },
   "source": [
    "<hr>\n",
    "<hr>"
   ]
  },
  {
   "cell_type": "markdown",
   "id": "1e247683",
   "metadata": {
    "pycharm": {
     "name": "#%% md\n"
    }
   },
   "source": [
    "## Problem 1 (Multiple testing in Practice)\n",
    "#### Continuation of Problem 4 from HW4"
   ]
  },
  {
   "cell_type": "markdown",
   "id": "48c3f0df",
   "metadata": {
    "pycharm": {
     "name": "#%% md\n"
    }
   },
   "source": [
    "In HW4, Problem 4 you used ANOVA to measure the effect of the winery (``winery``) on the quality (``points``) of wines from variety (``variety``) ``Cabernet Sauvignon``. Using the same dataset (reduced to Israeli wines and a specific variety). You used all t-tests involving pairs of wineries and reported pairs found significant after a Bonfferoni's correction. In this question, you will use Binjamini-Hochberg's (BH) FDR controlling procedure as an alternative to Bonfferoni.\n",
    " 1. Using HW4, Problem 4, consider P-values from all t-tests of pairs of wineries. Sort the P-values from small to large and plot the smallest 10% of the sorted list of P-values on a stem or a scatter plot in which the x-axis indicate the P-value rank (left most point is rank = 1, i.e., the smallest) and the y-axis the P-value's value.\n",
    " 2. Assume that different tests are independent; apply BH to select a set of winery pairs in which one winery is significantly better than the others while aiming for 0.05 false pairs. How many pairs were reported? is it more or less pairs than you discovered using Bonfferoni correction in HW4, Problem 4?\n",
    " 3. Repeat the last item without the independence assumption, i.e., use the harmonic sum correction.\n",
    " \n",
    "The point: FDR controlling using BH is a more liberal (less conservative) approach to identify significant discoveries in the sense that it allows us to report on more discoveries if we are willing to replace family-wise error rate control with an expected false-discovery proportion guarantee."
   ]
  },
  {
   "cell_type": "markdown",
   "source": [
    "### **Answers**:"
   ],
   "metadata": {
    "collapsed": false,
    "pycharm": {
     "name": "#%% md\n"
    }
   }
  },
  {
   "cell_type": "markdown",
   "source": [
    "#### 1."
   ],
   "metadata": {
    "collapsed": false,
    "pycharm": {
     "name": "#%% md\n"
    }
   }
  },
  {
   "cell_type": "code",
   "execution_count": 67,
   "outputs": [],
   "source": [
    "import pandas as pd\n",
    "import numpy as np"
   ],
   "metadata": {
    "collapsed": false,
    "pycharm": {
     "name": "#%%\n"
    }
   }
  },
  {
   "cell_type": "code",
   "execution_count": 68,
   "outputs": [
    {
     "name": "stdout",
     "output_type": "stream",
     "text": [
      "          Unnamed: 0      points       price\n",
      "count     135.000000  135.000000  128.000000\n",
      "mean    61128.814815   87.688889   35.601562\n",
      "std     41325.606285    2.303361   16.290831\n",
      "min        81.000000   80.000000   12.000000\n",
      "25%     28743.000000   86.000000   21.750000\n",
      "50%     52552.000000   88.000000   36.000000\n",
      "75%     91863.000000   90.000000   42.000000\n",
      "max    150558.000000   91.000000   75.000000\n"
     ]
    }
   ],
   "source": [
    "wine_df = pd.read_csv('winemag-data_first150k.csv')\n",
    "wine_df = wine_df[(wine_df['country'] == 'Israel') & (wine_df['variety'] == 'Cabernet Sauvignon')]\n",
    "all_wineries = wine_df['winery'].value_counts() > 1\n",
    "valid_wineries = list(all_wineries[all_wineries].index.values)\n",
    "wine_df = wine_df[wine_df['winery'].isin(valid_wineries)]\n",
    "print(wine_df.describe())"
   ],
   "metadata": {
    "collapsed": false,
    "pycharm": {
     "name": "#%%\n"
    }
   }
  },
  {
   "cell_type": "code",
   "execution_count": 69,
   "outputs": [
    {
     "data": {
      "text/plain": "[('Barkan', 'Recanati'),\n ('Barkan', 'Carmel'),\n ('Barkan', 'Golan Heights Winery'),\n ('Barkan', \"Segal's\"),\n ('Barkan', 'Yatir')]"
     },
     "execution_count": 69,
     "metadata": {},
     "output_type": "execute_result"
    }
   ],
   "source": [
    "# All possible pairs in List\n",
    "# Using list comprehension + enumerate()\n",
    "all_pairs = [(a, b) for idx, a in enumerate(valid_wineries) for b in valid_wineries[idx + 1:]]\n",
    "all_pairs[:5]"
   ],
   "metadata": {
    "collapsed": false,
    "pycharm": {
     "name": "#%%\n"
    }
   }
  },
  {
   "cell_type": "code",
   "execution_count": 70,
   "outputs": [],
   "source": [
    "def pair_ttest(y_0, y_1):\n",
    "    n_0 = len(y_0)\n",
    "    n_1 = len(y_1)\n",
    "    mu_0 = np.mean(y_0)\n",
    "    mu_1 = np.mean(y_1)\n",
    "    degrees_of_freedom = n_0 + n_1 - 2\n",
    "    s = (np.sum((y_0 - mu_0) ** 2) + np.sum((y_1 - mu_1) ** 2)) / degrees_of_freedom\n",
    "\n",
    "    if s <= 0:\n",
    "        s = 1e-6\n",
    "\n",
    "    numerator = mu_1 - mu_0\n",
    "    denominator = s * np.sqrt((1 / n_0) + (1 / n_1))\n",
    "    t = numerator / denominator\n",
    "\n",
    "    return t, degrees_of_freedom"
   ],
   "metadata": {
    "collapsed": false,
    "pycharm": {
     "name": "#%%\n"
    }
   }
  },
  {
   "cell_type": "code",
   "execution_count": 71,
   "outputs": [],
   "source": [
    "from scipy.stats import t as ttest\n",
    "\n",
    "p_values = []\n",
    "\n",
    "for w_0, w_1 in all_pairs:\n",
    "    y_0 = wine_df.loc[wine_df['winery'] == w_0, 'points']\n",
    "    y_1 = wine_df.loc[wine_df['winery'] == w_1, 'points']\n",
    "    t, degrees_of_freedom = pair_ttest(y_0, y_1)\n",
    "    p_value = ttest.sf(abs(t), degrees_of_freedom)\n",
    "    p_values.append(p_value)"
   ],
   "metadata": {
    "collapsed": false,
    "pycharm": {
     "name": "#%%\n"
    }
   }
  },
  {
   "cell_type": "code",
   "execution_count": 72,
   "outputs": [
    {
     "data": {
      "text/plain": "[1.2499999999993453e-39,\n 3.799434915962711e-33,\n 1.6010787464791773e-32,\n 8.388202017389364e-19,\n 4.999999999992501e-13,\n 1.113463502004311e-05,\n 1.4790037715200972e-05,\n 7.842469586091886e-05,\n 9.75861303691789e-05,\n 0.000176221655208138,\n 0.0003583107405011393,\n 0.0004034063398728557,\n 0.0005515750191262024,\n 0.0013225198039814171,\n 0.0022180816127770234,\n 0.0025900245277955397,\n 0.003150531600133884]"
     },
     "execution_count": 72,
     "metadata": {},
     "output_type": "execute_result"
    }
   ],
   "source": [
    "p_values.sort()\n",
    "percentage = 10\n",
    "sub_list_length = int(len(p_values) / percentage)\n",
    "sub_list_p_values = p_values[:sub_list_length]\n",
    "sub_list_p_values"
   ],
   "metadata": {
    "collapsed": false,
    "pycharm": {
     "name": "#%%\n"
    }
   }
  },
  {
   "cell_type": "code",
   "execution_count": 73,
   "outputs": [],
   "source": [
    "import matplotlib.pyplot as plt\n",
    "\n",
    "plt.rcParams[\"figure.figsize\"] = (20, 7)\n",
    "plt.rcParams.update({'font.size': 18})"
   ],
   "metadata": {
    "collapsed": false,
    "pycharm": {
     "name": "#%%\n"
    }
   }
  },
  {
   "cell_type": "code",
   "execution_count": 74,
   "outputs": [
    {
     "data": {
      "text/plain": "<Figure size 1440x504 with 1 Axes>",
      "image/png": "[encoded data removed]"
     },
     "metadata": {},
     "output_type": "display_data"
    }
   ],
   "source": [
    "x_axis = range(sub_list_length)\n",
    "plt.scatter(x_axis, sub_list_p_values)\n",
    "plt.xlabel('Rank')\n",
    "plt.ylabel('p-value')\n",
    "plt.title(f'Smallest {percentage}% p-values in order')\n",
    "plt.show()"
   ],
   "metadata": {
    "collapsed": false,
    "pycharm": {
     "name": "#%%\n"
    }
   }
  },
  {
   "cell_type": "markdown",
   "source": [
    "#### 2.\n",
    "Assume that different tests are independent; apply BH to select a set of winery pairs in which one winery is significantly better than the others while aiming for 0.05 false pairs. How many pairs were reported? is it more or less pairs than you discovered using Bonfferoni correction in HW4, Problem 4?"
   ],
   "metadata": {
    "collapsed": false,
    "pycharm": {
     "name": "#%% md\n"
    }
   }
  },
  {
   "cell_type": "code",
   "execution_count": 75,
   "outputs": [],
   "source": [
    "aimed_false_pairs_percentage = 0.05\n"
   ],
   "metadata": {
    "collapsed": false,
    "pycharm": {
     "name": "#%%\n"
    }
   }
  },
  {
   "cell_type": "code",
   "execution_count": 76,
   "outputs": [
    {
     "name": "stdout",
     "output_type": "stream",
     "text": [
      "There are 34 false pairs.\n",
      "It is MORE/LESS pairs than we discovered using Bonfferoni correction in HW4, Problem 4.\n"
     ]
    }
   ],
   "source": [
    "p_values_below = list(filter(lambda x: x < (aimed_false_pairs_percentage / 2), p_values))\n",
    "print(f'There are {len(p_values_below)} false pairs.\\n'\n",
    "      f'It is MORE/LESS pairs than we discovered using Bonfferoni correction in HW4, Problem 4.')"
   ],
   "metadata": {
    "collapsed": false,
    "pycharm": {
     "name": "#%%\n"
    }
   }
  },
  {
   "cell_type": "markdown",
   "source": [
    "#### 3.\n",
    "Repeat the last item without the independence assumption, i.e., use the harmonic sum correction."
   ],
   "metadata": {
    "collapsed": false,
    "pycharm": {
     "name": "#%% md\n"
    }
   }
  },
  {
   "cell_type": "code",
   "execution_count": 76,
   "outputs": [],
   "source": [],
   "metadata": {
    "collapsed": false,
    "pycharm": {
     "name": "#%%\n"
    }
   }
  },
  {
   "cell_type": "markdown",
   "source": [
    "---"
   ],
   "metadata": {
    "collapsed": false,
    "pycharm": {
     "name": "#%% md\n"
    }
   }
  },
  {
   "cell_type": "markdown",
   "id": "c091a28c",
   "metadata": {
    "pycharm": {
     "name": "#%% md\n"
    }
   },
   "source": [
    "## Problem 2 (contrasts)\n",
    "#### Continuation of Problem 1\n",
    "\n",
    "Using a single t-test, test the assumption that the average of the Golan area wineries: ``Bazelet HaGolan``, ``Gamla``, ``Golan Heights Winery`` have the same quality as the average of Judean Hills area wineries: ``Katlav``, ``Psagot``, ``Shiloh Winery``, ``Titora``, ``Yatir`` (the goal here is to construct a \"contrast\", hence you should take an arithmetic average of group averages. You should only consider the size of each individual group when evaluating the variance of the contrast).\n",
    "\n",
    "Note: you can ignore the ``province`` filed in the data because it contains inaccurate information. You should also ignore the fact that in reality, ``Gamla`` is produced by ``Golan Heights Winery``."
   ]
  },
  {
   "cell_type": "markdown",
   "source": [
    "### **Answers**:"
   ],
   "metadata": {
    "collapsed": false,
    "pycharm": {
     "name": "#%% md\n"
    }
   }
  },
  {
   "cell_type": "code",
   "execution_count": 76,
   "outputs": [],
   "source": [],
   "metadata": {
    "collapsed": false,
    "pycharm": {
     "name": "#%%\n"
    }
   }
  },
  {
   "cell_type": "markdown",
   "source": [
    "---"
   ],
   "metadata": {
    "collapsed": false,
    "pycharm": {
     "name": "#%% md\n"
    }
   }
  },
  {
   "cell_type": "markdown",
   "id": "ef723e7e",
   "metadata": {
    "pycharm": {
     "name": "#%% md\n"
    }
   },
   "source": [
    "## Problem 3 (Exact size of Bonferroni's test)\n",
    "Suppose that we run multiple tests with independent data and obtain P-values $p_1,\\ldots,p_n$. We wish to test the null hypothesis:\n",
    "$$\n",
    "H_0\\,:\\,\\text{All tests are null}\n",
    "$$\n",
    "at the level $\\alpha$ (e.g., $\\alpha=0.05$). In class, we introduced Bonferroni's procedure which is equivalent to: Reject $H_0$ if $\\min p_i \\leq \\alpha/n$. \n",
    "1. Show that the  size of the test in Bonferroni's procedure is at most $\\alpha$, regardless if the hypotheses are independent or not. \n",
    "2. Assuming that the hypotheses are independent, find the exact size of the test in Bonferroni's procedure. \n",
    "3. For $\\alpha=0.05$, evaluate the difference between $\\alpha$ and the exact test's size for $n=2,...,50$. Discuss what you see."
   ]
  },
  {
   "cell_type": "markdown",
   "source": [
    "### **Answers**:"
   ],
   "metadata": {
    "collapsed": false,
    "pycharm": {
     "name": "#%% md\n"
    }
   }
  },
  {
   "cell_type": "markdown",
   "source": [
    "#### 1."
   ],
   "metadata": {
    "collapsed": false,
    "pycharm": {
     "name": "#%% md\n"
    }
   }
  },
  {
   "cell_type": "markdown",
   "source": [
    "---"
   ],
   "metadata": {
    "collapsed": false,
    "pycharm": {
     "name": "#%% md\n"
    }
   }
  },
  {
   "cell_type": "markdown",
   "id": "2bc5b806",
   "metadata": {
    "pycharm": {
     "name": "#%% md\n"
    }
   },
   "source": [
    "## Problem 4 (Prediction in Simple Regression)\n",
    "Consider the linear model:\n",
    "$$\n",
    "    y_i = \\beta_0 + \\beta_1 x_i + \\epsilon_i,\\qquad \\epsilon_i \\simiid \\Ncal(0,\\sigma^2)\n",
    "$$\n",
    "$$\n",
    "    Z = \\begin{pmatrix}\n",
    "    1 & x_1 \\\\\n",
    "    \\vdots & \\vdots \\\\\n",
    "    1 & x_n\n",
    "    \\end{pmatrix},\\quad \\beta=\\begin{pmatrix}\n",
    "    \\beta_0 \\\\\n",
    "    \\beta_1\n",
    "    \\end{pmatrix},\\qquad \\hat{\\beta}=(Z^\\top Z)^{-1} Z^\\top y\n",
    "$$\n",
    "Suppose we get a new data point $x_{n+1}$ and want to predict $y_{n+1}$. We want an interval in which this prediction will likely to land. In class, we used that \n",
    "$$\n",
    "\\var[\\hat{\\beta}_0 + \\hat{\\beta}_1 x] = \\frac{\\sigma^2}{n} \\left( \\frac{1}{n} + \\frac{(x-\\bar{x})^2}{S_{XX }}\\right)\n",
    "$$\n",
    "to obtain a confidence interval for $\\beta_0 + \\beta_1 x$, and a confidence band for all $x \\in \\reals$. In this question, you will use a similar reasoning to get a confidence interval (and bands) for $y_{n+1}$.\n",
    "1. Find the variance of $y_{n+1} - (\\hat{\\beta}_0 + \\hat{\\beta}_1 x_{n+1})$ in terms of $\\sigma^2$ and $x_1,\\ldots,x_n$ and $x_{n+1}$ (you can use $\\bar{x}$ and $S_{XX}$ or any other well-defined function of $x_1,\\ldots,x_n$). Explain intuitively why it makes sense that this variance is larger than the variance of  $\\hat{\\beta}_0 + \\hat{\\beta}_1 x_{n+1}$.\n",
    "2. Find a $1-\\alpha$ confidence interval for $y_{n+1}$. Is this interval wider or narrower than that of $\\hat{\\beta}_0 + \\hat{\\beta}_1 x_{n+1}$? For what value of $x_{n+1}$ this interval is the narrowest?\n",
    "3. Suppose that we take the average of two responses $y$'s at the same $x_{n+1}$, say \n",
    "$$\n",
    "y_{n+1} =  \\frac{y_{n+1}^{(1)} + y_{n+1}^{(2)}}{2}, \n",
    "$$\n",
    "where\n",
    "$$\n",
    "y_{n+1}^{(1)} = \\beta_0 + \\beta_1 x_{n+1} + \\epsilon_{n+1}^{(1)}\n",
    "$$\n",
    "and \n",
    "$$\n",
    "y_{n+1}^{(2)} = \\beta_0 + \\beta_1 x_{n+1} + \\epsilon_{n+1}^{(2)},\n",
    "$$\n",
    "where $\\epsilon_{n+1}^{(1)}$ and $\\epsilon_{n+1}^{(2)}$ are independent. Find a confidence interval for $y_{n+1}$. Is it wider or narrower than the interval in (2) ?\n",
    "\n",
    "Note: The confidence interval you derived in 2 is somewhat risky to use because it makes the strong assumption that $\\epsilon_{n+1}$ is normal. This is compared to, say, confidence intervals for $\\hat{\\beta}_0$ and $\\hat{\\beta}_1$ which rely on averages over all observations $y_1,\\ldots,y_n$, so we can use the Central Limit Theorem to argue for normality. Things get better both in terms of variance and normality assumption when you can take multiple measurements at the same $x_{n+1}$ and average those."
   ]
  },
  {
   "cell_type": "markdown",
   "source": [
    "### **Answers**:"
   ],
   "metadata": {
    "collapsed": false,
    "pycharm": {
     "name": "#%% md\n"
    }
   }
  },
  {
   "cell_type": "markdown",
   "source": [
    "#### 1."
   ],
   "metadata": {
    "collapsed": false,
    "pycharm": {
     "name": "#%% md\n"
    }
   }
  },
  {
   "cell_type": "code",
   "execution_count": 76,
   "id": "40f3888d",
   "metadata": {
    "pycharm": {
     "name": "#%%\n"
    }
   },
   "outputs": [],
   "source": []
  }
 ],
 "metadata": {
  "kernelspec": {
   "display_name": "Python 3",
   "language": "python",
   "name": "python3"
  },
  "language_info": {
   "codemirror_mode": {
    "name": "ipython",
    "version": 3
   },
   "file_extension": ".py",
   "mimetype": "text/x-python",
   "name": "python",
   "nbconvert_exporter": "python",
   "pygments_lexer": "ipython3",
   "version": "3.8.5"
  }
 },
 "nbformat": 4,
 "nbformat_minor": 5
}