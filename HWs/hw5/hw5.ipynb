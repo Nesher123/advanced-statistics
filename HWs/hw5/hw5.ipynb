{
 "cells": [
  {
   "cell_type": "markdown",
   "id": "c987d913",
   "metadata": {
    "pycharm": {
     "name": "#%% md\n"
    }
   },
   "source": [
    "#### Advanced Statistics for Data Science (Spring 2022)\n",
    "# Home Assignment 5\n",
    "#### Topics:\n",
    "- Contrasts\n",
    "- Multiple TestinFalse-Discovery Rate\n",
    "- Simple Regression\n",
    "\n",
    "#### Due: 24/05/2022 by 18:30\n",
    "\n",
    "#### Instructions:\n",
    "- Write your name, Student ID, and date in the cell below. \n",
    "- Submit a copy of this notebook with code filled in the relevant places as the solution of coding excercises.\n",
    "- For theoretic excercises, you can either write your solution in the notebook using $\\LaTeX$ or submit additional notes.\n",
    "\n",
    "<hr>\n",
    "<hr>"
   ]
  },
  {
   "cell_type": "markdown",
   "id": "cf26e332",
   "metadata": {
    "pycharm": {
     "name": "#%% md\n"
    }
   },
   "source": [
    "**Name**: Ofir Nesher\n",
    "\n",
    "**Student ID**: 204502926\n",
    "\n",
    "**Date**: 13/05/2022\n",
    "\n",
    "$\n",
    "\\newcommand{\\Id}{{\\mathbf{I}}}  \n",
    "\\newcommand{\\SSE}{\\mathsf{SSE}}\n",
    "\\newcommand{\\SSR}{\\mathsf{SSR}}\n",
    "\\newcommand{\\MSE}{\\mathsf{MSE}}\n",
    "\\newcommand{\\simiid}{\\overset{iid}{\\sim}}\n",
    "\\newcommand{\\ex}{\\mathbb E}\n",
    "\\newcommand{\\var}{\\mathrm{Var}}\n",
    "\\newcommand{\\Cov}[2]{{\\mathrm{Cov}  \\left(#1, #2 \\right)}}\n",
    "\\newcommand{\\one}[1]{\\mathbf 1 {\\left\\{#1\\right\\}}}\n",
    "\\newcommand{\\SE}[1]{\\mathrm{SE} \\left[#1\\right]}\n",
    "\\newcommand{\\reals}{\\mathbb R}\n",
    "\\newcommand{\\Ncal}{\\mathcal N}\n",
    "\\newcommand{\\abs}[1]{\\ensuremath{\\left\\vert#1\\right\\vert}}\n",
    "\\newcommand{\\rank}{\\operatorname{rank}}\n",
    "\\newcommand{\\tr}{\\operatorname{Tr}}\n",
    "\\newcommand{\\diag}{\\operatorname{diag}}\n",
    "\\newcommand{\\sign}{\\operatorname{sign}}\n",
    "$\n"
   ]
  },
  {
   "cell_type": "markdown",
   "id": "a6bc7ca3",
   "metadata": {
    "pycharm": {
     "name": "#%% md\n"
    }
   },
   "source": [
    "<hr>\n",
    "<hr>"
   ]
  },
  {
   "cell_type": "markdown",
   "id": "1e247683",
   "metadata": {
    "pycharm": {
     "name": "#%% md\n"
    }
   },
   "source": [
    "## Problem 1 (Multiple testing in Practice)\n",
    "#### Continuation of Problem 4 from HW4"
   ]
  },
  {
   "cell_type": "markdown",
   "id": "afffa82c",
   "metadata": {
    "pycharm": {
     "name": "#%% md\n"
    }
   },
   "source": [
    "In HW4, Problem 4 you used ANOVA to measure the effect of the winery (``winery``) on the quality (``points``) of wines from variety (``variety``) ``Cabernet Sauvignon``. Using the same dataset (reduced to Israeli wines and a specific variety). You used all t-tests involving pairs of wineries and reported pairs found significant after a Bonfferoni's correction. In this question, you will use Binjamini-Hochberg's (BH) FDR controlling procedure as an alternative to Bonfferoni.\n",
    " 1. Using HW4, Problem 4, consider P-values from all t-tests of pairs of wineries. Sort the P-values from small to large and plot the smallest 10% of the sorted list of P-values on a stem or a scatter plot in which the x-axis indicate the P-value rank (left most point is rank = 1, i.e., the smallest) and the y-axis the P-value's value.\n",
    " 2. Assume that different tests are independent; apply BH to select a set of winery pairs in which one winery is significantly better than the others while aiming for 0.05 false pairs. How many pairs were reported? is it more or less pairs than you discovered using Bonfferoni correction in HW4, Problem 4?\n",
    " 3. Repeat the last item without the independence assumption, i.e., use the harmonic sum correction.\n",
    "\n",
    "The point: FDR controlling using BH is a more liberal (less conservative) approach to identify significant discoveries in the sense that it allows us to report on more discoveries if we are willing to replace family-wise error rate control with an expected false-discovery proportion guarantee."
   ]
  },
  {
   "cell_type": "markdown",
   "id": "a16719b4",
   "metadata": {
    "pycharm": {
     "name": "#%% md\n"
    }
   },
   "source": [
    "### **Answers**:"
   ]
  },
  {
   "cell_type": "markdown",
   "id": "0c5dbd87",
   "metadata": {
    "pycharm": {
     "name": "#%% md\n"
    }
   },
   "source": [
    "#### 1."
   ]
  },
  {
   "cell_type": "code",
   "execution_count": null,
   "outputs": [],
   "source": [
    "import pandas as pd\n",
    "import numpy as np\n",
    "from scipy import stats"
   ],
   "metadata": {
    "collapsed": false,
    "pycharm": {
     "name": "#%%\n"
    }
   }
  },
  {
   "cell_type": "code",
   "execution_count": null,
   "outputs": [],
   "source": [
    "wine_df = pd.read_csv('winemag-data_first150k.csv')\n",
    "wine_df = wine_df[(wine_df['country'] == 'Israel') & (wine_df['variety'] == 'Cabernet Sauvignon')]\n",
    "all_wineries = wine_df['winery'].value_counts() > 1\n",
    "wineries = list(all_wineries[all_wineries].index.values)\n",
    "wine_df = wine_df[wine_df['winery'].isin(wineries)]\n",
    "variable = 'points'\n",
    "print(wine_df.describe())"
   ],
   "metadata": {
    "collapsed": false,
    "pycharm": {
     "name": "#%%\n"
    }
   }
  },
  {
   "cell_type": "code",
   "execution_count": null,
   "outputs": [],
   "source": [
    "def two_smp_t(smp1, smp2):\n",
    "    return stats.ttest_ind(smp1, smp2).pvalue\n",
    "\n",
    "\n",
    "tests_res = {}\n",
    "\n",
    "for w1 in wineries:\n",
    "    for w2 in wineries:\n",
    "        if w1 < w2:\n",
    "            smp1 = wine_df[wine_df.winery == w1][variable].values\n",
    "            smp2 = wine_df[wine_df.winery == w2][variable].values\n",
    "            tests_res[(w1, w2)] = two_smp_t(smp1, smp2)\n",
    "\n",
    "tests_res"
   ],
   "metadata": {
    "collapsed": false,
    "pycharm": {
     "name": "#%%\n"
    }
   }
  },
  {
   "cell_type": "code",
   "execution_count": null,
   "outputs": [],
   "source": [
    "pv = list(tests_res.values())\n",
    "m = len(pv)\n",
    "\n",
    "idcs = np.argsort(pv)\n",
    "sorted_pvals = np.array(pv)[idcs]\n",
    "\n",
    "percentage = 10\n",
    "sub_list_length = int(len(sorted_pvals) / percentage)\n",
    "sub_list_p_values = sorted_pvals[:sub_list_length]\n",
    "sub_list_p_values"
   ],
   "metadata": {
    "collapsed": false,
    "pycharm": {
     "name": "#%%\n"
    }
   }
  },
  {
   "cell_type": "code",
   "execution_count": null,
   "outputs": [],
   "source": [
    "import matplotlib.pyplot as plt\n",
    "\n",
    "plt.rcParams[\"figure.figsize\"] = (20, 7)\n",
    "plt.rcParams.update({'font.size': 18})"
   ],
   "metadata": {
    "collapsed": false,
    "pycharm": {
     "name": "#%%\n"
    }
   }
  },
  {
   "cell_type": "code",
   "execution_count": null,
   "outputs": [],
   "source": [
    "x_axis = range(sub_list_length)\n",
    "plt.scatter(x_axis, sub_list_p_values)\n",
    "plt.xlabel('Rank')\n",
    "plt.ylabel('p-value')\n",
    "plt.title(f'Smallest {percentage}% p-values in order')\n",
    "plt.show()"
   ],
   "metadata": {
    "collapsed": false,
    "pycharm": {
     "name": "#%%\n"
    }
   }
  },
  {
   "cell_type": "markdown",
   "source": [
    "#### 2.\n",
    "Assume that different tests are independent; apply BH to select a set of winery pairs in which one winery is significantly better than the others while aiming for 0.05 false pairs. How many pairs were reported? is it more or less pairs than you discovered using Bonfferoni correction in HW4, Problem 4?"
   ],
   "metadata": {
    "collapsed": false,
    "pycharm": {
     "name": "#%% md\n"
    }
   }
  },
  {
   "cell_type": "markdown",
   "source": [
    "##### Binjamini and Hochberg\n",
    "Reject all $p_{(i)} \\leq q \\cdot i/m$"
   ],
   "metadata": {
    "collapsed": false,
    "pycharm": {
     "name": "#%% md\n"
    }
   }
  },
  {
   "cell_type": "code",
   "execution_count": null,
   "outputs": [],
   "source": [
    "alpha = 0.05"
   ],
   "metadata": {
    "collapsed": false,
    "pycharm": {
     "name": "#%%\n"
    }
   }
  },
  {
   "cell_type": "code",
   "execution_count": null,
   "outputs": [],
   "source": [
    "plt.scatter(np.arange(1, len(pv) + 1), sorted_pvals)\n",
    "\n",
    "# Bonferroni's:\n",
    "plt.plot([1, m], [alpha / m, alpha / m], '--r', alpha=.3)\n",
    "plt.plot([1, m], [alpha, alpha], '--g', alpha=.3)\n",
    "\n",
    "# BH:\n",
    "ell = np.arange(1, m + 1) / m * alpha\n",
    "plt.plot(np.arange(1, m + 1), ell, '--b')\n",
    "\n",
    "plt.ylabel('p-value')\n",
    "plt.xlabel('test #')\n",
    "plt.show()"
   ],
   "metadata": {
    "collapsed": false,
    "pycharm": {
     "name": "#%%\n"
    }
   }
  },
  {
   "cell_type": "code",
   "execution_count": null,
   "outputs": [],
   "source": [
    "# Discoveries by Bonferroni:\n",
    "rejected_bonferroni = sorted_pvals * len(sorted_pvals) < alpha\n",
    "rejected_bonferroni_pairs_list = [list(tests_res.keys())[i] for i in idcs[rejected_bonferroni]]\n",
    "\n",
    "print(f\"Discovered by Bonferroni:\\n\"\n",
    "      f\"{rejected_bonferroni_pairs_list}\")\n",
    "\n",
    "# Discoveries by BH:\n",
    "rejected_BH = sorted_pvals < ell\n",
    "rejected_BH_pairs_list = [list(tests_res.keys())[i] for i in idcs[rejected_BH]]\n",
    "print(f\"\\nDiscovered by BH:\\n\"\n",
    "      f\"{rejected_BH_pairs_list}\")"
   ],
   "metadata": {
    "collapsed": false,
    "pycharm": {
     "name": "#%%\n"
    }
   }
  },
  {
   "cell_type": "code",
   "execution_count": null,
   "outputs": [],
   "source": [
    "print(f'There are {len(rejected_BH_pairs_list)} false pairs using BH.\\n'\n",
    "      f'It is MORE pairs than we discovered using Bonfferoni correction ({len(rejected_bonferroni_pairs_list)} pairs).')"
   ],
   "metadata": {
    "collapsed": false,
    "pycharm": {
     "name": "#%%\n"
    }
   }
  },
  {
   "cell_type": "markdown",
   "source": [
    "#### 3.\n",
    "Repeat the last item without the independence assumption, i.e., use the harmonic sum correction."
   ],
   "metadata": {
    "collapsed": false,
    "pycharm": {
     "name": "#%% md\n"
    }
   }
  },
  {
   "cell_type": "markdown",
   "source": [
    "##### Without assuming independence or PRD"
   ],
   "metadata": {
    "collapsed": false,
    "pycharm": {
     "name": "#%% md\n"
    }
   }
  },
  {
   "cell_type": "code",
   "execution_count": null,
   "outputs": [],
   "source": [
    "plt.scatter(np.arange(1, len(pv) + 1), sorted_pvals)\n",
    "\n",
    "# Discoveries by Bonferroni's:\n",
    "ell = np.arange(1, m + 1) / m * alpha\n",
    "ell_dep = np.arange(1, m + 1) / m * alpha / (np.log(m))\n",
    "\n",
    "plt.plot([1, m], [alpha / m, alpha / m], '--r', alpha=.3)\n",
    "plt.plot([1, m], [alpha, alpha], '--g', alpha=.3)\n",
    "\n",
    "plt.plot(np.arange(1, m + 1), ell, '--b', alpha=.3)\n",
    "plt.plot(np.arange(1, m + 1), ell_dep, '--m')\n",
    "\n",
    "plt.ylabel('p-value')\n",
    "plt.xlabel('test #')\n",
    "plt.show()"
   ],
   "metadata": {
    "collapsed": false,
    "pycharm": {
     "name": "#%%\n"
    }
   }
  },
  {
   "cell_type": "code",
   "execution_count": null,
   "outputs": [],
   "source": [
    "rejected_BH_without_independence = sorted_pvals < ell_dep\n",
    "rejected_BH_without_independence_pairs_list = [list(tests_res.keys())[i] for i in\n",
    "                                               idcs[rejected_BH_without_independence]]\n",
    "print(f\"Discovered by BH w/o independence assumption:\\n\"\n",
    "      f\"{rejected_BH_without_independence_pairs_list}\\n\")\n",
    "\n",
    "print(\n",
    "    f'There are {len(rejected_BH_without_independence_pairs_list)} false pairs using BH w/o independence assumption.\\n'\n",
    "    f'It is MORE pairs than we discovered using Bonfferoni correction ({len(rejected_bonferroni_pairs_list)} pairs).')"
   ],
   "metadata": {
    "collapsed": false,
    "pycharm": {
     "name": "#%%\n"
    }
   }
  },
  {
   "cell_type": "markdown",
   "source": [
    "---"
   ],
   "metadata": {
    "collapsed": false,
    "pycharm": {
     "name": "#%% md\n"
    }
   }
  },
  {
   "cell_type": "markdown",
   "source": [
    "## Problem 2 (contrasts)\n",
    "#### Continuation of Problem 1\n",
    "\n",
    "Using a single t-test, test the assumption that the average of the Golan area wineries: ``Bazelet HaGolan``, ``Gamla``, ``Golan Heights Winery`` have the same quality as the average of Judean Hills area wineries: ``Katlav``, ``Psagot``, ``Shiloh Winery``, ``Titora``, ``Yatir`` (the goal here is to construct a \"contrast\", hence you should take an arithmetic average of group averages. You should only consider the size of each individual group when evaluating the variance of the contrast).\n",
    "\n",
    "Note: you can ignore the ``province`` filed in the data because it contains inaccurate information. You should also ignore the fact that in reality, ``Gamla`` is produced by ``Golan Heights Winery``."
   ],
   "metadata": {
    "collapsed": false,
    "pycharm": {
     "name": "#%% md\n"
    }
   }
  },
  {
   "cell_type": "markdown",
   "source": [
    "### **Answers**:"
   ],
   "metadata": {
    "collapsed": false,
    "pycharm": {
     "name": "#%% md\n"
    }
   }
  },
  {
   "cell_type": "code",
   "execution_count": null,
   "outputs": [],
   "source": [
    "golan_area_wineries_list = ['Bazelet HaGolan', 'Gamla', 'Golan Heights Winery']\n",
    "judean_hills_area_wineries_list = ['Katlav', 'Psagot', 'Shiloh Winery', 'Titora', 'Yatir']\n",
    "golan_area_wineries_df = wine_df[wine_df['winery'].isin(golan_area_wineries_list)]\n",
    "judean_hills_area_wineries_df = wine_df[wine_df['winery'].isin(judean_hills_area_wineries_list)]"
   ],
   "metadata": {
    "collapsed": false,
    "pycharm": {
     "name": "#%%\n"
    }
   }
  },
  {
   "cell_type": "code",
   "execution_count": null,
   "outputs": [],
   "source": [
    "y_bar_golan = golan_area_wineries_df.groupby('winery').apply(lambda x: np.average(x[variable]))\n",
    "y_bar_judea = judean_hills_area_wineries_df.groupby('winery').apply(lambda x: np.average(x[variable]))\n",
    "\n",
    "lambda_golan = [1 / len(golan_area_wineries_list)] * len(golan_area_wineries_list)\n",
    "lambda_judea = [-1 / len(judean_hills_area_wineries_list)] * len(judean_hills_area_wineries_list)\n",
    "\n",
    "n_golan = golan_area_wineries_df.groupby('winery').apply(lambda x: len(x)).values\n",
    "n_judea = judean_hills_area_wineries_df.groupby('winery').apply(lambda x: len(x)).values\n",
    "\n",
    "lambdas = np.array(lambda_golan + lambda_judea)\n",
    "y_s = np.concatenate([y_bar_golan.values, y_bar_judea.values])\n",
    "n_s = np.concatenate([n_golan, n_judea])"
   ],
   "metadata": {
    "collapsed": false,
    "pycharm": {
     "name": "#%%\n"
    }
   }
  },
  {
   "cell_type": "code",
   "execution_count": null,
   "outputs": [],
   "source": [
    "def ssquares(x):\n",
    "    return np.sum((x - np.mean(x)) ** 2)\n",
    "\n",
    "\n",
    "n = len(wine_df)\n",
    "k = len(wine_df['winery'].unique())\n",
    "ss_within = wine_df.groupby('winery')[variable].agg(ssquares).sum()\n",
    "MS_within = ss_within / (n - k)"
   ],
   "metadata": {
    "collapsed": false,
    "pycharm": {
     "name": "#%%\n"
    }
   }
  },
  {
   "cell_type": "code",
   "execution_count": null,
   "outputs": [],
   "source": [
    "s = np.sqrt(MS_within)\n",
    "t = (np.sum(lambdas * y_s)) / (s * np.sqrt(np.sum((lambdas ** 2) / n_s)))\n",
    "t"
   ],
   "metadata": {
    "collapsed": false,
    "pycharm": {
     "name": "#%%\n"
    }
   }
  },
  {
   "cell_type": "code",
   "execution_count": null,
   "outputs": [],
   "source": [
    "from scipy.stats import t as ttest\n",
    "\n",
    "p_value = ttest.sf(abs(t), n - k)\n",
    "p_value"
   ],
   "metadata": {
    "collapsed": false,
    "pycharm": {
     "name": "#%%\n"
    }
   }
  },
  {
   "cell_type": "code",
   "execution_count": null,
   "outputs": [],
   "source": [
    "So we cannot reject the null hypo. that claims that the average of the Golan area wineries have the same quality as the average of Judean Hills area wineries since our p-value is too large."
   ],
   "metadata": {
    "collapsed": false,
    "pycharm": {
     "name": "#%%\n"
    }
   }
  },
  {
   "cell_type": "markdown",
   "id": "09d83ad1",
   "metadata": {
    "pycharm": {
     "name": "#%% md\n"
    }
   },
   "source": [
    "---"
   ]
  },
  {
   "cell_type": "markdown",
   "id": "b96906ef",
   "metadata": {
    "pycharm": {
     "name": "#%% md\n"
    }
   },
   "source": [
    "## Problem 3 (Exact size of Bonferroni's test)\n",
    "Suppose that we run multiple tests with independent data and obtain P-values $p_1,\\ldots,p_n$. We wish to test the null hypothesis:\n",
    "$$\n",
    "H_0\\,:\\,\\text{All tests are null}\n",
    "$$\n",
    "at the level $\\alpha$ (e.g., $\\alpha=0.05$). In class, we introduced Bonferroni's procedure which is equivalent to: Reject $H_0$ if $\\min p_i \\leq \\alpha/n$.\n",
    "1. Show that the  size of the test in Bonferroni's procedure is at most $\\alpha$, regardless if the hypotheses are independent or not.\n",
    "2. Assuming that the hypotheses are independent, find the exact size of the test in Bonferroni's procedure.\n",
    "3. For $\\alpha=0.05$, evalaute the difference between $\\alpha$ and the exact test's size for $n=2,...,50$. Discuss what you see.\n",
    "\n"
   ]
  },
  {
   "cell_type": "markdown",
   "id": "4dec1bbe",
   "metadata": {
    "pycharm": {
     "name": "#%% md\n"
    }
   },
   "source": [
    "### **Answers**:"
   ]
  },
  {
   "cell_type": "markdown",
   "id": "7d144632",
   "metadata": {
    "pycharm": {
     "name": "#%% md\n"
    }
   },
   "source": [
    "#### 1.\n",
    "\n",
    "- We have n tests (e.g n=${m \\choose j}$ where j <= m)\n",
    "- We conduct each test at level $\\frac{\\alpha}{n}$ (e.g. for t-tests, we reject based on $t_{m-k}^{(1-\\frac{\\alpha}{2n})}$)\n",
    "- Under this procedure:\n",
    "$$Pr(reject \\quad something | H_0 \\quad is \\quad true) =$$\n",
    "$$Pr(min \\quad p_i <= \\frac{\\alpha}{n}) =$$\n",
    "$$Pr[(p_1 <= \\frac{\\alpha}{n}) \\cup (p_2 <= \\frac{\\alpha}{n}) \\cup \\cdots \\cup (p_n <= \\frac{\\alpha}{n})] =$$\n",
    "\n",
    "$$\\sum_{i=1}^{n} Pr(p_i <= \\frac{\\alpha}{n}) =$$\n",
    "$$\\sum_{l=1}^{n} \\frac{\\alpha}{n} <= n \\cdot \\frac{\\alpha}{n} = \\alpha$$\n"
   ]
  },
  {
   "cell_type": "markdown",
   "id": "a0a2c06a",
   "metadata": {
    "pycharm": {
     "name": "#%% md\n"
    }
   },
   "source": [
    "#### 2.\n",
    "Using this step from above, we can expand it:\n",
    "\n",
    "$$Pr[(p_1 <= \\frac{\\alpha}{n}) \\cup (p_2 <= \\frac{\\alpha}{n}) \\cup \\cdots \\cup (p_n <= \\frac{\\alpha}{n})] =$$\n",
    "$$1 - Pr[(p_1 > \\frac{\\alpha}{n}) \\cap (p_2 > \\frac{\\alpha}{n}) \\cap \\cdots \\cap (p_n > \\frac{\\alpha}{n})] =$$\n",
    "$$1 - \\prod_{i=1}^{n} Pr(p_i > \\frac{\\alpha}{n}) =$$\n",
    "$$1 - \\prod_{i=1}^{n} [1 - Pr(p_i <= \\frac{\\alpha}{n})]$$\n",
    "\n",
    "And again, from above $Pr(p_i <= \\frac{\\alpha}{n}) = \\frac{\\alpha}{n}$ so:\n",
    "$$1 - \\prod_{i=1}^{n} [1 - \\frac{\\alpha}{n}] =$$\n",
    "$$1 - (1 - \\frac{\\alpha}{n})^n$$"
   ]
  },
  {
   "cell_type": "markdown",
   "id": "473f2451",
   "metadata": {
    "pycharm": {
     "name": "#%% md\n"
    }
   },
   "source": [
    "#### 3."
   ]
  },
  {
   "cell_type": "code",
   "execution_count": 19,
   "id": "a16df700",
   "metadata": {
    "pycharm": {
     "name": "#%%\n"
    }
   },
   "outputs": [
    {
     "name": "stdout",
     "output_type": "stream",
     "text": [
      "n=2, value=0.04937500000000006\n",
      "n=3, value=0.04917129629629646\n",
      "n=4, value=0.049070288085937275\n",
      "n=5, value=0.04900995010000009\n",
      "n=6, value=0.04896983531023591\n",
      "n=7, value=0.04894123581227394\n",
      "n=8, value=0.04891981559586811\n",
      "n=9, value=0.04890317281799017\n",
      "n=10, value=0.048889869534228136\n",
      "n=11, value=0.0488789922522731\n",
      "n=12, value=0.04886993281129881\n",
      "n=13, value=0.04886227064981796\n",
      "n=14, value=0.048855705648663816\n",
      "n=15, value=0.04885001789563237\n",
      "n=16, value=0.048845042569365726\n",
      "n=17, value=0.04884065370486401\n",
      "n=18, value=0.04883675338038196\n",
      "n=19, value=0.04883326432487012\n",
      "n=20, value=0.04883012474683324\n",
      "n=21, value=0.048827284642970814\n",
      "n=22, value=0.04882470311503839\n",
      "n=23, value=0.048822346387668136\n",
      "n=24, value=0.04882018632241558\n",
      "n=25, value=0.048818199288886865\n",
      "n=26, value=0.04881636529671696\n",
      "n=27, value=0.04881466732067341\n",
      "n=28, value=0.0488130907705423\n",
      "n=29, value=0.048811623070831534\n",
      "n=30, value=0.048810253324615305\n",
      "n=31, value=0.048808972042497345\n",
      "n=32, value=0.048807770922485005\n",
      "n=33, value=0.04880664266987367\n",
      "n=34, value=0.048805580848999\n",
      "n=35, value=0.04880457976037933\n",
      "n=36, value=0.04880363433838786\n",
      "n=37, value=0.048802740065520434\n",
      "n=38, value=0.048801892900206534\n",
      "n=39, value=0.04880108921574933\n",
      "n=40, value=0.04880032574840909\n",
      "n=41, value=0.04879959955312374\n",
      "n=42, value=0.048798907965524885\n",
      "n=43, value=0.048798248569286495\n",
      "n=44, value=0.048797619167904815\n",
      "n=45, value=0.048797017760272676\n",
      "n=46, value=0.04879644251941462\n",
      "n=47, value=0.048795891773937505\n",
      "n=48, value=0.04879536399184259\n",
      "n=49, value=0.048794857766264244\n",
      "n=50, value=0.04879437180296864\n"
     ]
    }
   ],
   "source": [
    "alpha = 0.05\n",
    "\n",
    "for n in range(2, 51):\n",
    "    print(f'n={n}, value={1 - (1 - (alpha / n)) ** n}')"
   ]
  },
  {
   "cell_type": "code",
   "execution_count": 20,
   "id": "ee0f2808",
   "metadata": {
    "pycharm": {
     "name": "#%%\n"
    }
   },
   "outputs": [
    {
     "data": {
      "image/png": "[encoded data removed]",
      "text/plain": [
       "<Figure size 1440x504 with 1 Axes>"
      ]
     },
     "metadata": {
      "needs_background": "light"
     },
     "output_type": "display_data"
    }
   ],
   "source": [
    "n_range = np.arange(2, 51)\n",
    "corrected_p_value = [1 - (1 - (alpha / n)) ** n for n in n_range]\n",
    "plt.scatter(n_range, corrected_p_value)\n",
    "plt.ylabel('corrected p-value')\n",
    "plt.xlabel('n')\n",
    "plt.show()"
   ]
  },
  {
   "cell_type": "markdown",
   "id": "e8b8be1d",
   "metadata": {
    "pycharm": {
     "name": "#%% md\n"
    }
   },
   "source": [
    "(https://helpwithstatistics.com/significance-and-effect-size-the-bonferroni-correction)\n",
    "As n increases, the p value threshold for rejecting the Null decreases dramatically as well.\n",
    "\n",
    "The problem is that, by setting the p value so low, there is a decreasing chance that you have rejected a finding that really holds in the larger population.\n",
    "\n",
    "Even with p<=0.05, and n=50 without Bonferroni\\'s correction, there is a 90% chance that you reject a TRUE finding, but we rarely pay much attention to those (type II) errors - they become important in medical research, where failure to recognize a carcinogen, for example, can lead to fatal consequences."
   ]
  },
  {
   "cell_type": "markdown",
   "id": "5d037451",
   "metadata": {
    "pycharm": {
     "name": "#%% md\n"
    }
   },
   "source": [
    "---"
   ]
  },
  {
   "cell_type": "markdown",
   "id": "c157df85",
   "metadata": {
    "pycharm": {
     "name": "#%% md\n"
    }
   },
   "source": [
    "## Problem 4 (Prediction in Simple Regression)\n",
    "Consider the linear model:\n",
    "$$\n",
    "    y_i = \\beta_0 + \\beta_1 x_i + \\epsilon_i,\\qquad \\epsilon_i \\simiid \\Ncal(0,\\sigma^2)\n",
    "$$\n",
    "$$\n",
    "    Z = \\begin{pmatrix}\n",
    "    1 & x_1 \\\\\n",
    "    \\vdots & \\vdots \\\\\n",
    "    1 & x_n\n",
    "    \\end{pmatrix},\\quad \\beta=\\begin{pmatrix}\n",
    "    \\beta_0 \\\\\n",
    "    \\beta_1\n",
    "    \\end{pmatrix},\\qquad \\hat{\\beta}=(Z^\\top Z)^{-1} Z^\\top y\n",
    "$$\n",
    "Suppose we get a new data point $x_{n+1}$ and want to predict $y_{n+1}$. We want an interval in which this prediction will likely to land. In class, we used that\n",
    "$$\n",
    "\\var[\\hat{\\beta}_0 + \\hat{\\beta}_1 x] = \\sigma^2 \\left( \\frac{1}{n} + \\frac{(x-\\bar{x})^2}{S_{XX }}\\right)\n",
    "$$\n",
    "to obtain a confidence interval for $\\beta_0 + \\beta_1 x$, and a confidence band for all $x \\in \\reals$. In this question, you will use a similar reasoning to get a confidence interval (and bands) for $y_{n+1}$.\n",
    "1. Find the variance of $y_{n+1} - (\\hat{\\beta}_0 + \\hat{\\beta}_1 x_{n+1})$ in terms of $\\sigma^2$ and $x_1,\\ldots,x_n$ and $x_{n+1}$ (you can use $\\bar{x}$ and $S_{XX}$ or any other well-defined function of $x_1,\\ldots,x_n$). Explain intuitively why it makes sense that this variance is larger than the variance of  $\\hat{\\beta}_0 + \\hat{\\beta}_1 x_{n+1}$.\n",
    "2. Find a $1-\\alpha$ confidence interval for $y_{n+1}$. Is this interval wider or narrower than that of $\\hat{\\beta}_0 + \\hat{\\beta}_1 x_{n+1}$? For what value of $x_{n+1}$ this interval is the narrowest?\n",
    "3. Suppose that we take the average of two responses $y$'s at the same $x_{n+1}$, say\n",
    "$$\n",
    "y_{n+1} =  \\frac{y_{n+1}^{(1)} + y_{n+1}^{(2)}}{2},\n",
    "$$\n",
    "where\n",
    "$$\n",
    "y_{n+1}^{(1)} = \\beta_0 + \\beta_1 x_{n+1} + \\epsilon_{n+1}^{(1)}\n",
    "$$\n",
    "and\n",
    "$$\n",
    "y_{n+1}^{(2)} = \\beta_0 + \\beta_1 x_{n+1} + \\epsilon_{n+1}^{(2)},\n",
    "$$\n",
    "where $\\epsilon_{n+1}^{(1)}$ and $\\epsilon_{n+1}^{(2)}$ are independent. Find a confidence interval for $y_{n+1}$. Is it wider or narrower than the interval in (2) ?\n",
    "\n",
    "Note: The confidence interval you derived in 2 is somewhat risky to use because it makes the strong assumption that $\\epsilon_{n+1}$ is normal. This is compared to, say, confidence intervals for $\\hat{\\beta}_0$ and $\\hat{\\beta}_1$ which rely on averages over all observations $y_1,\\ldots,y_n$, so we can use the Central Limit Theorem to argue for normality. Things get better both in terms of variance and normality when you can take multiple measurements at the same $x_{n+1}$ and average these measurements.\n"
   ]
  },
  {
   "cell_type": "markdown",
   "id": "14104670",
   "metadata": {
    "pycharm": {
     "name": "#%% md\n"
    }
   },
   "source": [
    "### **Answers**:"
   ]
  },
  {
   "cell_type": "markdown",
   "id": "a188f999",
   "metadata": {
    "pycharm": {
     "name": "#%% md\n"
    }
   },
   "source": [
    "#### 1.\n",
    "$$\n",
    "\\var[y_{n+1} - (\\hat{\\beta}_0 + \\hat{\\beta}_1 x_{n+1})] =$$\n",
    "$$\\var(y_{n+1}) + \\var(\\hat{\\beta}_0 + \\hat{\\beta}_1 x_{n+1}) - 2 cov[y_{n+1}, (\\hat{\\beta}_0 + \\hat{\\beta}_1 x_{n+1})] =\n",
    "$$\n",
    "$$\\sigma^2 + \\sigma^2 \\left( \\frac{1}{n} + \\frac{(x_{n+1} - \\bar{x})^2}{S_{XX }}\\right) - 2 cov[y_{n+1}, (\\hat{\\beta}_0 + \\hat{\\beta}_1 x_{n+1})]\n",
    "$$\n",
    "\n",
    "We know that $\\operatorname{cov}(X+a, Y+b)=\\operatorname{cov}(X, Y)$ and that $\\operatorname{cov}(aX, bY) = ab \\operatorname{cov}(X, Y)$\n",
    "\n",
    "And more genereally: $\\operatorname{cov}(a X+b Y, c W+d V)=a c \\operatorname{cov}(X, W)+a d \\operatorname{cov}(X, V)+b c \\operatorname{cov}(Y, W)+b d \\operatorname{cov}(Y, V)$\n",
    "\n",
    "So, $cov[y_{n+1}, (\\hat{\\beta}_0 + \\hat{\\beta}_1 x_{n+1})] = cov[\\beta_0 + \\beta_1 x_i + \\epsilon_i, (\\hat{\\beta}_0 + \\hat{\\beta}_1 x_{n+1})] = cov[\\epsilon_i, (\\hat{\\beta}_0 + \\hat{\\beta}_1 x_{n+1})] =$\n",
    "\n",
    "$cov(\\epsilon_i, \\hat{\\beta}_0) + x_{n+1} \\cdot cov(\\epsilon_i, \\hat{\\beta}_1) = 0 + x_{n+1} \\cdot 0$\n",
    "\n",
    "Therefore, the last term from above ($2 cov[y_{n+1}, (\\hat{\\beta}_0 + \\hat{\\beta}_1 x_{n+1})]$) is 0.\n",
    "\n",
    "Finally,\n",
    "$$\\sigma^2 + \\sigma^2 \\left( \\frac{1}{n} + \\frac{(x_{n+1} - \\bar{x})^2}{S_{XX }}\\right) - 2 cov[y_{n+1}, (\\hat{\\beta}_0 + \\hat{\\beta}_1 x_{n+1})] =$$\n",
    "\n",
    "$$\\sigma^2 + \\sigma^2 \\left( \\frac{1}{n} + \\frac{(x_{n+1} - \\bar{x})^2}{S_{XX }}\\right) =$$\n",
    "\n",
    "$$ \\sigma^2 \\left( 1 +  \\frac{1}{n} + \\frac{(x_{n+1} - \\bar{x})^2}{S_{XX }}\\right)$$\n",
    "\n",
    "\n",
    "\n",
    "Intuitively, it makes sense that this variance is larger than the variance of  $\\hat{\\beta}_0 + \\hat{\\beta}_1 x_{n+1}$ because we added another term."
   ]
  },
  {
   "cell_type": "markdown",
   "id": "363a65a7",
   "metadata": {
    "pycharm": {
     "name": "#%% md\n"
    }
   },
   "source": [
    "#### 2.\n",
    "As we saw in class, with the general formula:\n",
    "\n",
    "$\\beta \\in \\mathbb{R}^p$.\n",
    "\n",
    "$Z \\in \\mathbb{R}^{n \\times p}$.\n",
    "\n",
    "$Y = Z \\beta + \\epsilon$.\n",
    "\n",
    "and $Z_0 \\in \\mathbb{R}^p$.\n",
    "\n",
    "$$Z_0 ^ T \\hat{\\beta} \\pm t_{n-p}^{1-\\alpha/2} \\cdot s \\sqrt{Z_0 ^ T (Z^\\top Z)^{-1} Z_0}$$\n",
    "\n",
    "So, p = 2, $Z_0 = x_{n+1}$\n",
    "\n",
    "$$Z_0 ^ T \\hat{\\beta} = y_{n+1} \\pm t_{n-2}^{1-\\alpha/2} \\cdot s \\sqrt{Z_0 ^ T (Z^\\top Z)^{-1} Z_0}$$"
   ]
  }
 ],
 "metadata": {
  "kernelspec": {
   "display_name": "Python 3",
   "language": "python",
   "name": "python3"
  },
  "language_info": {
   "codemirror_mode": {
    "name": "ipython",
    "version": 3
   },
   "file_extension": ".py",
   "mimetype": "text/x-python",
   "name": "python",
   "nbconvert_exporter": "python",
   "pygments_lexer": "ipython3",
   "version": "3.8.8"
  }
 },
 "nbformat": 4,
 "nbformat_minor": 5
}