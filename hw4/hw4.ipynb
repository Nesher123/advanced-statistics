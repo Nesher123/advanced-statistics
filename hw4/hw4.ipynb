{
 "cells": [
  {
   "cell_type": "markdown",
   "id": "85ecf83c",
   "metadata": {
    "pycharm": {
     "name": "#%% md\n"
    }
   },
   "source": [
    "#### Advanced Statistics for Data Science (Spring 2022)\n",
    "# Home Assignment 4\n",
    "#### Topics:\n",
    "- ANOVA\n",
    "\n",
    "\n",
    "#### Due: 10/05/2022 by 18:30\n",
    "\n",
    "#### Instructions:\n",
    "- Write your name, Student ID, and date in the cell below. \n",
    "- Submit a copy of this notebook with code filled in the relevant places as the solution of coding exercises.\n",
    "- For theoretic exercises, you can either write your solution in the notebook using $\\LaTeX$ or submit additional notes.\n",
    "\n",
    "<hr>\n",
    "<hr>"
   ]
  },
  {
   "cell_type": "markdown",
   "id": "e9e979a6",
   "metadata": {
    "pycharm": {
     "name": "#%% md\n"
    }
   },
   "source": [
    "**Name**: Ofir Nesher\n",
    "\n",
    "**Student ID**: 204502926\n",
    "\n",
    "**Date**: 01/05/2022\n",
    "\n",
    "$\n",
    "\\newcommand{\\Id}{{\\mathbf{I}}}  \n",
    "\\newcommand{\\SSE}{\\mathsf{SSE}}\n",
    "\\newcommand{\\SSR}{\\mathsf{SSR}}\n",
    "\\newcommand{\\MSE}{\\mathsf{MSE}}\n",
    "\\newcommand{\\simiid}{\\overset{iid}{\\sim}}\n",
    "\\newcommand{\\ex}{\\mathbb E}\n",
    "\\newcommand{\\var}{\\mathrm{Var}}\n",
    "\\newcommand{\\Cov}[2]{{\\mathrm{Cov}  \\left(#1, #2 \\right)}}\n",
    "\\newcommand{\\one}[1]{\\mathbf 1 {\\left\\{#1\\right\\}}}\n",
    "\\newcommand{\\SE}[1]{\\mathrm{SE} \\left[#1\\right]}\n",
    "\\newcommand{\\reals}{\\mathbb R}\n",
    "\\newcommand{\\Ncal}{\\mathcal N}\n",
    "\\newcommand{\\abs}[1]{\\ensuremath{\\left\\vert#1\\right\\vert}}\n",
    "\\newcommand{\\rank}{\\operatorname{rank}}\n",
    "\\newcommand{\\tr}{\\operatorname{Tr}}\n",
    "\\newcommand{\\diag}{\\operatorname{diag}}\n",
    "\\newcommand{\\sign}{\\operatorname{sign}}\n",
    "$\n"
   ]
  },
  {
   "cell_type": "markdown",
   "id": "24104bcd",
   "metadata": {
    "pycharm": {
     "name": "#%% md\n"
    }
   },
   "source": [
    "<hr>\n",
    "<hr>"
   ]
  },
  {
   "cell_type": "markdown",
   "id": "0d8954a2",
   "metadata": {
    "pycharm": {
     "name": "#%% md\n"
    }
   },
   "source": [
    "# Problem 1 (Solving LS using SVD)\n",
    "Consider the housing prices dataset (``housing_prices.csv``). Use houses of lot size smaller than 15000 ft.\n",
    "\n",
    "1. Find the least squares coefficient of the linear model with target variable ``SalePrice`` and the 16 predictors:\n",
    "``['LotArea',  'YearBuilt',\n",
    "  'GarageCars', 'YrSold', 'MoSold', 'Fireplaces',\n",
    "  'HalfBath', 'LowQualFinSF', 'TotalBsmtSF',\n",
    "  '1stFlrSF', 'LotFrontage', 'ScreenPorch',\n",
    "   'WoodDeckSF', 'OverallCond', 'BsmtUnfSF']`` \n",
    "plus a constant term. Remove all entries in which one or more of these predictors is missing. \n",
    " - By inverting the matrix $Z^\\top Z$. Denote the solution $\\hat{\\beta}$.\n",
    " - Using the SVD method. Here, decide that $\\sigma_i > 0$ if $\\sigma_i / \\sigma_1 > 10^{-6}$. Denote the solution $\\hat{\\beta}^{SVD}$.\n",
    " - In which method $R^2$ is smaller?\n",
    "2. Plot $\\hat{y}$ and $\\hat{y}^{SVD}$ over the same panel to convince yourself that both methods resulted in similar fitted responses.\n",
    "3. Plot $\\log(|\\hat{\\beta}_i/\\hat{\\beta}^{SVD}_i|)$ vs. $i$ for $i=1,\\ldots,p$ and indicate the covariate whose coefficient exhibits the largest difference between the methods.\n",
    "\n",
    "The point: When there are many predictors, it is likely that $Z$ will be rank deficient in the sense that some of its singular values are very small. Removing those singular values is usually a good practice; it is important to observe how this removal affects the solution. "
   ]
  },
  {
   "cell_type": "markdown",
   "id": "87bf576e",
   "metadata": {
    "pycharm": {
     "name": "#%% md\n"
    }
   },
   "source": [
    "The largest difference is for the first predictor, which is the constant covariate. We can check that this result makes sense by fitting a new model without the constant covaraite and test whether the residuals in the smaller new model are not significantly different from those in the original model."
   ]
  },
  {
   "cell_type": "markdown",
   "id": "7164468f",
   "metadata": {
    "pycharm": {
     "name": "#%% md\n"
    }
   },
   "source": [
    "You can use the code below to read and arrange the data"
   ]
  },
  {
   "cell_type": "code",
   "execution_count": 1,
   "id": "26e5e4c6",
   "metadata": {
    "pycharm": {
     "name": "#%%\n"
    }
   },
   "outputs": [],
   "source": [
    "import pandas as pd\n",
    "import numpy as np\n",
    "\n",
    "target = 'SalePrice'\n",
    "lo_predictors = ['const', 'SalePrice', 'LotArea', 'YearBuilt',\n",
    "                 'GarageCars', 'YrSold', 'MoSold', 'Fireplaces',\n",
    "                 'HalfBath', 'LowQualFinSF', 'TotalBsmtSF',\n",
    "                 '1stFlrSF', 'LotFrontage', 'ScreenPorch',\n",
    "                 'WoodDeckSF', 'OverallCond', 'BsmtUnfSF']\n",
    "\n",
    "data = pd.read_csv(\"housing_prices.csv\")\n",
    "data = data[data.LotArea < 15000]  # we focus on small lots\n",
    "data['const'] = 1  # add constant term\n",
    "data = data.filter(lo_predictors).dropna()  # remove all other columns\n",
    "\n",
    "y = data[target].values\n",
    "X = data.drop(target, axis=1)\n",
    "Z = X.values\n",
    "n, p = Z.shape"
   ]
  },
  {
   "cell_type": "markdown",
   "id": "d99f613b",
   "metadata": {
    "pycharm": {
     "name": "#%% md\n"
    }
   },
   "source": [
    "### **Answers**:"
   ]
  },
  {
   "cell_type": "markdown",
   "id": "b63f2ace",
   "metadata": {
    "pycharm": {
     "name": "#%% md\n"
    }
   },
   "source": [
    "#### 1."
   ]
  },
  {
   "cell_type": "code",
   "execution_count": 2,
   "id": "e4acd372",
   "metadata": {
    "pycharm": {
     "name": "#%%\n"
    }
   },
   "outputs": [],
   "source": [
    "betas_hat = np.dot((np.dot(np.linalg.inv(np.dot(Z.T, Z)), Z.T)), y)\n",
    "y_hat = Z.dot(betas_hat)"
   ]
  },
  {
   "cell_type": "code",
   "execution_count": 3,
   "id": "c33400b0",
   "metadata": {
    "pycharm": {
     "name": "#%%\n"
    }
   },
   "outputs": [
    {
     "name": "stdout",
     "output_type": "stream",
     "text": [
      "beta_0 (const) = -3039719.746770506\n",
      "beta_1 (LotArea) = 2.978147078820329\n",
      "beta_2 (YearBuilt) = 616.8396784188517\n",
      "beta_3 (GarageCars) = 21256.547086620998\n",
      "beta_4 (YrSold) = 884.9474678758138\n",
      "beta_5 (MoSold) = 983.7943648802681\n",
      "beta_6 (Fireplaces) = 16763.35942481487\n",
      "beta_7 (HalfBath) = 27915.65103716661\n",
      "beta_8 (LowQualFinSF) = 68.96051889240943\n",
      "beta_9 (TotalBsmtSF) = 43.89618695666137\n",
      "beta_10 (1stFlrSF) = 41.275209770486086\n",
      "beta_11 (LotFrontage) = 0.7334589918268932\n",
      "beta_12 (ScreenPorch) = 22.668025926562713\n",
      "beta_13 (WoodDeckSF) = 30.830913850875596\n",
      "beta_14 (OverallCond) = 7715.939211041576\n",
      "beta_15 (BsmtUnfSF) = -8.101915234063107\n"
     ]
    }
   ],
   "source": [
    "for i, feature in enumerate(X.columns):\n",
    "    print(f'beta_{i} ({feature}) = {betas_hat[i]}')"
   ]
  },
  {
   "cell_type": "code",
   "execution_count": 4,
   "id": "2bbab1c1",
   "metadata": {
    "pycharm": {
     "name": "#%%\n"
    }
   },
   "outputs": [],
   "source": [
    "def r_squared(y, y_hat):\n",
    "    SS_Tot = np.sum((y - y.mean()) ** 2)\n",
    "    SS_Fit = np.sum((y_hat - y.mean()) ** 2)\n",
    "    # SS_Res = np.sum((y - y_hat) ** 2)\n",
    "    return SS_Fit / SS_Tot"
   ]
  },
  {
   "cell_type": "code",
   "execution_count": 5,
   "id": "969e1b40",
   "metadata": {
    "pycharm": {
     "name": "#%%\n"
    }
   },
   "outputs": [
    {
     "name": "stdout",
     "output_type": "stream",
     "text": [
      "R^2 (inverting matrices): 0.7452057267966207\n"
     ]
    }
   ],
   "source": [
    "r_squared_inverting_matrices = r_squared(y, y_hat)\n",
    "print(f'R^2 (inverting matrices): {r_squared_inverting_matrices}')"
   ]
  },
  {
   "cell_type": "code",
   "execution_count": 6,
   "id": "c6be7340",
   "metadata": {
    "pycharm": {
     "name": "#%%\n"
    }
   },
   "outputs": [],
   "source": [
    "# obtaining the parameters of regression line\n",
    "betas_hat_svd = np.linalg.lstsq(Z, y, rcond=1e-6)[0]"
   ]
  },
  {
   "cell_type": "code",
   "execution_count": 7,
   "id": "48e2e6ac",
   "metadata": {
    "pycharm": {
     "name": "#%%\n"
    }
   },
   "outputs": [
    {
     "name": "stdout",
     "output_type": "stream",
     "text": [
      "beta_0 (const) = -0.2662313123058844\n",
      "beta_1 (LotArea) = 2.9401528610127876\n",
      "beta_2 (YearBuilt) = 612.3735023873245\n",
      "beta_3 (GarageCars) = 21197.77376954263\n",
      "beta_4 (YrSold) = -624.3924169020114\n",
      "beta_5 (MoSold) = 866.6457357525438\n",
      "beta_6 (Fireplaces) = 16647.231402975212\n",
      "beta_7 (HalfBath) = 28030.112432658876\n",
      "beta_8 (LowQualFinSF) = 68.06871600467703\n",
      "beta_9 (TotalBsmtSF) = 44.09904405183483\n",
      "beta_10 (1stFlrSF) = 41.412054283907246\n",
      "beta_11 (LotFrontage) = 6.732205544655748\n",
      "beta_12 (ScreenPorch) = 23.273619386475453\n",
      "beta_13 (WoodDeckSF) = 31.80069040626386\n",
      "beta_14 (OverallCond) = 7708.386069982767\n",
      "beta_15 (BsmtUnfSF) = -8.177081935195288\n"
     ]
    }
   ],
   "source": [
    "for i, feature in enumerate(X.columns):\n",
    "    print(f'beta_{i} ({feature}) = {betas_hat_svd[i]}')"
   ]
  },
  {
   "cell_type": "code",
   "execution_count": 8,
   "id": "517f7f29",
   "metadata": {
    "pycharm": {
     "name": "#%%\n"
    }
   },
   "outputs": [],
   "source": [
    "y_hat_svd = Z.dot(betas_hat_svd)"
   ]
  },
  {
   "cell_type": "code",
   "execution_count": 9,
   "id": "eba668e8",
   "metadata": {
    "pycharm": {
     "name": "#%%\n"
    }
   },
   "outputs": [
    {
     "name": "stdout",
     "output_type": "stream",
     "text": [
      "R^2 (SVD): 0.7444313767589752\n"
     ]
    }
   ],
   "source": [
    "r_squared_svd = r_squared(y, y_hat_svd)\n",
    "print(f'R^2 (SVD): {r_squared_svd}')"
   ]
  },
  {
   "cell_type": "code",
   "execution_count": 10,
   "id": "066ceb7c",
   "metadata": {
    "pycharm": {
     "name": "#%%\n"
    }
   },
   "outputs": [
    {
     "name": "stdout",
     "output_type": "stream",
     "text": [
      "R^2 (SVD) is smaller than R^2 (inverting matrices)\n"
     ]
    }
   ],
   "source": [
    "if r_squared_svd > r_squared_inverting_matrices:\n",
    "    print(f'R^2 (SVD) is larger than R^2 (inverting matrices)')\n",
    "elif r_squared_svd < r_squared_inverting_matrices:\n",
    "    print(f'R^2 (SVD) is smaller than R^2 (inverting matrices)')\n",
    "else:\n",
    "    print('R^2 (SVD) and R^2 (inverting matrices) are equal')"
   ]
  },
  {
   "cell_type": "markdown",
   "id": "43ec6032",
   "metadata": {
    "pycharm": {
     "name": "#%% md\n"
    }
   },
   "source": [
    "#### 2."
   ]
  },
  {
   "cell_type": "code",
   "execution_count": 11,
   "id": "9ec0dfd9",
   "metadata": {
    "pycharm": {
     "name": "#%%\n"
    }
   },
   "outputs": [
    {
     "data": {
      "image/png": "[encoded data removed]",
      "text/plain": [
       "<Figure size 432x288 with 1 Axes>"
      ]
     },
     "metadata": {
      "needs_background": "light"
     },
     "output_type": "display_data"
    },
    {
     "data": {
      "image/png": "[encoded data removed]",
      "text/plain": [
       "<Figure size 432x288 with 1 Axes>"
      ]
     },
     "metadata": {
      "needs_background": "light"
     },
     "output_type": "display_data"
    },
    {
     "name": "stdout",
     "output_type": "stream",
     "text": [
      "Both methods resulted in similar fitted responses! :)\n"
     ]
    }
   ],
   "source": [
    "import matplotlib.pyplot as plt\n",
    "\n",
    "plt.hist(y_hat, alpha=.5, color='r', density=True)\n",
    "plt.hist(y_hat_svd, alpha=.5, color='b', density=True)\n",
    "plt.show()\n",
    "\n",
    "x_axis = range(len(y))\n",
    "plt.plot(x_axis, y_hat, alpha=.5, color='r')\n",
    "plt.scatter(x_axis, y_hat_svd, alpha=.5, color='b')\n",
    "plt.show()\n",
    "print('Both methods resulted in similar fitted responses! :)')"
   ]
  },
  {
   "cell_type": "markdown",
   "id": "cf0879f0",
   "metadata": {
    "pycharm": {
     "name": "#%% md\n"
    }
   },
   "source": [
    "#### 3."
   ]
  },
  {
   "cell_type": "code",
   "execution_count": 12,
   "id": "6587ce96",
   "metadata": {
    "pycharm": {
     "name": "#%%\n"
    }
   },
   "outputs": [
    {
     "data": {
      "image/png": "[encoded data removed]",
      "text/plain": [
       "<Figure size 432x288 with 1 Axes>"
      ]
     },
     "metadata": {
      "needs_background": "light"
     },
     "output_type": "display_data"
    },
    {
     "name": "stdout",
     "output_type": "stream",
     "text": [
      "We can see that the covariate whose coefficient exhibits the largest difference between the methods is the first predictor at i=0, which is the constant covariate.\n"
     ]
    }
   ],
   "source": [
    "plt.scatter(list(range(0, p)), np.log(np.abs(betas_hat / betas_hat_svd)))\n",
    "plt.xlabel('i')\n",
    "plt.ylabel('log(|betas_hat / betas_hat_svd|)')\n",
    "plt.title('log(|betas_hat / betas_hat_svd|) vs. i')\n",
    "plt.show()\n",
    "\n",
    "print(\n",
    "    'We can see that the covariate whose coefficient exhibits the largest difference between the methods is the first predictor at i=0, which is the constant covariate.')"
   ]
  },
  {
   "cell_type": "markdown",
   "id": "e7e98d92",
   "metadata": {
    "pycharm": {
     "name": "#%% md\n"
    }
   },
   "source": [
    "---\n",
    "## Problem 2 ($t$-test is a kind of ANOVA)\n",
    "Consider the following two-sample problem. The data is\n",
    "$$\n",
    "y_{ij} = \\mu_i + \\epsilon_{ij},\\qquad j=1,\\ldots,n_i,\\quad i=0,1.\n",
    "$$\n",
    "\n",
    "1. Find the statistic $t$ for the two-sample $t$ test (using of the observable variables)\n",
    "2. Write the ANOVA table for $k=2$ and find the F statistic $F$ (using of the observable variables)\n",
    "3. Conclude that $t^2 = F$.\n",
    "4. Does the test that rejects when $|t| > t_{n-1}^{1-\\alpha/2}$ has larger power than the test that rejects when $F > F_{1,n-1}^{1-\\alpha}$? less? same?"
   ]
  },
  {
   "cell_type": "markdown",
   "id": "6be3b1b6",
   "metadata": {
    "pycharm": {
     "name": "#%% md\n"
    }
   },
   "source": [
    "### **Answers**:"
   ]
  },
  {
   "cell_type": "markdown",
   "source": [
    "#### 1.\n",
    "Cell mean model:\n",
    "$y_{ij} = \\mu_i + \\epsilon_{ij},\\qquad j=1,\\ldots,n_i,\\quad i=0,1$\n",
    "$\\epsilon_{ij} \\sim^{iid}  N(0, \\sigma^2)$\n",
    "\n",
    "\n",
    "As seen in lecture 6, we can rewrite this model in matrix notation:\n",
    "$Y \\sim N(Z\\beta, \\sigma^2 I_n)$ \n",
    "where\n",
    "\n",
    "$$\n",
    "Y = \\begin{bmatrix}\n",
    " y_{01} \\\\\n",
    " y_{02} \\\\\n",
    " \\vdots \\\\\n",
    " y_{0 n_0} \\\\\n",
    " y_{11} \\\\\n",
    " y_{12} \\\\\n",
    " \\vdots \\\\\n",
    " y_{1 n_1}\n",
    "\\end{bmatrix}\n",
    "$$\n",
    "\n",
    "$$Z = \\begin{bmatrix}\n",
    " 1 & 0\\\\\n",
    " 1 & 0\\\\\n",
    " \\vdots & \\vdots \\\\\n",
    " 1 & 0\\\\\n",
    " 0 & 1\\\\\n",
    " 0 & 1\\\\\n",
    " \\vdots & \\vdots \\\\\n",
    " 0 & 1\\\\\n",
    "\\end{bmatrix}\n",
    "\\in \\mathbb{R}^{n \\times 2}\n",
    "$$\n",
    "\n",
    "$$\\beta = \n",
    "\\begin{bmatrix}\n",
    " \\mu_0 \\\\\n",
    " \\mu_1 \\\\\n",
    "\\end{bmatrix}\n",
    "$$\n",
    "\n",
    "Our null hypothesis is $H_0: \\mu_0 = \\mu_1$.\n",
    "\n",
    "We will develop a test against $H_0$ based on properties of the linear model.\n",
    "\n",
    "$\\bar{Y_0} = \\frac{1}{n_0}\\sum_{i=1}^{n_0} Y_i$\n",
    "\n",
    "\n",
    "$$\n",
    "t = \\frac{\\bar{Y_1} - \\bar{Y_0}}{s \\sqrt{\\frac{1}{n_1} + \\frac{1}{n_0}}}\n",
    "$$\n",
    "\n",
    "$$s\n",
    "=\n",
    "\\sqrt{\n",
    "\\frac\n",
    "{\\sum_{i=1}^{n_1}(y_{1i}-\\mu_1)^2 + \\sum_{i=1}^{n_0}(y_{0i}-\\mu_0)^2 }\n",
    "{n_0+n_1-2}}\n",
    "$$"
   ],
   "metadata": {
    "collapsed": false,
    "pycharm": {
     "name": "#%% md\n"
    }
   }
  },
  {
   "cell_type": "markdown",
   "source": [
    "#### 2."
   ],
   "metadata": {
    "collapsed": false,
    "pycharm": {
     "name": "#%% md\n"
    }
   }
  },
  {
   "cell_type": "code",
   "execution_count": null,
   "outputs": [],
   "source": [
    "print(\"\"\"\n",
    "Source    Dof       SS             MS                              F\n",
    "Groups    k-1       SS_between     MS_between=SS_between/(k-1)     MS_between/MS_within\n",
    "Error     n-k       SS_within      MS_within=SS_within/(n-k)\n",
    "Total     n-1       SS_total\n",
    "\"\"\")"
   ],
   "metadata": {
    "collapsed": false,
    "pycharm": {
     "name": "#%%\n"
    }
   }
  },
  {
   "cell_type": "markdown",
   "source": [
    "where\n",
    "$$\n",
    "\\mathrm{SS}_{between} = \\sum_{i=1}^k n_i(\\bar{y}_{i\\cdot} - \\bar{y}_{\\cdot \\cdot})^2,\\qquad \\mathrm{SS}_{within} = \\sum_{i=1}^k \\sum_{j=1}^{n_i} (y_{ij} - \\bar{y}_{i\\cdot})^2\n",
    "$$"
   ],
   "metadata": {
    "collapsed": false,
    "pycharm": {
     "name": "#%% md\n"
    }
   }
  },
  {
   "cell_type": "code",
   "execution_count": null,
   "outputs": [],
   "source": [
    "print(\"\"\"\n",
    "Source    Dof       SS                               MS                              F\n",
    "Groups    1         SS_between                       SS_between                      (n-2)*(SS_between/SS_within)\n",
    "Error     n-2       SS_within                        SS_within/(n-2)\n",
    "Total     n-1       SS_total=SS_between+SS_within\n",
    "\"\"\")"
   ],
   "metadata": {
    "collapsed": false,
    "pycharm": {
     "name": "#%%\n"
    }
   }
  },
  {
   "cell_type": "markdown",
   "source": [
    "#### 3.\n",
    "$$\n",
    "t^2 = \\frac{(\\bar{Y_1} - \\bar{Y_0})^2}{s^2 (\\frac{1}{n_1} + \\frac{1}{n_0})} = \\frac{(\\bar{Y_1} - \\bar{Y_0})^2}{s^2 (\\frac{n_0 + n_1}{n_0 n_1})} =\n",
    "$$\n",
    "\n",
    "$$\n",
    "\\frac{(\\bar{Y_1} - \\bar{Y_0})^2}{\\frac\n",
    "{\\sum_{i=1}^{n_1}(y_{1i}-\\mu_1)^2 + \\sum_{i=1}^{n_0}(y_{0i}-\\mu_0)^2 }\n",
    "{n_0+n_1-2} (\\frac{n_0 + n_1}{n_0 n_1})} =\n",
    "$$\n",
    "\n",
    "$$\n",
    "\\frac{(\\bar{Y_1} - \\bar{Y_0})^2}{\\frac\n",
    "{[\\sum_{i=1}^{n_1}(y_{1i}-\\mu_1)^2 + \\sum_{i=1}^{n_0}(y_{0i}-\\mu_0)^2](n_0 + n_1)}\n",
    "{(n_0+n_1-2) (n_0 n_1)}} =\n",
    "$$"
   ],
   "metadata": {
    "collapsed": false,
    "pycharm": {
     "name": "#%% md\n"
    }
   }
  },
  {
   "cell_type": "markdown",
   "source": [
    "#### 4.\n"
   ],
   "metadata": {
    "collapsed": false,
    "pycharm": {
     "name": "#%% md\n"
    }
   }
  },
  {
   "cell_type": "markdown",
   "source": [
    "---\n",
    "## Problem 3 (ANOVA Decomposition)\n",
    "In class, we considered the decomposition:\n",
    "$$\n",
    "\\begin{equation}\n",
    "\\mathrm{SS}_{tot} = \\mathrm{SS}_{within} + \\mathrm{SS}_{between}\n",
    "\\label{eq:ANOVA} \\tag{1}\n",
    "\\end{equation}\n",
    "$$\n",
    "where\n",
    "$$\n",
    "\\mathrm{SS}_{between} = \\sum_{i=1}^k n_i(\\bar{y}_{i\\cdot} - \\bar{y}_{\\cdot \\cdot})^2,\\qquad \\mathrm{SS}_{within} = \\sum_{i=1}^k \\sum_{j=1}^{n_i} (y_{ij} - \\bar{y}_{i\\cdot})^2\n",
    "$$\n",
    "Prove $\\eqref{eq:ANOVA}$ by expanding:\n",
    "$$\n",
    "\\mathrm{SS}_{tot} = \\sum_{i=1}^k \\sum_{j=1}^{n_i} (y_{ij} - \\bar{y}_{\\cdot \\cdot})^2 = \\sum_{i=1}^k \\sum_{j=1}^{n_i} (y_{ij} - \\bar{y}_{i\\cdot} + \\bar{y}_{i\\cdot} - \\bar{y}_{\\cdot \\cdot})^2 = ...\n",
    "$$"
   ],
   "metadata": {
    "collapsed": false,
    "pycharm": {
     "name": "#%% md\n"
    }
   }
  },
  {
   "cell_type": "markdown",
   "source": [
    "### **Answer**:\n",
    "$$\n",
    "\\mathrm{SS}_{tot} = \\sum_{i=1}^k \\sum_{j=1}^{n_i} (y_{ij} - \\bar{y}_{\\cdot \\cdot})^2 = \\sum_{i=1}^k \\sum_{j=1}^{n_i} (y_{ij} - \\bar{y}_{i\\cdot} + \\bar{y}_{i\\cdot} - \\bar{y}_{\\cdot \\cdot})^2 =\n",
    "$$\n",
    "\n",
    "$$\n",
    "\\sum_{i=1}^k \\sum_{j=1}^{n_i} (y_{ij} - \\bar{y}_{i\\cdot})^2 - 2[(y_{ij} - \\bar{y}_{i\\cdot})(\\bar{y}_{i\\cdot} - \\bar{y}_{\\cdot \\cdot})] + (\\bar{y}_{i\\cdot} - \\bar{y}_{\\cdot \\cdot})^2 =\n",
    "$$\n",
    "\n",
    "$$\n",
    "\\mathrm{SS}_{within} - 2\\sum_{i=1}^k \\sum_{j=1}^{n_i}[(y_{ij} - \\bar{y}_{i\\cdot})(\\bar{y}_{i\\cdot} - \\bar{y}_{\\cdot \\cdot})] + \\sum_{i=1}^k \\sum_{j=1}^{n_i}(\\bar{y}_{i\\cdot} - \\bar{y}_{\\cdot \\cdot})^2 =\n",
    "$$\n",
    "\n",
    "$$\n",
    "\\mathrm{SS}_{within} - 2\\sum_{i=1}^k (\\bar{y}_{i\\cdot} - \\bar{y}_{\\cdot \\cdot}) \\sum_{j=1}^{n_i} (y_{ij} - \\bar{y}_{i\\cdot}) + \\sum_{i=1}^k (\\bar{y}_{i\\cdot} - \\bar{y}_{\\cdot \\cdot})^2 =\n",
    "$$\n",
    "\n",
    "$$\n",
    "\\mathrm{SS}_{within} - 2\\sum_{i=1}^k (\\bar{y}_{i\\cdot} - \\bar{y}_{\\cdot \\cdot}) \\sum_{j=1}^{n_i} (y_{ij} - \\bar{y}_{i\\cdot}) + \\mathrm{SS}_{between}\n",
    "$$\n",
    "\n",
    "We know that $\\sum_{j=1}^{n_i} (y_{ij} - \\bar{y}_{i\\cdot}) = 0$ so the remianing term is neglected, and we end up with $\\mathrm{SS}_{within} + \\mathrm{SS}_{between}$"
   ],
   "metadata": {
    "collapsed": false,
    "pycharm": {
     "name": "#%% md\n"
    }
   }
  },
  {
   "cell_type": "markdown",
   "source": [
    "---\n",
    "## Problem 4 (ANOVA and multiple testing in Practice)\n",
    "\n",
    "Consider Israeli wines in the wine dataset ``winemag-data_first150k.csv`` used in class (downloaded from Kaggle https://www.kaggle.com/datasets/zynicide/wine-reviews?select=winemag-data_first150k.csv). Use ANOVA to measure the effect of winery (``winery``) on the quality (``points``) of wine of variety ``Cabernet Sauvignon``.\n",
    "1. Load dataset; keep only relevant records according to the fields ``country`` and ``variety``; remove wineries with 1 or fewer samples (because we cannot do ANOVA for those)\n",
    "2. Plot the boxplot with ``winery`` as the x-axis and ``points`` as the y-axis.\n",
    "3. Use ANOVA to figure out whether some wineries make better Cabernets than others; print the ANOVA table and explain your conclusion\n",
    "4. Find which wineries have Cabernets ranked higher than others:\n",
    " - Run all paired t-tests; how many of the test's P-values fall below 0.05? is it more than what is expected if all tests are null?\n",
    " - Use Bonferroni's method to decide which wineries ranked significantly higher than others by reporting on the list of pairs whose P-value is significant after Bonferroni's correction. Also indicate which one is ranked higher out of each pair."
   ],
   "metadata": {
    "collapsed": false,
    "pycharm": {
     "name": "#%% md\n"
    }
   }
  },
  {
   "cell_type": "markdown",
   "source": [
    "### **Answers**:"
   ],
   "metadata": {
    "collapsed": false,
    "pycharm": {
     "name": "#%% md\n"
    }
   }
  },
  {
   "cell_type": "code",
   "execution_count": null,
   "outputs": [],
   "source": [
    "import seaborn as sns\n",
    "\n",
    "np.random.seed(2021)\n",
    "plt.rcParams[\"figure.figsize\"] = (20, 7)\n",
    "plt.rcParams.update({'font.size': 18})"
   ],
   "metadata": {
    "collapsed": false,
    "pycharm": {
     "name": "#%%\n"
    }
   }
  },
  {
   "cell_type": "markdown",
   "source": [
    "#### 1."
   ],
   "metadata": {
    "collapsed": false,
    "pycharm": {
     "name": "#%% md\n"
    }
   }
  },
  {
   "cell_type": "code",
   "execution_count": null,
   "outputs": [],
   "source": [
    "wine_df = pd.read_csv(\"winemag-data_first150k.csv\")\n",
    "wine_df = wine_df[(wine_df['country'] == 'Israel') & (wine_df['variety'] == 'Cabernet Sauvignon')]\n",
    "all_wineries = wine_df['winery'].value_counts() > 1\n",
    "valid_wineries = list(all_wineries[all_wineries].index.values)\n",
    "wine_df = wine_df[wine_df['winery'].isin(valid_wineries)]\n",
    "print(wine_df.describe())"
   ],
   "metadata": {
    "collapsed": false,
    "pycharm": {
     "name": "#%%\n"
    }
   }
  },
  {
   "cell_type": "markdown",
   "source": [
    "#### 2."
   ],
   "metadata": {
    "collapsed": false,
    "pycharm": {
     "name": "#%% md\n"
    }
   }
  },
  {
   "cell_type": "code",
   "execution_count": null,
   "outputs": [],
   "source": [
    "sns.boxplot(x='winery', y='points', data=wine_df)\n",
    "plt.xticks(rotation=45)\n",
    "plt.show()"
   ],
   "metadata": {
    "collapsed": false,
    "pycharm": {
     "name": "#%%\n"
    }
   }
  },
  {
   "cell_type": "markdown",
   "source": [
    "#### 3."
   ],
   "metadata": {
    "collapsed": false,
    "pycharm": {
     "name": "#%% md\n"
    }
   }
  },
  {
   "cell_type": "code",
   "execution_count": null,
   "outputs": [],
   "source": [
    "from scipy.stats import f\n",
    "\n",
    "k = len(valid_wineries)\n",
    "n = len()\n",
    "SS_between = \n",
    "SS_within = \n",
    "\n",
    "MS_between = SS_between / (k-1)\n",
    "MS_within = SS_within / (n-k)\n",
    "F = MS_between / MS_within\n",
    "F_pvalue = f.sf(F, k-1, n-k)"
   ],
   "metadata": {
    "collapsed": false,
    "pycharm": {
     "name": "#%%\n"
    }
   }
  },
  {
   "cell_type": "code",
   "execution_count": 18,
   "id": "38683b98",
   "metadata": {
    "pycharm": {
     "name": "#%%\n"
    }
   },
   "outputs": [
    {
     "data": {
      "image/png": "[encoded data removed]",
      "text/plain": [
       "<Figure size 1440x504 with 1 Axes>"
      ]
     },
     "metadata": {
      "needs_background": "light"
     },
     "output_type": "display_data"
    }
   ],
   "source": [
    "sns.boxplot(x='winery', y='points', data=wine_df)\n",
    "plt.xticks(rotation=45)\n",
    "plt.show()"
   ]
  },
  {
   "cell_type": "markdown",
   "id": "fad0b52a",
   "metadata": {
    "pycharm": {
     "name": "#%% md\n"
    }
   },
   "source": [
    "#### 3."
   ]
  },
  {
   "cell_type": "code",
   "execution_count": 19,
   "id": "04dc6a10",
   "metadata": {
    "pycharm": {
     "name": "#%%\n"
    }
   },
   "outputs": [
    {
     "ename": "SyntaxError",
     "evalue": "invalid syntax (<ipython-input-19-145c1867e18e>, line 5)",
     "output_type": "error",
     "traceback": [
      "\u001B[1;36m  File \u001B[1;32m\"<ipython-input-19-145c1867e18e>\"\u001B[1;36m, line \u001B[1;32m5\u001B[0m\n\u001B[1;33m    SS_between =\u001B[0m\n\u001B[1;37m                 ^\u001B[0m\n\u001B[1;31mSyntaxError\u001B[0m\u001B[1;31m:\u001B[0m invalid syntax\n"
     ]
    }
   ],
   "source": [
    "from scipy.stats import f\n",
    "\n",
    "k = len(valid_wineries)\n",
    "n = len()\n",
    "SS_between = \n",
    "SS_within = \n",
    "\n",
    "MS_between = SS_between / (k-1)\n",
    "MS_within = SS_within / (n-k)\n",
    "F = MS_between / MS_within\n",
    "F_pvalue = f.sf(F, k-1, n-k)"
   ]
  },
  {
   "cell_type": "markdown",
   "id": "c613f121",
   "metadata": {
    "pycharm": {
     "name": "#%% md\n"
    }
   },
   "source": [
    "#### 4."
   ]
  },
  {
   "cell_type": "code",
   "execution_count": null,
   "id": "5a7bebc6",
   "metadata": {
    "pycharm": {
     "name": "#%%\n"
    }
   },
   "outputs": [],
   "source": []
  }
 ],
 "metadata": {
  "kernelspec": {
   "display_name": "Python 3",
   "language": "python",
   "name": "python3"
  },
  "language_info": {
   "codemirror_mode": {
    "name": "ipython",
    "version": 3
   },
   "file_extension": ".py",
   "mimetype": "text/x-python",
   "name": "python",
   "nbconvert_exporter": "python",
   "pygments_lexer": "ipython3",
   "version": "3.8.8"
  }
 },
 "nbformat": 4,
 "nbformat_minor": 5
}