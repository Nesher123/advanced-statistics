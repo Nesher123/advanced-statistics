{
 "cells": [
  {
   "cell_type": "markdown",
   "id": "85ecf83c",
   "metadata": {
    "pycharm": {
     "name": "#%% md\n"
    }
   },
   "source": [
    "#### Advanced Statistics for Data Science (Spring 2022)\n",
    "# Home Assignment 4\n",
    "#### Topics:\n",
    "- ANOVA\n",
    "\n",
    "\n",
    "#### Due: 10/05/2022 by 18:30\n",
    "\n",
    "#### Instructions:\n",
    "- Write your name, Student ID, and date in the cell below. \n",
    "- Submit a copy of this notebook with code filled in the relevant places as the solution of coding exercises.\n",
    "- For theoretic exercises, you can either write your solution in the notebook using $\\LaTeX$ or submit additional notes.\n",
    "\n",
    "<hr>\n",
    "<hr>"
   ]
  },
  {
   "cell_type": "markdown",
   "id": "e9e979a6",
   "metadata": {
    "pycharm": {
     "name": "#%% md\n"
    }
   },
   "source": [
    "**Name**: Ofir Nesher\n",
    "\n",
    "**Student ID**: 204502926\n",
    "\n",
    "**Date**: 01/05/2022\n",
    "\n",
    "$\n",
    "\\newcommand{\\Id}{{\\mathbf{I}}}  \n",
    "\\newcommand{\\SSE}{\\mathsf{SSE}}\n",
    "\\newcommand{\\SSR}{\\mathsf{SSR}}\n",
    "\\newcommand{\\MSE}{\\mathsf{MSE}}\n",
    "\\newcommand{\\simiid}{\\overset{iid}{\\sim}}\n",
    "\\newcommand{\\ex}{\\mathbb E}\n",
    "\\newcommand{\\var}{\\mathrm{Var}}\n",
    "\\newcommand{\\Cov}[2]{{\\mathrm{Cov}  \\left(#1, #2 \\right)}}\n",
    "\\newcommand{\\one}[1]{\\mathbf 1 {\\left\\{#1\\right\\}}}\n",
    "\\newcommand{\\SE}[1]{\\mathrm{SE} \\left[#1\\right]}\n",
    "\\newcommand{\\reals}{\\mathbb R}\n",
    "\\newcommand{\\Ncal}{\\mathcal N}\n",
    "\\newcommand{\\abs}[1]{\\ensuremath{\\left\\vert#1\\right\\vert}}\n",
    "\\newcommand{\\rank}{\\operatorname{rank}}\n",
    "\\newcommand{\\tr}{\\operatorname{Tr}}\n",
    "\\newcommand{\\diag}{\\operatorname{diag}}\n",
    "\\newcommand{\\sign}{\\operatorname{sign}}\n",
    "$\n"
   ]
  },
  {
   "cell_type": "markdown",
   "id": "24104bcd",
   "metadata": {
    "pycharm": {
     "name": "#%% md\n"
    }
   },
   "source": [
    "<hr>\n",
    "<hr>"
   ]
  },
  {
   "cell_type": "markdown",
   "id": "0d8954a2",
   "metadata": {
    "pycharm": {
     "name": "#%% md\n"
    }
   },
   "source": [
    "# Problem 1 (Solving LS using SVD)\n",
    "Consider the housing prices dataset (``housing_prices.csv``). Use houses of lot size smaller than 15000 ft.\n",
    "\n",
    "1. Find the least squares coefficient of the linear model with target variable ``SalePrice`` and the 16 predictors:\n",
    "``['LotArea',  'YearBuilt',\n",
    "  'GarageCars', 'YrSold', 'MoSold', 'Fireplaces',\n",
    "  'HalfBath', 'LowQualFinSF', 'TotalBsmtSF',\n",
    "  '1stFlrSF', 'LotFrontage', 'ScreenPorch',\n",
    "   'WoodDeckSF', 'OverallCond', 'BsmtUnfSF']`` \n",
    "plus a constant term. Remove all entries in which one or more of these predictors is missing. \n",
    " - By inverting the matrix $Z^\\top Z$. Denote the solution $\\hat{\\beta}$.\n",
    " - Using the SVD method. Here, decide that $\\sigma_i > 0$ if $\\sigma_i / \\sigma_1 > 10^{-6}$. Denote the solution $\\hat{\\beta}^{SVD}$.\n",
    " - In which method $R^2$ is smaller?\n",
    "2. Plot $\\hat{y}$ and $\\hat{y}^{SVD}$ over the same panel to convince yourself that both methods resulted in similar fitted responses.\n",
    "3. Plot $\\log(|\\hat{\\beta}_i/\\hat{\\beta}^{SVD}_i|)$ vs. $i$ for $i=1,\\ldots,p$ and indicate the covariate whose coefficient exhibits the largest difference between the methods.\n",
    "\n",
    "The point: When there are many predictors, it is likely that $Z$ will be rank deficient in the sense that some of its singular values are very small. Removing those singular values is usually a good practice; it is important to observe how this removal affects the solution. "
   ]
  },
  {
   "cell_type": "markdown",
   "id": "87bf576e",
   "metadata": {
    "pycharm": {
     "name": "#%% md\n"
    }
   },
   "source": [
    "The largest difference is for the first predictor, which is the constant covariate. We can check that this result makes sense by fitting a new model without the constant covaraite and test whether the residuals in the smaller new model are not significantly different from those in the original model."
   ]
  },
  {
   "cell_type": "markdown",
   "id": "7164468f",
   "metadata": {
    "pycharm": {
     "name": "#%% md\n"
    }
   },
   "source": [
    "You can use the code below to read and arrange the data"
   ]
  },
  {
   "cell_type": "code",
   "execution_count": 137,
   "id": "26e5e4c6",
   "metadata": {
    "pycharm": {
     "name": "#%%\n"
    }
   },
   "outputs": [],
   "source": [
    "import pandas as pd\n",
    "import numpy as np\n",
    "\n",
    "target = 'SalePrice'\n",
    "lo_predictors = ['const', 'SalePrice', 'LotArea', 'YearBuilt',\n",
    "                 'GarageCars', 'YrSold', 'MoSold', 'Fireplaces',\n",
    "                 'HalfBath', 'LowQualFinSF', 'TotalBsmtSF',\n",
    "                 '1stFlrSF', 'LotFrontage', 'ScreenPorch',\n",
    "                 'WoodDeckSF', 'OverallCond', 'BsmtUnfSF']\n",
    "\n",
    "data = pd.read_csv(\"housing_prices.csv\")\n",
    "data = data[data.LotArea < 15000]  # we focus on small lots\n",
    "data['const'] = 1  # add constant term\n",
    "data = data.filter(lo_predictors).dropna()  # remove all other columns\n",
    "\n",
    "y = data[target].values\n",
    "X = data.drop(target, axis=1)\n",
    "Z = X.values\n",
    "n, p = Z.shape"
   ]
  },
  {
   "cell_type": "markdown",
   "source": [
    "### **Answers**:"
   ],
   "metadata": {
    "collapsed": false,
    "pycharm": {
     "name": "#%% md\n"
    }
   }
  },
  {
   "cell_type": "markdown",
   "source": [
    "#### 1."
   ],
   "metadata": {
    "collapsed": false,
    "pycharm": {
     "name": "#%% md\n"
    }
   }
  },
  {
   "cell_type": "code",
   "execution_count": 138,
   "outputs": [],
   "source": [
    "betas_hat = np.dot((np.dot(np.linalg.inv(np.dot(Z.T, Z)), Z.T)), y)\n",
    "y_hat = Z.dot(betas_hat)"
   ],
   "metadata": {
    "collapsed": false,
    "pycharm": {
     "name": "#%%\n"
    }
   }
  },
  {
   "cell_type": "code",
   "execution_count": 139,
   "outputs": [
    {
     "name": "stdout",
     "output_type": "stream",
     "text": [
      "beta_0 (const) = -3039719.746770506\n",
      "beta_1 (LotArea) = 2.978147078820329\n",
      "beta_2 (YearBuilt) = 616.8396784188517\n",
      "beta_3 (GarageCars) = 21256.547086620998\n",
      "beta_4 (YrSold) = 884.9474678758138\n",
      "beta_5 (MoSold) = 983.7943648802681\n",
      "beta_6 (Fireplaces) = 16763.35942481487\n",
      "beta_7 (HalfBath) = 27915.65103716661\n",
      "beta_8 (LowQualFinSF) = 68.96051889240943\n",
      "beta_9 (TotalBsmtSF) = 43.89618695666137\n",
      "beta_10 (1stFlrSF) = 41.275209770486086\n",
      "beta_11 (LotFrontage) = 0.7334589918268932\n",
      "beta_12 (ScreenPorch) = 22.668025926562713\n",
      "beta_13 (WoodDeckSF) = 30.830913850875596\n",
      "beta_14 (OverallCond) = 7715.939211041576\n",
      "beta_15 (BsmtUnfSF) = -8.101915234063107\n"
     ]
    }
   ],
   "source": [
    "for i, feature in enumerate(X.columns):\n",
    "    print(f'beta_{i} ({feature}) = {betas_hat[i]}')"
   ],
   "metadata": {
    "collapsed": false,
    "pycharm": {
     "name": "#%%\n"
    }
   }
  },
  {
   "cell_type": "code",
   "execution_count": 140,
   "outputs": [],
   "source": [
    "def r_squared(y, y_hat):\n",
    "    SS_Tot = np.sum((y - y.mean()) ** 2)\n",
    "    SS_Fit = np.sum((y_hat - y.mean()) ** 2)\n",
    "    # SS_Res = np.sum((y - y_hat) ** 2)\n",
    "    return SS_Fit / SS_Tot"
   ],
   "metadata": {
    "collapsed": false,
    "pycharm": {
     "name": "#%%\n"
    }
   }
  },
  {
   "cell_type": "code",
   "execution_count": 141,
   "outputs": [
    {
     "name": "stdout",
     "output_type": "stream",
     "text": [
      "R^2 (betas_hat): 0.7452057267966207\n"
     ]
    }
   ],
   "source": [
    "r_squared_betas_hat = r_squared(y, y_hat)\n",
    "print(f'R^2 (betas_hat): {r_squared_betas_hat}')"
   ],
   "metadata": {
    "collapsed": false,
    "pycharm": {
     "name": "#%%\n"
    }
   }
  },
  {
   "cell_type": "code",
   "execution_count": 142,
   "outputs": [
    {
     "data": {
      "text/plain": "array([-3.03971975e+06,  2.97814708e+00,  6.16839678e+02,  2.12565471e+04,\n        8.84947468e+02,  9.83794365e+02,  1.67633594e+04,  2.79156510e+04,\n        6.89605189e+01,  4.38961870e+01,  4.12752098e+01,  7.33458992e-01,\n        2.26680259e+01,  3.08309139e+01,  7.71593921e+03, -8.10191523e+00])"
     },
     "execution_count": 142,
     "metadata": {},
     "output_type": "execute_result"
    }
   ],
   "source": [
    "# obtaining the parameters of regression line\n",
    "betas_hat_svd = np.linalg.lstsq(Z, y, rcond=13 - 6)[0]\n",
    "betas_hat_svd"
   ],
   "metadata": {
    "collapsed": false,
    "pycharm": {
     "name": "#%%\n"
    }
   }
  },
  {
   "cell_type": "code",
   "execution_count": 143,
   "outputs": [],
   "source": [
    "# https://numpy.org/doc/stable/reference/generated/numpy.linalg.svd.html\n",
    "U, sigma, VT = np.linalg.svd(Z)\n",
    "y_star = np.dot(U.T, y)\n",
    "# sigma[sigma / sigma[0] <= 1e-6] = 0\n",
    "# betas_star = y_star / sigma.reshape(-1, 1)\n",
    "# betas_hat_svd_2 = np.dot(VT.T, betas_star)\n",
    "# y_hat_svd = np.dot(U.T, y)"
   ],
   "metadata": {
    "collapsed": false,
    "pycharm": {
     "name": "#%%\n"
    }
   }
  },
  {
   "cell_type": "code",
   "execution_count": 144,
   "outputs": [
    {
     "name": "stdout",
     "output_type": "stream",
     "text": [
      "R^2 (betas_hat_svd): 12.43419418275706\n"
     ]
    }
   ],
   "source": [
    "r_squared_betas_svd = r_squared(y, y_star)\n",
    "print(f'R^2 (betas_hat_svd): {r_squared_betas_svd}')"
   ],
   "metadata": {
    "collapsed": false,
    "pycharm": {
     "name": "#%%\n"
    }
   }
  },
  {
   "cell_type": "markdown",
   "source": [
    "So R^2^ (betas_hat_svd) is larger than R^2^ (betas_hat)"
   ],
   "metadata": {
    "collapsed": false,
    "pycharm": {
     "name": "#%% md\n"
    }
   }
  },
  {
   "cell_type": "markdown",
   "source": [
    "#### 2."
   ],
   "metadata": {
    "collapsed": false,
    "pycharm": {
     "name": "#%% md\n"
    }
   }
  },
  {
   "cell_type": "code",
   "execution_count": 148,
   "outputs": [
    {
     "data": {
      "text/plain": "<Figure size 432x288 with 1 Axes>",
      "image/png": "[encoded data removed]"
     },
     "metadata": {
      "needs_background": "light"
     },
     "output_type": "display_data"
    }
   ],
   "source": [
    "import matplotlib.pyplot as plt\n",
    "\n",
    "plt.hist(y_hat, alpha=.5, color='r', density=True)\n",
    "plt.hist(y_star, alpha=.5, color='b', density=True)\n",
    "plt.show()"
   ],
   "metadata": {
    "collapsed": false,
    "pycharm": {
     "name": "#%%\n"
    }
   }
  },
  {
   "cell_type": "markdown",
   "source": [
    "#### 3."
   ],
   "metadata": {
    "collapsed": false,
    "pycharm": {
     "name": "#%% md\n"
    }
   }
  },
  {
   "cell_type": "code",
   "execution_count": 162,
   "outputs": [
    {
     "data": {
      "text/plain": "<Figure size 432x288 with 1 Axes>",
      "image/png": "[encoded data removed]"
     },
     "metadata": {
      "needs_background": "light"
     },
     "output_type": "display_data"
    }
   ],
   "source": [
    "plt.scatter(list(range(0, p)), np.log(betas_hat / betas_hat_svd))\n",
    "plt.xlabel('i')\n",
    "plt.ylabel('log(betas_hat / betas_hat_svd)')\n",
    "plt.title('log(betas_hat_i / betas_hat_svd_i) vs. i')\n",
    "plt.show()"
   ],
   "metadata": {
    "collapsed": false,
    "pycharm": {
     "name": "#%%\n"
    }
   }
  },
  {
   "cell_type": "markdown",
   "id": "40894d3d",
   "metadata": {
    "pycharm": {
     "name": "#%% md\n"
    }
   },
   "source": [
    "---\n",
    "## Problem 2 ($t$-test is a kind of ANOVA)\n",
    "Consider the following two-sample problem. The data is\n",
    "$$\n",
    "y_{ij} = \\mu_i + \\epsilon_{ij},\\qquad j=1,\\ldots,n_i,\\quad i=0,1. \n",
    "$$\n",
    "\n",
    "1. Find the statistic $t$ for the two-sample $t$ test (using of the observable variables)\n",
    "2. Write the ANOVA table for $k=2$ and find the F statistic $F$ (using of the observable variables)\n",
    "3. Conclude that $t^2 = F$. \n",
    "4. Does the test that rejects when $|t| > t_{n-1}^{1-\\alpha/2}$ has larger power than the test that rejects when $F > F_{1,n-1}^{1-\\alpha}$? less? same?\n"
   ]
  },
  {
   "cell_type": "markdown",
   "source": [
    "### **Answers**:"
   ],
   "metadata": {
    "collapsed": false,
    "pycharm": {
     "name": "#%% md\n"
    }
   }
  },
  {
   "cell_type": "markdown",
   "source": [
    "#### 1.\n",
    "Cell mean model:\n",
    "$y_{ij} = \\mu_i + \\epsilon_{ij},\\qquad j=1,\\ldots,n_i,\\quad i=0,1$\n",
    "$\\epsilon_{ij} \\sim^{iid}  N(0, \\sigma^2)$\n",
    "\n",
    "\n",
    "As seen in lecture 6, we can rewrite this model in matrix notation:\n",
    "$Y \\sim N(Z\\beta, \\sigma^2 I_n)$ where\n",
    "$$Y = \\begin{bmatrix}\n",
    " y_{01} \\\\\n",
    " y_{02} \\\\\n",
    " \\vdots \\\\\n",
    " y_{0 n_0} \\\\\n",
    " y_{11} \\\\\n",
    " y_{12} \\\\\n",
    " \\vdots \\\\\n",
    " y_{1 n_1}\n",
    "\\end{bmatrix}\n",
    "\\quad\n",
    "\n",
    "Z = \\begin{bmatrix}\n",
    " 1 & 0\\\\\n",
    " 1 & 0\\\\\n",
    " \\vdots & \\vdots \\\\\n",
    " 1 & 0\\\\\n",
    " 0 & 1\\\\\n",
    " 0 & 1\\\\\n",
    " \\vdots & \\vdots \\\\\n",
    " 0 & 1\\\\\n",
    "\\end{bmatrix}\n",
    "\\in \\mathbb{R}^{n \\times 2}\n",
    "\\quad\n",
    "\n",
    "\\beta = \\begin{bmatrix}\n",
    " \\mu_0 \\\\\n",
    " \\mu_1 \\\\\n",
    "\\end{bmatrix}\n",
    "$$\n",
    "\n",
    "Our null hypothesis is $H_0: \\mu_0 = \\mu_1$.\n",
    "\n",
    "We will develop a test against $H_0$ based on properties of the linear model.\n",
    "\n",
    "$\\bar{Y_0} = \\frac{1}{n_0}\\sum_{i=1}^{n_0} Y_i$\n",
    "\n",
    "\n",
    "$$\n",
    "t = \\frac{\\bar{Y_1} - \\bar{Y_0}}{s \\sqrt{\\frac{1}{n_1} + \\frac{1}{n_0}}}\n",
    "$$"
   ],
   "metadata": {
    "collapsed": false,
    "pycharm": {
     "name": "#%% md\n"
    }
   }
  },
  {
   "cell_type": "markdown",
   "source": [
    "#### 2.\n"
   ],
   "metadata": {
    "collapsed": false,
    "pycharm": {
     "name": "#%% md\n"
    }
   }
  },
  {
   "cell_type": "markdown",
   "source": [
    "#### 3.\n"
   ],
   "metadata": {
    "collapsed": false,
    "pycharm": {
     "name": "#%% md\n"
    }
   }
  },
  {
   "cell_type": "markdown",
   "source": [
    "#### 4.\n"
   ],
   "metadata": {
    "collapsed": false,
    "pycharm": {
     "name": "#%% md\n"
    }
   }
  },
  {
   "cell_type": "markdown",
   "id": "7777ba79",
   "metadata": {
    "pycharm": {
     "name": "#%% md\n"
    }
   },
   "source": [
    "---\n",
    "## Problem 3 (ANOVA Decomposition)\n",
    "In class, we considered the decomposition:\n",
    "$$\n",
    "\\begin{equation}\n",
    "\\mathrm{SS}_{tot} = \\mathrm{SS}_{within} + \\mathrm{SS}_{between}\n",
    "\\label{eq:ANOVA} \\tag{1}\n",
    "\\end{equation}\n",
    "$$\n",
    "where\n",
    "$$\n",
    "\\mathrm{SS}_{between} = \\sum_{i=1}^k n_i(\\bar{y}_{i\\cdot} - \\bar{y}_{\\cdot \\cdot})^2,\\qquad \\mathrm{SS}_{within} = \\sum_{i=1}^k \\sum_{j=1}^{n_i} (y_{ij} - \\bar{y}_{i\\cdot})^2\n",
    "$$\n",
    "Prove $\\eqref{eq:ANOVA}$ by expanding:\n",
    "$$\n",
    "\\mathrm{SS}_{tot} = \\sum_{i=1}^k \\sum_{j=1}^{n_i} (y_{ij} - \\bar{y}_{\\cdot \\cdot})^2 = \\sum_{i=1}^k \\sum_{j=1}^{n_i} (y_{ij} - \\bar{y}_{i\\cdot} + \\bar{y}_{i\\cdot} - \\bar{y}_{\\cdot \\cdot})^2 = ...\n",
    "$$"
   ]
  },
  {
   "cell_type": "markdown",
   "source": [
    "### **Answers**:"
   ],
   "metadata": {
    "collapsed": false,
    "pycharm": {
     "name": "#%% md\n"
    }
   }
  },
  {
   "cell_type": "code",
   "execution_count": null,
   "outputs": [],
   "source": [],
   "metadata": {
    "collapsed": false,
    "pycharm": {
     "name": "#%%\n"
    }
   }
  },
  {
   "cell_type": "markdown",
   "id": "b0d16fa4",
   "metadata": {
    "pycharm": {
     "name": "#%% md\n"
    }
   },
   "source": [
    "---\n",
    "## Problem 4 (ANOVA and multiple testing in Practice)\n",
    "\n",
    "Consider Israeli wines in the wine dataset ``winemag-data_first150k.csv`` used in class (downloaded from Kaggle https://www.kaggle.com/datasets/zynicide/wine-reviews?select=winemag-data_first150k.csv). Use ANOVA to measure the effect of winery (``winery``) on the quality (``points``) of wine of variety ``Cabernet Sauvignon``.\n",
    "1. Load dataset; keep only relevant records according to the fields ``country`` and ``variety``; remove wineries with 1 or fewer samples (because we cannot do ANOVA for those)\n",
    "2. Plot the boxplot with ``winery`` as the x-axis and ``points`` as the y-axis.\n",
    "3. Use ANOVA to figure out whether some wineries make better Cabernets than others; print the ANOVA table and explain your conclusion\n",
    "4. Find which wineries have Cabernets ranked higher than others:\n",
    " - Run all paired t-tests; how many of the test's P-values fall below 0.05? is it more than what is expected if all tests are null?\n",
    " - Use Bonferroni's method to decide which wineries ranked significantly higher than others by reporting on the list of pairs whose P-value is significant after Bonferroni's correction. Also indicate which one is ranked higher out of each pair."
   ]
  },
  {
   "cell_type": "markdown",
   "source": [
    "### **Answers**:"
   ],
   "metadata": {
    "collapsed": false,
    "pycharm": {
     "name": "#%% md\n"
    }
   }
  },
  {
   "cell_type": "markdown",
   "source": [
    "#### 1."
   ],
   "metadata": {
    "collapsed": false,
    "pycharm": {
     "name": "#%% md\n"
    }
   }
  },
  {
   "cell_type": "code",
   "execution_count": 145,
   "id": "14c26dd9",
   "metadata": {
    "pycharm": {
     "name": "#%%\n"
    }
   },
   "outputs": [],
   "source": []
  }
 ],
 "metadata": {
  "kernelspec": {
   "display_name": "Python 3",
   "language": "python",
   "name": "python3"
  },
  "language_info": {
   "codemirror_mode": {
    "name": "ipython",
    "version": 3
   },
   "file_extension": ".py",
   "mimetype": "text/x-python",
   "name": "python",
   "nbconvert_exporter": "python",
   "pygments_lexer": "ipython3",
   "version": "3.8.5"
  }
 },
 "nbformat": 4,
 "nbformat_minor": 5
}